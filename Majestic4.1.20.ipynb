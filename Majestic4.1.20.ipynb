{
 "cells": [
  {
   "cell_type": "code",
   "execution_count": 1,
   "metadata": {},
   "outputs": [],
   "source": [
    "import pandas as pd\n",
    "import numpy as np\n",
    "from matplotlib import pyplot as plt\n",
    "import seaborn as sns\n",
    "import re\n",
    "import plotly\n",
    "plt.style.use('ggplot')"
   ]
  },
  {
   "cell_type": "code",
   "execution_count": 437,
   "metadata": {},
   "outputs": [],
   "source": [
    "majestic_df = pd.read_csv('majestic6.csv', header=None)\n",
    "next_df = pd.read_csv('majestic7.csv', header=None)\n",
    "next2 = pd.read_csv('majestic10.csv', header=None)\n",
    "next3 = pd.read_csv('majestic11.csv', header=None)\n",
    "next4 = pd.read_csv('majestic12.csv', header=None)"
   ]
  },
  {
   "cell_type": "code",
   "execution_count": 438,
   "metadata": {},
   "outputs": [],
   "source": [
    "# concatenating scraped csvs\n",
    "majestic_df = pd.concat([majestic_df, next_df, next2, next3, next4], ignore_index=True)"
   ]
  },
  {
   "cell_type": "code",
   "execution_count": 439,
   "metadata": {},
   "outputs": [],
   "source": [
    "#renaming columns\n",
    "majestic_df.columns = ['Name', 'Percentage of reviewers who would buy again',\n",
    "                       'Number of Reviewers', 'Awards', 'Volume', 'ABV',\n",
    "                       'Short Description', 'Long Description', 'Per Bottle Price',\n",
    "                       'Mix Six Price', 'Type', 'Style', 'Closure', 'Units', 'Grape', 'Country']\n",
    "# reordering\n",
    "columnTitles=['Name', 'Country', 'Type', 'Style', 'Grape',\n",
    "              'Short Description', 'Long Description',\n",
    "              'Per Bottle Price', 'Mix Six Price',\n",
    "              'Percentage of reviewers who would buy again',\n",
    "              'Number of Reviewers', 'Awards', 'Closure',\n",
    "              'ABV', 'Units', 'Volume']\n",
    "\n",
    "majestic_df=majestic_df.reindex(columns=columnTitles)"
   ]
  },
  {
   "cell_type": "code",
   "execution_count": 440,
   "metadata": {},
   "outputs": [
    {
     "data": {
      "text/plain": [
       "(808, 16)"
      ]
     },
     "execution_count": 440,
     "metadata": {},
     "output_type": "execute_result"
    }
   ],
   "source": [
    "majestic_df.shape"
   ]
  },
  {
   "cell_type": "code",
   "execution_count": 441,
   "metadata": {},
   "outputs": [
    {
     "data": {
      "text/plain": [
       "(790, 16)"
      ]
     },
     "execution_count": 441,
     "metadata": {},
     "output_type": "execute_result"
    }
   ],
   "source": [
    "# dropping duplicates\n",
    "majestic_df.drop_duplicates(subset=None, keep='first', inplace=True)\n",
    "majestic_df.shape"
   ]
  },
  {
   "cell_type": "code",
   "execution_count": 442,
   "metadata": {},
   "outputs": [],
   "source": [
    "### Data Cleaning"
   ]
  },
  {
   "cell_type": "code",
   "execution_count": 443,
   "metadata": {},
   "outputs": [],
   "source": [
    "majestic_df[majestic_df['Mix Six Price'] == 'Red'] = 0\n",
    "majestic_df[majestic_df['Mix Six Price'] == 'White'] = 0\n",
    "majestic_df['Mix Six Price'] = majestic_df['Mix Six Price'].fillna(0)\n",
    "majestic_df['Mix Six Price'] = pd.to_numeric(majestic_df['Mix Six Price'])\n",
    "majestic_df[majestic_df['Mix Six Price'] == 0] = np.nan"
   ]
  },
  {
   "cell_type": "code",
   "execution_count": 444,
   "metadata": {
    "scrolled": true
   },
   "outputs": [],
   "source": [
    "majestic_df['Number of Reviewers'] = majestic_df['Number of Reviewers'].fillna(0)\n",
    "majestic_df['Number of Reviewers'] = majestic_df['Number of Reviewers'].astype(str)\n",
    "majestic_df['Number of Reviewers'] = majestic_df['Number of Reviewers'].str.replace(',', '').astype(float) \n",
    "majestic_df[majestic_df['Number of Reviewers'] == 0] = np.nan\n"
   ]
  },
  {
   "cell_type": "code",
   "execution_count": 445,
   "metadata": {},
   "outputs": [],
   "source": [
    "majestic_df['Savings'] = majestic_df['Per Bottle Price']-majestic_df['Mix Six Price']\n",
    "majestic_df['Percent Saved'] = round(majestic_df['Savings']/majestic_df['Per Bottle Price']*100, 0)\n",
    "majestic_df['price_for_75cl'] = (majestic_df['Per Bottle Price']/majestic_df['Volume'])*75"
   ]
  },
  {
   "cell_type": "code",
   "execution_count": 446,
   "metadata": {},
   "outputs": [],
   "source": [
    "majestic_df[majestic_df['Short Description'] == 'CHILE'] = np.nan\n",
    "majestic_df[majestic_df['Short Description'] == 'NEW ZEALAND'] = np.nan"
   ]
  },
  {
   "cell_type": "code",
   "execution_count": null,
   "metadata": {},
   "outputs": [],
   "source": []
  },
  {
   "cell_type": "code",
   "execution_count": null,
   "metadata": {},
   "outputs": [],
   "source": []
  },
  {
   "cell_type": "code",
   "execution_count": 447,
   "metadata": {},
   "outputs": [],
   "source": [
    "majestic_df.Awards.replace(np.nan, '[]', inplace=True)"
   ]
  },
  {
   "cell_type": "code",
   "execution_count": 448,
   "metadata": {},
   "outputs": [],
   "source": [
    "majestic_df.Awards = majestic_df.Awards.apply(lambda x: x[1:-1])"
   ]
  },
  {
   "cell_type": "code",
   "execution_count": 449,
   "metadata": {},
   "outputs": [],
   "source": [
    "majestic_df['Number_of_Awards'] = majestic_df.Awards.apply(lambda x: len(x))\n",
    "majestic_df.Awards = majestic_df.Awards.apply(lambda x: x.split(', '))"
   ]
  },
  {
   "cell_type": "code",
   "execution_count": 450,
   "metadata": {},
   "outputs": [],
   "source": [
    "award_df = pd.DataFrame(majestic_df[majestic_df.Number_of_Awards > 0].Awards.apply(lambda x: len(x)))\n",
    "award_df.columns = ['Number of Awards']\n",
    "majestic_df = pd.merge(majestic_df, award_df, how='left', left_index=True, right_index=True)\n",
    "majestic_df['Number of Awards'] = majestic_df['Number of Awards'].fillna(0)\n",
    "majestic_df['Number of Awards'] = majestic_df['Number of Awards'].apply(lambda x: int(x))\n",
    "majestic_df = majestic_df.drop('Number_of_Awards', axis = 1)"
   ]
  },
  {
   "cell_type": "code",
   "execution_count": null,
   "metadata": {},
   "outputs": [],
   "source": []
  },
  {
   "cell_type": "code",
   "execution_count": 451,
   "metadata": {},
   "outputs": [
    {
     "data": {
      "text/plain": [
       "0.7367088607594937"
      ]
     },
     "execution_count": 451,
     "metadata": {},
     "output_type": "execute_result"
    }
   ],
   "source": [
    "majestic_df.Grape.isna().sum()/majestic_df.shape[0]"
   ]
  },
  {
   "cell_type": "code",
   "execution_count": 452,
   "metadata": {},
   "outputs": [],
   "source": [
    "majestic_df.Grape = majestic_df.Grape.fillna('?')\n",
    "majestic_df.Grape = majestic_df.Grape.apply(lambda x: x.split(', '))"
   ]
  },
  {
   "cell_type": "code",
   "execution_count": 453,
   "metadata": {},
   "outputs": [],
   "source": [
    "df_grape = majestic_df.copy()\n",
    "# i keeps tracks of index\n",
    "index=0\n",
    "# save [index, genre] in a nested list\n",
    "list_ = []\n",
    "for item in df_grape.Grape:\n",
    "    list_.extend(map(lambda x: [index, x], item))\n",
    "    index += 1\n",
    "grapes = pd.DataFrame(list_, columns=['index', 'grapes'])"
   ]
  },
  {
   "cell_type": "code",
   "execution_count": 454,
   "metadata": {},
   "outputs": [],
   "source": [
    "df_grape = pd.merge(df_grape.drop('Grape', axis=1), grapes, how='right', left_index=True, right_on='index')\n",
    "top_grapes_df = df_grape.groupby('grapes').filter(lambda x: x.shape[0] > 8 and x.shape[0] < 200)"
   ]
  },
  {
   "cell_type": "code",
   "execution_count": 455,
   "metadata": {},
   "outputs": [
    {
     "data": {
      "text/plain": [
       "(array([0, 1, 2, 3, 4, 5, 6, 7, 8, 9]), <a list of 10 Text xticklabel objects>)"
      ]
     },
     "execution_count": 455,
     "metadata": {},
     "output_type": "execute_result"
    },
    {
     "data": {
      "image/png": "[encoded data removed]",
      "text/plain": [
       "<Figure size 432x288 with 1 Axes>"
      ]
     },
     "metadata": {
      "needs_background": "light"
     },
     "output_type": "display_data"
    }
   ],
   "source": [
    "top_grapes_df.groupby('grapes')['Per Bottle Price'].mean().sort_values(ascending=False)[0:10].plot.bar(color='g')\n",
    "plt.title('Average Price of Top 10 Most Used Grapes')\n",
    "plt.ylabel('Price (£)')\n",
    "plt.xlabel('Grape')\n",
    "plt.xticks(rotation=70)"
   ]
  },
  {
   "cell_type": "code",
   "execution_count": null,
   "metadata": {},
   "outputs": [],
   "source": []
  },
  {
   "cell_type": "code",
   "execution_count": null,
   "metadata": {},
   "outputs": [],
   "source": []
  },
  {
   "cell_type": "code",
   "execution_count": 456,
   "metadata": {},
   "outputs": [
    {
     "data": {
      "text/plain": [
       "Text(0, 0.5, 'Price (£)')"
      ]
     },
     "execution_count": 456,
     "metadata": {},
     "output_type": "execute_result"
    },
    {
     "data": {
      "image/png": "[encoded data removed]",
      "text/plain": [
       "<Figure size 432x288 with 1 Axes>"
      ]
     },
     "metadata": {
      "needs_background": "light"
     },
     "output_type": "display_data"
    }
   ],
   "source": [
    "majestic_df.groupby('Number of Awards')['Per Bottle Price'].mean().plot.bar(color='b')\n",
    "plt.title('Average Price to Number of Awards')\n",
    "plt.ylabel('Price (£)')"
   ]
  },
  {
   "cell_type": "code",
   "execution_count": 457,
   "metadata": {},
   "outputs": [
    {
     "data": {
      "text/plain": [
       "Text(0, 0.5, 'Number of Bottles')"
      ]
     },
     "execution_count": 457,
     "metadata": {},
     "output_type": "execute_result"
    },
    {
     "data": {
      "image/png": "[encoded data removed]",
      "text/plain": [
       "<Figure size 432x288 with 1 Axes>"
      ]
     },
     "metadata": {
      "needs_background": "light"
     },
     "output_type": "display_data"
    }
   ],
   "source": [
    "majestic_df.groupby('Number of Awards')['Number of Awards'].count().plot.bar(color='b')\n",
    "plt.title('Proportion of bottles with awards')\n",
    "plt.ylabel('Number of Bottles')"
   ]
  },
  {
   "cell_type": "code",
   "execution_count": null,
   "metadata": {},
   "outputs": [],
   "source": []
  },
  {
   "cell_type": "code",
   "execution_count": null,
   "metadata": {},
   "outputs": [],
   "source": []
  },
  {
   "cell_type": "code",
   "execution_count": 477,
   "metadata": {},
   "outputs": [
    {
     "data": {
      "text/plain": [
       "(array([0, 1, 2, 3, 4, 5, 6, 7, 8, 9]), <a list of 10 Text xticklabel objects>)"
      ]
     },
     "execution_count": 477,
     "metadata": {},
     "output_type": "execute_result"
    },
    {
     "data": {
      "image/png": "[encoded data removed]",
      "text/plain": [
       "<Figure size 432x288 with 1 Axes>"
      ]
     },
     "metadata": {
      "needs_background": "light"
     },
     "output_type": "display_data"
    }
   ],
   "source": [
    "df_grape[df_grape['Number of Awards']>0].groupby('grapes')['grapes'].count().sort_values(ascending=False)[1:11].plot.bar(color='g')\n",
    "plt.title('Number of Awards Per Grape')\n",
    "plt.ylabel('Number of Awards')\n",
    "plt.xlabel('Grape')\n",
    "plt.xticks(rotation=70)"
   ]
  },
  {
   "cell_type": "code",
   "execution_count": 473,
   "metadata": {},
   "outputs": [
    {
     "data": {
      "text/plain": [
       "(array([0, 1, 2, 3, 4, 5, 6, 7, 8, 9]), <a list of 10 Text xticklabel objects>)"
      ]
     },
     "execution_count": 473,
     "metadata": {},
     "output_type": "execute_result"
    },
    {
     "data": {
      "image/png": "[encoded data removed]",
      "text/plain": [
       "<Figure size 432x288 with 1 Axes>"
      ]
     },
     "metadata": {
      "needs_background": "light"
     },
     "output_type": "display_data"
    }
   ],
   "source": [
    "df_grape[df_grape['Number of Awards']>0].groupby('Country')['Country'].count().sort_values(ascending=False)[1:11].plot.bar(color='g')\n",
    "plt.title('Number of Awards Per Country')\n",
    "plt.ylabel('Number of Awards')\n",
    "plt.xlabel('Country')\n",
    "plt.xticks(rotation=70)"
   ]
  },
  {
   "cell_type": "code",
   "execution_count": null,
   "metadata": {},
   "outputs": [],
   "source": []
  },
  {
   "cell_type": "code",
   "execution_count": null,
   "metadata": {},
   "outputs": [],
   "source": []
  },
  {
   "cell_type": "code",
   "execution_count": 483,
   "metadata": {},
   "outputs": [
    {
     "data": {
      "text/plain": [
       "Text(0, 0.5, 'Grape')"
      ]
     },
     "execution_count": 483,
     "metadata": {},
     "output_type": "execute_result"
    },
    {
     "data": {
      "image/png": "[encoded data removed]",
      "text/plain": [
       "<Figure size 432x288 with 1 Axes>"
      ]
     },
     "metadata": {
      "needs_background": "light"
     },
     "output_type": "display_data"
    }
   ],
   "source": [
    "top_grapes_df.groupby('grapes')['Percentage of reviewers who would buy again'].mean().sort_values(ascending=True).plot.barh(color='r')\n",
    "plt.title('Best Reviewed Grapes')\n",
    "plt.xlabel('Percentage who would buy again')\n",
    "plt.ylabel('Grape')"
   ]
  },
  {
   "cell_type": "code",
   "execution_count": null,
   "metadata": {},
   "outputs": [],
   "source": [
    "\n"
   ]
  },
  {
   "cell_type": "code",
   "execution_count": null,
   "metadata": {},
   "outputs": [],
   "source": []
  },
  {
   "cell_type": "code",
   "execution_count": 76,
   "metadata": {},
   "outputs": [
    {
     "data": {
      "text/plain": [
       "Text(0.5, 1.0, 'Country by Average Price')"
      ]
     },
     "execution_count": 76,
     "metadata": {},
     "output_type": "execute_result"
    },
    {
     "data": {
      "image/png": "[encoded data removed]",
      "text/plain": [
       "<Figure size 432x288 with 1 Axes>"
      ]
     },
     "metadata": {
      "needs_background": "light"
     },
     "output_type": "display_data"
    }
   ],
   "source": [
    "majestic_df.groupby('Country')['Per Bottle Price'].mean().sort_values(ascending=False).plot.bar(color='b')\n",
    "plt.xticks(rotation=70)\n",
    "plt.title('Country by Average Price')"
   ]
  },
  {
   "cell_type": "code",
   "execution_count": 77,
   "metadata": {},
   "outputs": [
    {
     "data": {
      "text/plain": [
       "<matplotlib.axes._subplots.AxesSubplot at 0x248b4afe2b0>"
      ]
     },
     "execution_count": 77,
     "metadata": {},
     "output_type": "execute_result"
    },
    {
     "data": {
      "image/png": "[encoded data removed]",
      "text/plain": [
       "<Figure size 432x288 with 1 Axes>"
      ]
     },
     "metadata": {
      "needs_background": "light"
     },
     "output_type": "display_data"
    }
   ],
   "source": [
    "outliers = majestic_df[['Per Bottle Price']]\n",
    "outliers = outliers.loc[outliers.apply(lambda x: np.abs(x - x.mean()) / x.std() < 3).all(axis=1)]\n",
    "sns.kdeplot(outliers['Per Bottle Price'], shade=True)"
   ]
  },
  {
   "cell_type": "code",
   "execution_count": 78,
   "metadata": {},
   "outputs": [
    {
     "data": {
      "text/plain": [
       "Text(0.5, 1.0, 'Price by Wine Type')"
      ]
     },
     "execution_count": 78,
     "metadata": {},
     "output_type": "execute_result"
    },
    {
     "data": {
      "image/png": "[encoded data removed]",
      "text/plain": [
       "<Figure size 432x288 with 1 Axes>"
      ]
     },
     "metadata": {
      "needs_background": "light"
     },
     "output_type": "display_data"
    }
   ],
   "source": [
    "majestic_df.groupby('Type')['price_for_75cl'].mean().sort_values(ascending=True).plot.bar(color = 'b')\n",
    "plt.ylabel('Average Price (adjusted for 75cl)')\n",
    "plt.xticks(rotation=45)\n",
    "plt.title('Price by Wine Type')"
   ]
  },
  {
   "cell_type": "code",
   "execution_count": 79,
   "metadata": {
    "scrolled": true
   },
   "outputs": [
    {
     "data": {
      "text/plain": [
       "Text(0.5, 1.0, 'Price Distribution for Red and White Wine')"
      ]
     },
     "execution_count": 79,
     "metadata": {},
     "output_type": "execute_result"
    },
    {
     "data": {
      "image/png": "[encoded data removed]",
      "text/plain": [
       "<Figure size 432x288 with 1 Axes>"
      ]
     },
     "metadata": {
      "needs_background": "light"
     },
     "output_type": "display_data"
    }
   ],
   "source": [
    "type_red = majestic_df[majestic_df['Type']=='Red']\n",
    "type_white = majestic_df[majestic_df['Type']=='White']\n",
    "\n",
    "type_red_cut = type_red[type_red['Per Bottle Price']<60]\n",
    "type_white_cut = type_white[type_white['Per Bottle Price']<60]\n",
    "\n",
    "sns.distplot(type_red_cut[['Per Bottle Price']], hist=False, color='r')\n",
    "sns.distplot(type_white_cut[['Per Bottle Price']], hist=False, color='g')\n",
    "plt.xlabel('Price (£)')\n",
    "plt.title('Price Distribution for Red and White Wine')"
   ]
  },
  {
   "cell_type": "code",
   "execution_count": 80,
   "metadata": {},
   "outputs": [
    {
     "data": {
      "text/plain": [
       "Text(0.5, 1.0, 'Histogram for Number of Reviews')"
      ]
     },
     "execution_count": 80,
     "metadata": {},
     "output_type": "execute_result"
    },
    {
     "data": {
      "image/png": "[encoded data removed]",
      "text/plain": [
       "<Figure size 432x288 with 1 Axes>"
      ]
     },
     "metadata": {
      "needs_background": "light"
     },
     "output_type": "display_data"
    }
   ],
   "source": [
    "### Masses never reveiwed\n",
    "\n",
    "plt.hist(majestic_df['Number of Reviewers'], bins=50)\n",
    "plt.xlabel('Reviews')\n",
    "plt.ylabel('Bottles')\n",
    "plt.title('Histogram for Number of Reviews')"
   ]
  },
  {
   "cell_type": "code",
   "execution_count": 81,
   "metadata": {},
   "outputs": [
    {
     "data": {
      "application/vnd.plotly.v1+json": {
       "config": {
        "plotlyServerURL": "https://plot.ly"
       },
       "data": [
        {
         "hoverlabel": {
          "namelength": 0
         },
         "hovertemplate": "<b>%{hovertext}</b><br><br>Number of Reviewers=%{x}<br>Percentage of reviewers who would buy again=%{y}",
         "hovertext": [
          "Bread & Butter Chardonnay 2017, California",
          "Nero Oro Appassimento 2018, Sicily",
          "Jaboulet Viognier 2018, France",
          "Dawn Star Sauvignon Blanc 2018, Marlborough",
          "Definition Zinfandel 2017, Lodi",
          "Behind Closed Doors Reserva Lisboa Red 2016, Portugal",
          "The Guv'nor",
          "Château Recougne 2016, Bordeaux Supérieur",
          "Castaway Island Marlborough Sauvignon Blanc 2018",
          "Beefsteak Club Malbec 2017 Mendoza",
          "Porta 6 Reserva 2017",
          "La Belle Angele Rose 2018 VdF",
          "Porta 6 Vinho Verde 2018",
          "Las Maletas Malbec 2018/19 Mendoza",
          "Pinot Grigio Superiore 2018 Breganze",
          "Definition Albarino 2018",
          "Rioja Gran Reserva 2011 Viña Alarde",
          "Catena Malbec 2017 Mendoza",
          "Rioja Blanco 2018 López de Haro",
          "Rioja Crianza 2016 CVNE",
          "Rioja Reserva Marqués de Riscal 2015",
          "Jas de Vignes IGP Mediterranee Rosé 2018",
          "The Ned Waihopai River Sauvignon Blanc 2018 Marlborough",
          "Grand Ardèche Chardonnay 2017 Louis Latour",
          "Oyster Bay Sauvignon Blanc 2018 Marlborough",
          "Mâcon-Villages Blanc 'Les Pierres Blanches' 2017 Cave de Lugny",
          "Porta 6 2017 Lisboa",
          "Nero Oro Riserva 2016, Sicily",
          "Montagny 1er Cru 'Les Millières' 2018 Cave des Vignerons de Buxy",
          "Côtes du Rhône 2015 E. Guigal",
          "Mollydooker The Boxer Shiraz 2017 South Australia",
          "Mâcon-Lugny 2017 Louis Latour",
          "Villemarin Picpoul de Pinet 2018 Côteaux du Languedoc",
          "Surani Costarossa 2018 Primitivo di Manduria",
          "Gigondas Domaine Des Capes 2017, Rhône",
          "Villa Maria Private Bin Sauvignon Blanc 2018/19, Marlborough",
          "Making Tracks Shiraz 2018",
          "Caixas Albariño 2017/18 Rías Baixas",
          "Quinta do Carmo 'Dom Martinho' 2017, Alentejo",
          "S&R Douro Red, 2017",
          "Silver Ghost Sauvignon Blanc 2019 Central Valley",
          "Chablis 2018, Bouchard Ainé & Fils, France",
          "Olivier Dubois Cuvee Prestige Pinot Noir 2017 VdF",
          "Definition Marlborough Sauvignon Blanc 2018",
          "Marcelo Pelleriti Malbec 2018 Valle De Uco, Mendoza",
          "Rioja Reserva Viña Ardanza 2009 La Rioja Alta",
          "Valpolicella Ripasso 2017 Villa Borghetti",
          "The King's Legacy Chardonnay 2017 Marlborough",
          "Rioja Reserva 2014 Beronia",
          "Abbotts & Delaunay Viognier 2018",
          "Pinot Noir Domaine de Valmoissine 2016 Louis Latour",
          "Devil's Creek Marlborough Sauvignon Blanc 2018",
          "Definition Rioja Reserva 2013",
          "Passimento 2016 Pasqua",
          "Finca Carelio Tempranillo 2015 Vino de la Tierra",
          "Valpolicella Superiore Ripasso 2016 La Casetta",
          "Rioja Reserva 2015 CVNE",
          "Albariño Martín Códax 2017/18 Rías Baixas",
          "Château Caronne Ste-Gemme 2014 Haut-Médoc",
          "Penfolds Bin 28 Kalimna Shiraz 2016 South Australia",
          "Valle Antigua Merlot 2017",
          "Agenda, Dão Manager's Choice 2016",
          "Kangarilla Road Shiraz 2017/18 McLaren Vale",
          "M de Minuty Rosé 2018, Côtes de Provence",
          "Planalto White Reserva 2018 Douro",
          "Russian Jack Sauvignon Blanc 2017 Marlborough",
          "Chateau Tour Bayard Montagne 2015",
          "Tenacity Old Vine Shiraz 2018",
          "Cloudy Bay Sauvignon Blanc 2018 Marlborough",
          "Vieux Remparts 2017 Lussac St-Emilion",
          "Sancerre Cóte des Embouffants 2018 Domaine Roger Neveu",
          "Incanta Pinot Noir 2018",
          "Ch St Michelle Cabernet Sauvignon 2016",
          "Viñalba Reserve Malbec 2017 Mendoza",
          "Masi 'Costaser' Amarone Classico 2013 DOCG, Valpolicella",
          "Majestic Loves Sauvignon 2019",
          "Alamos Uco Valley Malbec 2018",
          "Fleurie 2018 Georges Duboeuf",
          "Silver Ghost Cabernet Sauvignon 2016 Central Valley",
          "Mâcon-Villages 'Les Roches Blanches' 2018 Louis Jadot",
          "Definition Marlborough Pinot Noir 2017",
          "Pinot Grigio Rosato 2018 Delle Venezie",
          "Whispering Angel Rosé 2018",
          "La Belle Angele Sauvignon Blanc 2017/18",
          "Mud House Sauvignon Blanc 2018 Marlborough",
          "The Ned Pinot Noir 2017 Southern Valleys, Marlborough",
          "Valle Antigua Sauvignon Blanc 2019",
          "Ravenswood Lodi Zinfandel 2017",
          "Montepulciano d'Abruzzo 2016 Masciarelli",
          "Definition Chardonnay 2018",
          "The Chocolate Block 2017 Boekenhoutskloof, Western Cape",
          "Definition Malbec 2018",
          "Vavasour Chardonnay",
          "La Raia 'Il Borgo' Gavi 2018",
          "Rioja 'Seleccion Especial' 2017 Ramón Bilbao",
          "Rustenberg Sauvignon Blanc 2019 Western Cape",
          "Alain Grignon Carignan Vieilles Vignes 2017/2018 PGI Pays de l'Hérault",
          "Côte de Beaune-Villages 2014 Louis Jadot",
          "Blind River Sauvignon Blanc 2018 Awatere Valley, Marlborough",
          "Jim Barry Cover Drive Cabernet Sauvignon 2015 Coonawarra",
          "\"The Astronomer\" Chardonnay 2018 De Bortoli",
          "La Réserve de Léoville-Barton 2016 St-Julien",
          "Côtes-du-Rhône 2017/18 Léon Perdigal",
          "Mâcon Rouge 'Les Roches Rouges' 2017 Louis Jadot",
          "Desire Lush & Zin 2018",
          "Les Sources De Livran, Château Livran",
          "The Ned Pinot Grigio 2018 Marlborough",
          "Primitivo 2017 Natale Verga",
          "Krasno Pinot Bianco",
          "Rioja Gran Reserva 2011 Marqués de Cáceres",
          "Acacia Road Sauvignon Blanc 2018",
          "Definition Medoc Claret 2015",
          "Araldica Barbera d'Asti DOCG",
          "Pouilly-Fumé 'Les Griottes' 2018 Jean-Pierre Bailly",
          "Barista Pinotage 2018 Western Cape",
          "Rioja Reserva 2014 Viña Alarde",
          "Martinborough Vineyard Te Tera Pinot Noir 2017 Martinborough",
          "Mayu Carmenere Apassimento 2016",
          "Rioja Reserva 2015 Muga",
          "Edna Valley Pinot Noir 2017",
          "Chronic Cellars Purple Paradise 2017 Paso Robles",
          "Château Musar 2003 Gaston Hochar",
          "Luis Felipe Edwards Gran Reserva Chardonnay 2018 Casablanca Valley",
          "Kaiken Seleccion Especial Malbec 2018, Mendoza",
          "Pinot Grigio Villa Vito 2018",
          "Hey Malbec! 2018 Matias Riccitelli, Mendoza",
          "Winemaker Series Shiraz 2016",
          "Edna Valley Chardonnay 2017",
          "Château Grand Faurie La Rose 2013/14 St-Emilion Grand Cru",
          "Santa Rita Medalla Real Carmenère 2017 Colchagua Valley",
          "Passimento Bianco 2018 Pasqua",
          "Majestic Loves Spanish Red 2018",
          "Barolo 2015 Ciabot Berton",
          "Gavi 2018 Araldica",
          "Faustino Rivero Ulecia Vendimia Seleccionada Rioja",
          "Luis Felipe Edwards Gran Reserva Merlot 2018 Colchagua Valley",
          "Domodo Negroamaro IGP Puglia 2018",
          "Majestic Loves Chardonnay 2018",
          "Chalk Bay Sauvignon Blanc",
          "Petit Perdigal Rouge 2018",
          "Elysium Black Muscat 2015 Half Bottle",
          "Capaia One 2015",
          "Casal de Ventozela 2018 Vinho Verde",
          "Muscadet de Sèvre et Maine Sur Lie 2018 Domaine de la Tourmaline",
          "Klein Constantia Sauvignon Blanc 2018 Constantia",
          "Rioja Reserva 2013 Viña Pomal",
          "Black Cottage Sauvignon Blanc 2018 Marlborough",
          "Château de Pennautier 2015 Cabardès",
          "Porta 6 Rosé 2018",
          "Winemaker Series Swartland Red 2017",
          "Morgon 2018 Château de Pizay",
          "Macon Villages Elodie Dupres",
          "Russian Jack Pinot Noir 2017 Martinborough Vineyards",
          "Definition Gavi DOCG 2018",
          "Saint Clair Pioneer Block Pinot Noir 2017 Marlborough",
          "Santa Rita Medalla Real Cabernet Sauvignon 2016 Maipo Valley",
          "Gnarly Dudes Shiraz 2016 Two Hands, Barossa Valley",
          "Acacia Road Merlot 2018",
          "Greywacke Sauvignon 2018 Marlborough",
          "Gavi 2018 La Toledana",
          "Bourgogne Pinot Noir 2016 Louis Latour",
          "Avior Malbec 2018",
          "Aresti Bellavista Sauvignon Gris 2017",
          "Nettie Viognier 2017",
          "Los Vascos Cabernet Sauvignon 2017 Domaines Baron de Rothschild, Colchagua",
          "Alegro Rioja Crianza 2016",
          "Majestic Loves Gruner Veltliner 2018",
          "Men in White Coats Viognier 2019",
          "Definition Viognier 2018",
          "Definition Chenin Blanc 2018",
          "Goldwater Sauvignon Blanc 2018 Marlborough",
          "The Astronomer Shiraz 2018 De Bortoli",
          "Majestic Loves Montepulciano 2018",
          "Valle Antigua Chardonnay 2018",
          "Parcel Series Marlborough Sauvignon Blanc 2018",
          "Viñalba Malbec-Touriga Nacional Reserve 2017 Mendoza",
          "Rioja Reserva Selección Especial 2014 Muga",
          "Santa Rita 120 Carménère 2018 Central Valley",
          "Côtes du Rhône Belleruche 2018 M.Chapoutier",
          "Definition Grüner Veltliner 2018",
          "Saint Clair Pioneer Block Sauvignon Blanc 2016 Marlborough",
          "Acacia Road Chenin Blanc 2018",
          "Ségla 2012 Margaux",
          "Roaring Meg Pinot Noir 2017 Mt Difficulty, Central Otago",
          "Oyster Bay Merlot 2017 Hawke's Bay",
          "Viré-Clessé Cave de Viré",
          "Definition Carménère 2017, Maipo Valley",
          "Montagny 'Vieilles Vignes' 2016, Cave des Vignerons de Buxy",
          "Waimea Estate Pinot Gris 2018 Nelson",
          "Ten Minutes by Tractor Estate Pinot Noir 2017 Mornington Peninsular",
          "Vasse Felix Filius Chardonnay 2017 Margaret River",
          "Viñalba Gran Reservado Malbec 2016 Mendoza",
          "Montes Single Vineyard Chardonnay 2015",
          "Saint-Véran 2017 Les Vignerons des Grandes Vignes",
          "Valle Antigua Cabernet Sauvignon 2017",
          "Contesa Pecorino 2017/18 IGT Colline Pescaresi",
          "Bellingham 'The Bernard Series' Viognier 2018 Western Cape",
          "Errazuriz Wild Ferment Chardonnay 2016 Casablanca Valley",
          "Dos Minas Malbec",
          "Château de Sainte Gemme Haut-Médoc",
          "Devil's Creek Gold Reserve Sauvignon Blanc",
          "Matsu El Picaro 2018 Toro",
          "Vallée Des Pins Rosé 2018 Côteaux d'Aix en Provence",
          "Miraval Rosé 2018 Côtes de Provence",
          "Saintsbury Chardonnay 2012 Carneros",
          "Château Guiot 2017 Costières de Nîmes",
          "Rioja Blanco 2018 Muga",
          "Gufetto Pinot Grigio 2018",
          "Leon Perdigal Côtes du Rhône Rosé 2018",
          "Peyrassol, Reserve des Templiers Rosé 2018 Côtes de Provence",
          "Oyster Bay Chardonnay 2017 Marlborough",
          "Domaine de Villemajou 2017 Corbières Boutenac, Gérard Bertrand",
          "Lirac 2017 Domaine des Garrigues",
          "Minuty Cuvée Prestige 2018 Côtes de Provence",
          "Symbiose Piquepoul Sauvignon Blanc 'Cuvée Florence' 2017, Côtes de Thau",
          "Villa Maria Private Bin Riesling 2018 Marlborough",
          "La Baume La Grande Olivette, Chenin Blanc Vdf 2018",
          "Hang Loose Cabernet Sauvignon 2015",
          "Sofa King Bueno 2015 Chronic Cellars",
          "Negrar Il Viaggio Appassimento 2018",
          "Waimea Estate Grüner Veltliner 2017 Nelson",
          "Jaboulet Syrah 2017",
          "Villa Belinda Vino Varietal, 2017",
          "Esprit de Pennautier 2014 Cabardes",
          "Paul Mas Estate Marsanne 'La Forge Vineyard' 2018 PGI Pays d Oc",
          "Majestic Loves Merlot 2018",
          "Maison Loron Beaujolais 2017",
          "La Vieille Ferme 2018 Perrin et Fils",
          "Premier Vin du Château de Pitray 2014",
          "Wolf Blass Yellow Label Chardonnay 2017 South Australia",
          "Domaine de Villargeau 2017 Côteaux du Giennois",
          "Barolo Araldica 2013",
          "Fattori Soave 2018",
          "Definition Côtes Du Rhône 2017",
          "Rustenberg RM Nicholson 2016 Stellenbosch",
          "Château Coufran 2006 Haut-Médoc Cru Bourgeois Supérieur",
          "Morande M Pinot Noir 2018",
          "Winemaker Series Chardonnay 2017",
          "Kuhlmann-Platz Gewürztraminer 2018 Cave de Hunawihr",
          "Herdade De Gambia 2017",
          "Parcel Series Organic Tempranillo 2017",
          "Parrilla Malbec 2017 Viñalba, Mendoza",
          "Mon Plaisir du Sud Rosé 2018",
          "Catena Barrel Fermented Chardonnay 2018 Mendoza",
          "Emilio Moro 2016 Ribera del Duero",
          "Alamos Lujan De Cuyo Cabernet 2017",
          "Morande M Chardonnay 2018",
          "Mon Plaisir du Sud Rouge 2017",
          "Dogajolo Carpineto 2016 Toscana",
          "Haut Poitou Sauvignon Blanc 2017 Pierre Sauvion",
          "Viñalba Fifty 50 2017 Uco Valley",
          "Catena Cabernet Sauvignon 2017 Mendoza",
          "Rustenberg John X Merriman 2017 Stellenbosch",
          "Haut Vol Rosé 2018 VdF",
          "Kuhlmann-Platz Riesling 2018 Cave de Hunawihr",
          "The Ned Rosé 2018 Waihopai River, Marlborough",
          "Olivier Dubois Cuvée Prestige Sauvignon Blanc 2018",
          "Cillar de Silos Crianza 2016 Ribera del Duero",
          "Luis Felipe Edwards Signature Series Viognier Reserva 2019 Rapel Valley",
          "Porta 6 2015 Magnum",
          "Beaujolais Lantignié 2018 Louis Jadot",
          "Côtes-du-Rhône Blanc 2016 Léon Perdigal",
          "Ammazza Pinot Grigio IGT",
          "Château de Berne Rosé 2018 Côtes de Provence",
          "Fallow's View Shiraz",
          "Ramos Reserva 2017 Vinho Regional Alentejano",
          "Domaine Les Yeuses 'Les Epices' Syrah 2017 PGI Pays d'Oc",
          "Santa Rita 120 Cabernet Franc 2016 Central Valley",
          "Santa Rita 120 Sauvignon Blanc 2017 Central Valley",
          "Château Clarke Listrac-Médoc 2010",
          "Morandé one to one Gewurztraminer 2017",
          "Les Haut Vignes Cairanne 2017",
          "Grüner Veltliner 2018 Weingärten Weissenkirchen, Wachau",
          "Errazuriz Estate Series Pinot Noir 2018 Valle de Aconcagua",
          "Sexy Beast Cabernet 2017 Two Hands, McLaren Vale",
          "Amarone Classico 'Vigneti di Roccolo' 2016 Cantina Negrar",
          "LFE 900 Single-Vineyard 2013 Colchagua Valley",
          "Bourgogne Pinot Noir 'Les Pierres Rouges' 2017 Louis Jadot",
          "Vouvray Domaine des Aubuisières 2018 Cuvée de Perruches, Bernard Fouquet",
          "Catena Alta Malbec 2016 Mendoza",
          "Château Pigoudet La Chapelle Rosé 2017 Coteaux dAix-en-Provence",
          "Bienbebido Pulpo Albariño 2018",
          "San Huberto Malbec La Rioja",
          "Mas Querido Field Blend 2018",
          "The King's Thorn Pinot Gris 2015 Marlborough",
          "Domaine Compostelle Pomerol 2012",
          "Bourgogne Chardonnay 'Les Chenaudières' 2016/17 Cave de Lugny",
          "Santa Rita Medalla Real Chardonnay 2018 Limari Valley",
          "As Caixas Godello 2018 Martín Códax, Monterrei",
          "Clare Wine Co Watervale Riesling 2018, Clare Valley",
          "Gabb Family Chardonnay 2018",
          "Verdicchio dei Castelli di Jesi 2018 Monte Schiavo",
          "Croft Reserve Tawny Port",
          "Dr Loosen Slate Hill Riesling 2018",
          "Château Grimont Cuvée Prestige 2014/2015, Cadillac Côtes de Bordeaux.",
          "Waimea Estate Gewürztraminer 2016/17 Nelson",
          "Côtes du Rhône 2016 Vidal-Fleury",
          "Pietrariccia Fiano 2018 Surani",
          "Orvieto Classico Secco Vigneto Mortaro 2018 Barberani",
          "Abbott's & Delaunay Fruits Sauvage Sauvignon Blanc 2017",
          "Jean Bon Merlot IGP Pays D'Oc 2018",
          "Nord Est Vermentino 2017 Cantina del Vermentino",
          "Mas de la Dona, Cotes de Roussillon Villages 2018",
          "Saint Clair Estate Selection Sauvignon Blanc 2018 Marlborough",
          "Pinot Gris Grand Cru Spiegel 2017 Domaines Schlumberger",
          "The Ned Noble Sauvignon Blanc 2015 Half Bottle",
          "Vinalba Malbec Bonarda 2018",
          "Rioja Reserva Imperial 2015 CVNE",
          "Waimea Estate Elara Oaked Sauvignon Blanc 2018",
          "Valpolicella Classico 2018 Cantina di Negrar",
          "Lâchez-Vous Grenache-Syrah, 2017",
          "Dolcetto dAlba 2018 De Forville",
          "Pouilly-Fumé 2018 Ladoucette",
          "Les Jamelles Pinot Gris 2018",
          "Catena Alta Chardonnay 2018 Mendoza",
          "Muscadet 2018 Jean Sablenay",
          "Cuvée Sainte Geneviève Rouge VdF",
          "Zingo Malbec Rosé 2018",
          "Errazuriz Sauvignon Blanc 2017 Casablanca Valley",
          "Nettie Zinfandel 2017",
          "Falanghina 2018 Terredora",
          "Bourgogne Chardonnay 2013 Domaine Jomain",
          "The Lodge Hill Riesling 2018 Jim Barry, Clare Valley",
          "Bodega Volcanes Carménère 2018",
          "Royal Tokaji Dry Tokaji 2015/16",
          "Rioja Reserva 2014 Marqués de Cáceres",
          "Ammazza Montepulciano 2016",
          "El Aviador Tempranillo",
          "Emperors Prize Pinot Noir 2017/2018",
          "Rioja Rosado 2017 Muga",
          "Route 88 White Zinfandel 2015",
          "Côtes du Rhône Réserve Rouge 2017 Perrin et Fils",
          "Viñalba Selección Torrontés 2018 Lujan de Cuyo",
          "Montes Reserva Malbec 2017 Colchagua Valley",
          "La Font Reserva 2013 Valencia",
          "Rioja Rosado 2018 Marqués de Cáceres",
          "Barbaresco 2016 De Forville",
          "Majestic Loves Shiraz 2018",
          "Saluti Bianco",
          "Majestic Loves Rose 2018",
          "Making Tracks Viognier 2018",
          "Chianti Poggio Galiga 2016 Grati",
          "Peter & Ulrich Dry Riesling 2018",
          "Château Guiot Rosé 2018 Costières de Nîmes, France",
          "Marquis de Pennautier Viognier 2018 PGI Pays d'Oc",
          "Coney Pizzicato Pinot Noir 2017 Martinborough",
          "Errazuriz Estate Series Merlot 2018 Valle de Curicó",
          "Trebuchet Chardonnay 2017 Western Cape",
          "Errazuriz Single Vineyard Sauvignon Blanc 2017 Casablanca Valley",
          "The Long Coast Cabernet Sauvignon",
          "Mon Plaisir de la Vallee Cabernet Franc 2016 VdF",
          "L'Etoile de Begude Chardonnay 2018 Limoux",
          "Soave Classico 2018 Inama",
          "Lady Sauvignon 2018 Casablanca Valley",
          "Lastarria Malbec 2018",
          "Gran Vendema Rioja Crianza 2015",
          "Making Tracks Shiraz-Cabernet",
          "Saintsbury Pinot Noir 2014 Carneros",
          "Waimea Estate Pinot Noir 2017 Nelson",
          "Hospices de Beaujeu 2017",
          "Dog Point Sauvignon Blanc 2017 Marlborough",
          "Making Tracks Cabernet Sauvignon 2017",
          "Mon Plaisir De La Vallee, Sauvignon Blanc, VdF 2018",
          "Château Margerots Bordeaux Supérieur",
          "Montes Single Vineyard Merlot 2016",
          "Tio Pepe Fino Gonzalez Byass",
          "Barolo 2013 Natale Verga",
          "Château Livran 2013",
          "Duc de Belmont Côteaux Bourguignons 2018 Loron et Fils",
          "Santa Rita 120 Viognier 2017 Central Valley",
          "Song Sparrow Merlot",
          "Star Mountain, Portugal",
          "Trebuchet Red 2018 Western Cape",
          "Marques Tertiaro Gran Reservado 2011",
          "BenMarco Malbec 2018 Dominio del Plata, Mendoza",
          "Errazuriz Estate Series Carmenère 2016 Aconcagua Valley",
          "De Bortoli 1628 Durif",
          "Kuhlmann-Platz Pinot Blanc 2018 Cave de Hunawihr",
          "Burke and Wills Chardonnay, Australia",
          "Revival Zinfandel, California",
          "Lay and Wheeler Rioja Gran Reserva 2011",
          "Tasca \"Regaleali\" Bianco Di Sicilia 2017",
          "Elara Sauvignon Gris Waimea Estate 2018",
          "Soumah Chardonnay 2018",
          "Rawson's Retreat Riesling 2016, South East Australia",
          "Dom St Jean de la Cavalerie Chardonnay 2018",
          "Morande Reserva One to One Pais 2016",
          "Côté Mas Rouge 2016 PGI Pays d'Oc",
          "Stone Arka Merlot",
          "Gewürztraminer 'Les Princes Abbés' 2016 Domaines Schlumberger",
          "Rey Noble Garnacha",
          "AIX Rosé 2018 Coteaux d'Aix en Provence Magnum",
          "La Grille Pinot Noir Rosé 2018 Vin de France",
          "Saluti Rosso",
          "Rioja Reserva 2015 Marqués de Vargas",
          "Chablis Elodie Duprés 2016",
          "Dehesa Gago, Tinta de Toro 2016",
          "Essensia Orange Muscat 2016 Andrew Quady Half Bottle",
          "Morala Riverland Old Vine Grenache 2018",
          "BDX Sauvignon Blanc",
          "Finca El Cuento Blanco 2018",
          "Alamos Uco Valley Chardonnay 2018",
          "Definition Shiraz 2017",
          "Wolf Blass Yellow Label Cabernet Sauvignon 2017 South Australia",
          "Sassaiolo Rosso Piceno 2014 Monte Schiavo",
          "Hokum Chardonnay",
          "Fief de yrano Bergerac, France",
          "Fief de yrano Bergerac, France"
         ],
         "legendgroup": "",
         "marker": {
          "color": "#636efa",
          "symbol": "circle"
         },
         "mode": "markers",
         "name": "",
         "showlegend": false,
         "type": "scatter",
         "x": [
          195,
          320,
          54,
          177,
          306,
          313,
          830,
          172,
          171,
          334,
          401,
          114,
          222,
          280,
          183,
          74,
          294,
          266,
          157,
          170,
          331,
          129,
          1565,
          114,
          545,
          318,
          1601,
          101,
          241,
          244,
          21,
          379,
          332,
          458,
          458,
          777,
          186,
          246,
          246,
          241,
          231,
          231,
          134,
          155,
          122,
          122,
          148,
          25,
          181,
          137,
          103,
          282,
          251,
          441,
          549,
          212,
          216,
          213,
          67,
          29,
          54,
          219,
          165,
          191,
          110,
          379,
          25,
          72,
          87,
          105,
          49,
          140,
          24,
          463,
          45,
          76,
          202,
          114,
          196,
          155,
          50,
          206,
          32,
          118,
          406,
          78,
          29,
          322,
          92,
          112,
          66,
          226,
          226,
          63,
          270,
          26,
          192,
          23,
          67,
          226,
          90,
          22,
          356,
          84,
          84,
          59,
          251,
          170,
          136,
          33,
          43,
          34,
          65,
          69,
          209,
          415,
          51,
          31,
          83,
          175,
          125,
          80,
          206,
          204,
          56,
          270,
          46,
          142,
          37,
          176,
          141,
          112,
          31,
          80,
          36,
          159,
          93,
          35,
          59,
          94,
          39,
          50,
          193,
          110,
          30,
          98,
          177,
          136,
          182,
          194,
          63,
          63,
          42,
          21,
          70,
          100,
          45,
          56,
          21,
          195,
          34,
          38,
          94,
          87,
          27,
          23,
          99,
          21,
          152,
          86,
          160,
          128,
          92,
          30,
          56,
          84,
          48,
          233,
          213,
          224,
          127,
          43,
          29,
          47,
          69,
          59,
          24,
          27,
          152,
          152,
          29,
          45,
          27,
          28,
          44,
          104,
          69,
          71,
          56,
          49,
          65,
          92,
          51,
          43,
          25,
          161,
          56,
          98,
          133,
          64,
          42,
          28,
          39,
          23,
          85,
          70,
          27,
          29,
          36,
          106,
          41,
          94,
          39,
          23,
          122,
          59,
          28,
          52,
          65,
          50,
          77,
          37,
          32,
          154,
          115,
          36,
          32,
          27,
          51,
          244,
          45,
          149,
          103,
          38,
          90,
          23,
          68,
          198,
          94,
          40,
          111,
          36,
          140,
          80,
          41,
          138,
          71,
          44,
          161,
          46,
          48,
          37,
          192,
          93,
          93,
          106,
          67,
          41,
          30,
          30,
          68,
          27,
          104,
          54,
          28,
          65,
          22,
          26,
          32,
          32,
          55,
          88,
          37,
          51,
          27,
          27,
          78,
          86,
          99,
          38,
          59,
          49,
          22,
          52,
          23,
          103,
          77,
          130,
          57,
          95,
          27,
          45,
          98,
          126,
          29,
          36,
          49,
          32,
          22,
          75,
          113,
          26,
          21,
          48,
          33,
          56,
          29,
          41,
          92,
          89,
          50,
          27,
          42,
          168,
          45,
          53,
          194,
          30,
          54,
          40,
          22,
          88,
          57,
          58,
          58,
          35,
          23,
          44,
          59,
          22,
          58,
          116,
          60,
          41,
          62,
          23,
          70,
          144,
          48,
          82,
          56,
          34,
          38,
          40,
          30,
          165,
          28,
          26,
          49,
          31,
          24,
          40,
          66,
          33,
          44,
          26,
          32,
          23,
          26,
          88,
          38,
          29,
          44,
          60,
          95,
          118,
          74,
          76,
          27,
          39,
          22,
          68,
          38,
          30,
          22,
          94,
          31,
          52,
          32,
          23,
          40,
          41,
          37,
          130,
          29,
          45,
          57,
          22,
          26,
          38,
          33,
          23,
          80,
          98,
          61,
          41,
          21,
          21
         ],
         "xaxis": "x",
         "y": [
          91,
          93,
          91,
          92,
          97,
          98,
          93,
          86,
          93,
          86,
          96,
          96,
          91,
          92,
          87,
          95,
          88,
          94,
          92,
          91,
          95,
          95,
          95,
          92,
          97,
          93,
          96,
          96,
          94,
          94,
          100,
          95,
          94,
          95,
          95,
          98,
          94,
          95,
          95,
          90,
          87,
          87,
          93,
          94,
          93,
          98,
          94,
          80,
          97,
          96,
          83,
          94,
          93,
          96,
          94,
          97,
          94,
          95,
          90,
          97,
          93,
          92,
          93,
          90,
          92,
          93,
          92,
          90,
          92,
          89,
          86,
          89,
          100,
          92,
          93,
          96,
          93,
          84,
          89,
          92,
          94,
          90,
          97,
          92,
          96,
          92,
          90,
          95,
          93,
          91,
          89,
          94,
          94,
          97,
          93,
          96,
          97,
          74,
          97,
          93,
          91,
          73,
          94,
          88,
          92,
          61,
          94,
          84,
          96,
          100,
          95,
          94,
          94,
          91,
          85,
          86,
          92,
          90,
          95,
          94,
          88,
          90,
          91,
          96,
          88,
          91,
          93,
          94,
          92,
          96,
          94,
          91,
          97,
          91,
          69,
          92,
          86,
          91,
          59,
          96,
          97,
          94,
          93,
          92,
          93,
          94,
          92,
          86,
          97,
          92,
          92,
          92,
          90,
          62,
          97,
          94,
          96,
          96,
          100,
          89,
          68,
          92,
          94,
          90,
          81,
          100,
          89,
          100,
          91,
          92,
          91,
          86,
          85,
          90,
          91,
          92,
          96,
          89,
          91,
          88,
          94,
          88,
          79,
          91,
          84,
          98,
          96,
          96,
          95,
          95,
          90,
          91,
          85,
          79,
          82,
          94,
          90,
          94,
          95,
          78,
          95,
          93,
          94,
          86,
          96,
          90,
          89,
          73,
          91,
          92,
          90,
          89,
          90,
          91,
          94,
          91,
          81,
          90,
          100,
          96,
          88,
          82,
          87,
          100,
          90,
          88,
          93,
          85,
          85,
          88,
          95,
          73,
          97,
          83,
          94,
          67,
          62,
          93,
          90,
          94,
          91,
          90,
          94,
          89,
          96,
          96,
          94,
          91,
          87,
          92,
          94,
          86,
          94,
          94,
          95,
          95,
          93,
          86,
          88,
          98,
          77,
          86,
          84,
          83,
          83,
          92,
          84,
          93,
          87,
          87,
          93,
          81,
          93,
          83,
          93,
          97,
          95,
          88,
          94,
          94,
          95,
          92,
          95,
          94,
          89,
          89,
          90,
          93,
          93,
          89,
          81,
          86,
          86,
          83,
          74,
          88,
          92,
          89,
          88,
          87,
          85,
          91,
          98,
          96,
          93,
          92,
          84,
          97,
          95,
          85,
          95,
          73,
          100,
          94,
          97,
          88,
          66,
          95,
          87,
          85,
          94,
          85,
          79,
          92,
          82,
          94,
          90,
          83,
          78,
          92,
          91,
          86,
          88,
          93,
          86,
          86,
          74,
          77,
          85,
          68,
          79,
          84,
          97,
          83,
          77,
          83,
          89,
          91,
          94,
          84,
          84,
          97,
          92,
          88,
          87,
          79,
          93,
          96,
          80,
          97,
          92,
          72,
          91,
          76,
          93,
          92,
          62,
          87,
          96,
          86,
          84,
          83,
          82,
          82,
          87,
          90,
          80,
          95,
          30,
          77,
          86,
          90,
          87,
          87,
          95,
          88,
          81,
          85,
          84,
          100,
          75,
          95,
          89,
          69,
          86,
          80,
          95,
          91,
          81,
          82,
          64,
          96,
          94,
          84,
          84,
          63,
          33,
          33
         ],
         "yaxis": "y"
        }
       ],
       "layout": {
        "height": 600,
        "legend": {
         "tracegroupgap": 0
        },
        "margin": {
         "t": 60
        },
        "template": {
         "data": {
          "bar": [
           {
            "error_x": {
             "color": "#2a3f5f"
            },
            "error_y": {
             "color": "#2a3f5f"
            },
            "marker": {
             "line": {
              "color": "#E5ECF6",
              "width": 0.5
             }
            },
            "type": "bar"
           }
          ],
          "barpolar": [
           {
            "marker": {
             "line": {
              "color": "#E5ECF6",
              "width": 0.5
             }
            },
            "type": "barpolar"
           }
          ],
          "carpet": [
           {
            "aaxis": {
             "endlinecolor": "#2a3f5f",
             "gridcolor": "white",
             "linecolor": "white",
             "minorgridcolor": "white",
             "startlinecolor": "#2a3f5f"
            },
            "baxis": {
             "endlinecolor": "#2a3f5f",
             "gridcolor": "white",
             "linecolor": "white",
             "minorgridcolor": "white",
             "startlinecolor": "#2a3f5f"
            },
            "type": "carpet"
           }
          ],
          "choropleth": [
           {
            "colorbar": {
             "outlinewidth": 0,
             "ticks": ""
            },
            "type": "choropleth"
           }
          ],
          "contour": [
           {
            "colorbar": {
             "outlinewidth": 0,
             "ticks": ""
            },
            "colorscale": [
             [
              0,
              "#0d0887"
             ],
             [
              0.1111111111111111,
              "#46039f"
             ],
             [
              0.2222222222222222,
              "#7201a8"
             ],
             [
              0.3333333333333333,
              "#9c179e"
             ],
             [
              0.4444444444444444,
              "#bd3786"
             ],
             [
              0.5555555555555556,
              "#d8576b"
             ],
             [
              0.6666666666666666,
              "#ed7953"
             ],
             [
              0.7777777777777778,
              "#fb9f3a"
             ],
             [
              0.8888888888888888,
              "#fdca26"
             ],
             [
              1,
              "#f0f921"
             ]
            ],
            "type": "contour"
           }
          ],
          "contourcarpet": [
           {
            "colorbar": {
             "outlinewidth": 0,
             "ticks": ""
            },
            "type": "contourcarpet"
           }
          ],
          "heatmap": [
           {
            "colorbar": {
             "outlinewidth": 0,
             "ticks": ""
            },
            "colorscale": [
             [
              0,
              "#0d0887"
             ],
             [
              0.1111111111111111,
              "#46039f"
             ],
             [
              0.2222222222222222,
              "#7201a8"
             ],
             [
              0.3333333333333333,
              "#9c179e"
             ],
             [
              0.4444444444444444,
              "#bd3786"
             ],
             [
              0.5555555555555556,
              "#d8576b"
             ],
             [
              0.6666666666666666,
              "#ed7953"
             ],
             [
              0.7777777777777778,
              "#fb9f3a"
             ],
             [
              0.8888888888888888,
              "#fdca26"
             ],
             [
              1,
              "#f0f921"
             ]
            ],
            "type": "heatmap"
           }
          ],
          "heatmapgl": [
           {
            "colorbar": {
             "outlinewidth": 0,
             "ticks": ""
            },
            "colorscale": [
             [
              0,
              "#0d0887"
             ],
             [
              0.1111111111111111,
              "#46039f"
             ],
             [
              0.2222222222222222,
              "#7201a8"
             ],
             [
              0.3333333333333333,
              "#9c179e"
             ],
             [
              0.4444444444444444,
              "#bd3786"
             ],
             [
              0.5555555555555556,
              "#d8576b"
             ],
             [
              0.6666666666666666,
              "#ed7953"
             ],
             [
              0.7777777777777778,
              "#fb9f3a"
             ],
             [
              0.8888888888888888,
              "#fdca26"
             ],
             [
              1,
              "#f0f921"
             ]
            ],
            "type": "heatmapgl"
           }
          ],
          "histogram": [
           {
            "marker": {
             "colorbar": {
              "outlinewidth": 0,
              "ticks": ""
             }
            },
            "type": "histogram"
           }
          ],
          "histogram2d": [
           {
            "colorbar": {
             "outlinewidth": 0,
             "ticks": ""
            },
            "colorscale": [
             [
              0,
              "#0d0887"
             ],
             [
              0.1111111111111111,
              "#46039f"
             ],
             [
              0.2222222222222222,
              "#7201a8"
             ],
             [
              0.3333333333333333,
              "#9c179e"
             ],
             [
              0.4444444444444444,
              "#bd3786"
             ],
             [
              0.5555555555555556,
              "#d8576b"
             ],
             [
              0.6666666666666666,
              "#ed7953"
             ],
             [
              0.7777777777777778,
              "#fb9f3a"
             ],
             [
              0.8888888888888888,
              "#fdca26"
             ],
             [
              1,
              "#f0f921"
             ]
            ],
            "type": "histogram2d"
           }
          ],
          "histogram2dcontour": [
           {
            "colorbar": {
             "outlinewidth": 0,
             "ticks": ""
            },
            "colorscale": [
             [
              0,
              "#0d0887"
             ],
             [
              0.1111111111111111,
              "#46039f"
             ],
             [
              0.2222222222222222,
              "#7201a8"
             ],
             [
              0.3333333333333333,
              "#9c179e"
             ],
             [
              0.4444444444444444,
              "#bd3786"
             ],
             [
              0.5555555555555556,
              "#d8576b"
             ],
             [
              0.6666666666666666,
              "#ed7953"
             ],
             [
              0.7777777777777778,
              "#fb9f3a"
             ],
             [
              0.8888888888888888,
              "#fdca26"
             ],
             [
              1,
              "#f0f921"
             ]
            ],
            "type": "histogram2dcontour"
           }
          ],
          "mesh3d": [
           {
            "colorbar": {
             "outlinewidth": 0,
             "ticks": ""
            },
            "type": "mesh3d"
           }
          ],
          "parcoords": [
           {
            "line": {
             "colorbar": {
              "outlinewidth": 0,
              "ticks": ""
             }
            },
            "type": "parcoords"
           }
          ],
          "scatter": [
           {
            "marker": {
             "colorbar": {
              "outlinewidth": 0,
              "ticks": ""
             }
            },
            "type": "scatter"
           }
          ],
          "scatter3d": [
           {
            "line": {
             "colorbar": {
              "outlinewidth": 0,
              "ticks": ""
             }
            },
            "marker": {
             "colorbar": {
              "outlinewidth": 0,
              "ticks": ""
             }
            },
            "type": "scatter3d"
           }
          ],
          "scattercarpet": [
           {
            "marker": {
             "colorbar": {
              "outlinewidth": 0,
              "ticks": ""
             }
            },
            "type": "scattercarpet"
           }
          ],
          "scattergeo": [
           {
            "marker": {
             "colorbar": {
              "outlinewidth": 0,
              "ticks": ""
             }
            },
            "type": "scattergeo"
           }
          ],
          "scattergl": [
           {
            "marker": {
             "colorbar": {
              "outlinewidth": 0,
              "ticks": ""
             }
            },
            "type": "scattergl"
           }
          ],
          "scattermapbox": [
           {
            "marker": {
             "colorbar": {
              "outlinewidth": 0,
              "ticks": ""
             }
            },
            "type": "scattermapbox"
           }
          ],
          "scatterpolar": [
           {
            "marker": {
             "colorbar": {
              "outlinewidth": 0,
              "ticks": ""
             }
            },
            "type": "scatterpolar"
           }
          ],
          "scatterpolargl": [
           {
            "marker": {
             "colorbar": {
              "outlinewidth": 0,
              "ticks": ""
             }
            },
            "type": "scatterpolargl"
           }
          ],
          "scatterternary": [
           {
            "marker": {
             "colorbar": {
              "outlinewidth": 0,
              "ticks": ""
             }
            },
            "type": "scatterternary"
           }
          ],
          "surface": [
           {
            "colorbar": {
             "outlinewidth": 0,
             "ticks": ""
            },
            "colorscale": [
             [
              0,
              "#0d0887"
             ],
             [
              0.1111111111111111,
              "#46039f"
             ],
             [
              0.2222222222222222,
              "#7201a8"
             ],
             [
              0.3333333333333333,
              "#9c179e"
             ],
             [
              0.4444444444444444,
              "#bd3786"
             ],
             [
              0.5555555555555556,
              "#d8576b"
             ],
             [
              0.6666666666666666,
              "#ed7953"
             ],
             [
              0.7777777777777778,
              "#fb9f3a"
             ],
             [
              0.8888888888888888,
              "#fdca26"
             ],
             [
              1,
              "#f0f921"
             ]
            ],
            "type": "surface"
           }
          ],
          "table": [
           {
            "cells": {
             "fill": {
              "color": "#EBF0F8"
             },
             "line": {
              "color": "white"
             }
            },
            "header": {
             "fill": {
              "color": "#C8D4E3"
             },
             "line": {
              "color": "white"
             }
            },
            "type": "table"
           }
          ]
         },
         "layout": {
          "annotationdefaults": {
           "arrowcolor": "#2a3f5f",
           "arrowhead": 0,
           "arrowwidth": 1
          },
          "colorscale": {
           "diverging": [
            [
             0,
             "#8e0152"
            ],
            [
             0.1,
             "#c51b7d"
            ],
            [
             0.2,
             "#de77ae"
            ],
            [
             0.3,
             "#f1b6da"
            ],
            [
             0.4,
             "#fde0ef"
            ],
            [
             0.5,
             "#f7f7f7"
            ],
            [
             0.6,
             "#e6f5d0"
            ],
            [
             0.7,
             "#b8e186"
            ],
            [
             0.8,
             "#7fbc41"
            ],
            [
             0.9,
             "#4d9221"
            ],
            [
             1,
             "#276419"
            ]
           ],
           "sequential": [
            [
             0,
             "#0d0887"
            ],
            [
             0.1111111111111111,
             "#46039f"
            ],
            [
             0.2222222222222222,
             "#7201a8"
            ],
            [
             0.3333333333333333,
             "#9c179e"
            ],
            [
             0.4444444444444444,
             "#bd3786"
            ],
            [
             0.5555555555555556,
             "#d8576b"
            ],
            [
             0.6666666666666666,
             "#ed7953"
            ],
            [
             0.7777777777777778,
             "#fb9f3a"
            ],
            [
             0.8888888888888888,
             "#fdca26"
            ],
            [
             1,
             "#f0f921"
            ]
           ],
           "sequentialminus": [
            [
             0,
             "#0d0887"
            ],
            [
             0.1111111111111111,
             "#46039f"
            ],
            [
             0.2222222222222222,
             "#7201a8"
            ],
            [
             0.3333333333333333,
             "#9c179e"
            ],
            [
             0.4444444444444444,
             "#bd3786"
            ],
            [
             0.5555555555555556,
             "#d8576b"
            ],
            [
             0.6666666666666666,
             "#ed7953"
            ],
            [
             0.7777777777777778,
             "#fb9f3a"
            ],
            [
             0.8888888888888888,
             "#fdca26"
            ],
            [
             1,
             "#f0f921"
            ]
           ]
          },
          "colorway": [
           "#636efa",
           "#EF553B",
           "#00cc96",
           "#ab63fa",
           "#FFA15A",
           "#19d3f3",
           "#FF6692",
           "#B6E880",
           "#FF97FF",
           "#FECB52"
          ],
          "font": {
           "color": "#2a3f5f"
          },
          "geo": {
           "bgcolor": "white",
           "lakecolor": "white",
           "landcolor": "#E5ECF6",
           "showlakes": true,
           "showland": true,
           "subunitcolor": "white"
          },
          "hoverlabel": {
           "align": "left"
          },
          "hovermode": "closest",
          "mapbox": {
           "style": "light"
          },
          "paper_bgcolor": "white",
          "plot_bgcolor": "#E5ECF6",
          "polar": {
           "angularaxis": {
            "gridcolor": "white",
            "linecolor": "white",
            "ticks": ""
           },
           "bgcolor": "#E5ECF6",
           "radialaxis": {
            "gridcolor": "white",
            "linecolor": "white",
            "ticks": ""
           }
          },
          "scene": {
           "xaxis": {
            "backgroundcolor": "#E5ECF6",
            "gridcolor": "white",
            "gridwidth": 2,
            "linecolor": "white",
            "showbackground": true,
            "ticks": "",
            "zerolinecolor": "white"
           },
           "yaxis": {
            "backgroundcolor": "#E5ECF6",
            "gridcolor": "white",
            "gridwidth": 2,
            "linecolor": "white",
            "showbackground": true,
            "ticks": "",
            "zerolinecolor": "white"
           },
           "zaxis": {
            "backgroundcolor": "#E5ECF6",
            "gridcolor": "white",
            "gridwidth": 2,
            "linecolor": "white",
            "showbackground": true,
            "ticks": "",
            "zerolinecolor": "white"
           }
          },
          "shapedefaults": {
           "line": {
            "color": "#2a3f5f"
           }
          },
          "ternary": {
           "aaxis": {
            "gridcolor": "white",
            "linecolor": "white",
            "ticks": ""
           },
           "baxis": {
            "gridcolor": "white",
            "linecolor": "white",
            "ticks": ""
           },
           "bgcolor": "#E5ECF6",
           "caxis": {
            "gridcolor": "white",
            "linecolor": "white",
            "ticks": ""
           }
          },
          "title": {
           "x": 0.05
          },
          "xaxis": {
           "automargin": true,
           "gridcolor": "white",
           "linecolor": "white",
           "ticks": "",
           "zerolinecolor": "white",
           "zerolinewidth": 2
          },
          "yaxis": {
           "automargin": true,
           "gridcolor": "white",
           "linecolor": "white",
           "ticks": "",
           "zerolinecolor": "white",
           "zerolinewidth": 2
          }
         }
        },
        "xaxis": {
         "anchor": "y",
         "domain": [
          0,
          0.98
         ],
         "title": {
          "text": "Number of Reviewers"
         }
        },
        "yaxis": {
         "anchor": "x",
         "domain": [
          0,
          1
         ],
         "title": {
          "text": "Percentage of reviewers who would buy again"
         }
        }
       }
      },
      "text/html": [
       "<div>\n",
       "        \n",
       "        \n",
       "            <div id=\"146ae20c-99d0-4e3a-af67-8260d2c011e9\" class=\"plotly-graph-div\" style=\"height:600px; width:100%;\"></div>\n",
       "            <script type=\"text/javascript\">\n",
       "                require([\"plotly\"], function(Plotly) {\n",
       "                    window.PLOTLYENV=window.PLOTLYENV || {};\n",
       "                    \n",
       "                if (document.getElementById(\"146ae20c-99d0-4e3a-af67-8260d2c011e9\")) {\n",
       "                    Plotly.newPlot(\n",
       "                        '146ae20c-99d0-4e3a-af67-8260d2c011e9',\n",
       "                        [{\"hoverlabel\": {\"namelength\": 0}, \"hovertemplate\": \"<b>%{hovertext}</b><br><br>Number of Reviewers=%{x}<br>Percentage of reviewers who would buy again=%{y}\", \"hovertext\": [\"Bread & Butter Chardonnay 2017, California\", \"Nero Oro Appassimento 2018, Sicily\", \"Jaboulet Viognier 2018, France\", \"Dawn Star Sauvignon Blanc 2018, Marlborough\", \"Definition Zinfandel 2017, Lodi\", \"Behind Closed Doors Reserva Lisboa Red 2016, Portugal\", \"The Guv'nor\", \"Ch\\u00e2teau Recougne 2016, Bordeaux Sup\\u00e9rieur\", \"Castaway Island Marlborough Sauvignon Blanc 2018\", \"Beefsteak Club Malbec 2017 Mendoza\", \"Porta 6 Reserva 2017\", \"La Belle Angele Rose 2018 VdF\", \"Porta 6 Vinho Verde 2018\", \"Las Maletas Malbec 2018/19 Mendoza\", \"Pinot Grigio Superiore 2018 Breganze\", \"Definition Albarino 2018\", \"Rioja Gran Reserva 2011 Vi\\u00f1a Alarde\", \"Catena Malbec 2017 Mendoza\", \"Rioja Blanco 2018 L\\u00f3pez de Haro\", \"Rioja Crianza 2016 CVNE\", \"Rioja Reserva Marqu\\u00e9s de Riscal 2015\", \"Jas de Vignes IGP Mediterranee Ros\\u00e9 2018\", \"The Ned Waihopai River Sauvignon Blanc 2018 Marlborough\", \"Grand Ard\\u00e8che Chardonnay 2017 Louis Latour\", \"Oyster Bay Sauvignon Blanc 2018 Marlborough\", \"M\\u00e2con-Villages Blanc 'Les Pierres Blanches' 2017 Cave de Lugny\", \"Porta 6 2017 Lisboa\", \"Nero Oro Riserva 2016, Sicily\", \"Montagny 1er Cru 'Les Milli\\u00e8res' 2018 Cave des Vignerons de Buxy\", \"C\\u00f4tes du Rh\\u00f4ne 2015 E. Guigal\", \"Mollydooker The Boxer Shiraz 2017 South Australia\", \"M\\u00e2con-Lugny 2017 Louis Latour\", \"Villemarin Picpoul de Pinet 2018 C\\u00f4teaux du Languedoc\", \"Surani Costarossa 2018 Primitivo di Manduria\", \"Gigondas Domaine Des Capes 2017, Rh\\u00f4ne\", \"Villa Maria Private Bin Sauvignon Blanc 2018/19, Marlborough\", \"Making Tracks Shiraz 2018\", \"Caixas Albari\\u00f1o 2017/18 R\\u00edas Baixas\", \"Quinta do Carmo 'Dom Martinho' 2017, Alentejo\", \"S&R Douro Red, 2017\", \"Silver Ghost Sauvignon Blanc 2019 Central Valley\", \"Chablis 2018, Bouchard Ain\\u00e9 & Fils, France\", \"Olivier Dubois Cuvee Prestige Pinot Noir 2017 VdF\", \"Definition Marlborough Sauvignon Blanc 2018\", \"Marcelo Pelleriti Malbec 2018 Valle De Uco, Mendoza\", \"Rioja Reserva Vi\\u00f1a Ardanza 2009 La Rioja Alta\", \"Valpolicella Ripasso 2017 Villa Borghetti\", \"The King's Legacy Chardonnay 2017 Marlborough\", \"Rioja Reserva 2014 Beronia\", \"Abbotts & Delaunay Viognier 2018\", \"Pinot Noir Domaine de Valmoissine 2016 Louis Latour\", \"Devil's Creek Marlborough Sauvignon Blanc 2018\", \"Definition Rioja Reserva 2013\", \"Passimento 2016 Pasqua\", \"Finca Carelio Tempranillo 2015 Vino de la Tierra\", \"Valpolicella Superiore Ripasso 2016 La Casetta\", \"Rioja Reserva 2015 CVNE\", \"Albari\\u00f1o Mart\\u00edn C\\u00f3dax 2017/18 R\\u00edas Baixas\", \"Ch\\u00e2teau Caronne Ste-Gemme 2014 Haut-M\\u00e9doc\", \"Penfolds Bin 28 Kalimna Shiraz 2016 South Australia\", \"Valle Antigua Merlot 2017\", \"Agenda, D\\u00e3o Manager's Choice 2016\", \"Kangarilla Road Shiraz 2017/18 McLaren Vale\", \"M de Minuty Ros\\u00e9 2018, C\\u00f4tes de Provence\", \"Planalto White Reserva 2018 Douro\", \"Russian Jack Sauvignon Blanc 2017 Marlborough\", \"Chateau Tour Bayard Montagne 2015\", \"Tenacity Old Vine Shiraz 2018\", \"Cloudy Bay Sauvignon Blanc 2018 Marlborough\", \"Vieux Remparts 2017 Lussac St-Emilion\", \"Sancerre C\\u00f3te des Embouffants 2018 Domaine Roger Neveu\", \"Incanta Pinot Noir 2018\", \"Ch St Michelle Cabernet Sauvignon 2016\", \"Vi\\u00f1alba Reserve Malbec 2017 Mendoza\", \"Masi 'Costaser' Amarone Classico 2013 DOCG, Valpolicella\", \"Majestic Loves Sauvignon 2019\", \"Alamos Uco Valley Malbec 2018\", \"Fleurie 2018 Georges Duboeuf\", \"Silver Ghost Cabernet Sauvignon 2016 Central Valley\", \"M\\u00e2con-Villages 'Les Roches Blanches' 2018 Louis Jadot\", \"Definition Marlborough Pinot Noir 2017\", \"Pinot Grigio Rosato 2018 Delle Venezie\", \"Whispering Angel Ros\\u00e9 2018\", \"La Belle Angele Sauvignon Blanc 2017/18\", \"Mud House Sauvignon Blanc 2018 Marlborough\", \"The Ned Pinot Noir 2017 Southern Valleys, Marlborough\", \"Valle Antigua Sauvignon Blanc 2019\", \"Ravenswood Lodi Zinfandel 2017\", \"Montepulciano d'Abruzzo 2016 Masciarelli\", \"Definition Chardonnay 2018\", \"The Chocolate Block 2017 Boekenhoutskloof, Western Cape\", \"Definition Malbec 2018\", \"Vavasour Chardonnay\", \"La Raia 'Il Borgo' Gavi 2018\", \"Rioja 'Seleccion Especial' 2017 Ram\\u00f3n Bilbao\", \"Rustenberg Sauvignon Blanc 2019 Western Cape\", \"Alain Grignon Carignan Vieilles Vignes 2017/2018 PGI Pays de l'H\\u00e9rault\", \"C\\u00f4te de Beaune-Villages 2014 Louis Jadot\", \"Blind River Sauvignon Blanc 2018 Awatere Valley, Marlborough\", \"Jim Barry Cover Drive Cabernet Sauvignon 2015 Coonawarra\", \"\\\"The Astronomer\\\" Chardonnay 2018 De Bortoli\", \"La R\\u00e9serve de L\\u00e9oville-Barton 2016 St-Julien\", \"C\\u00f4tes-du-Rh\\u00f4ne 2017/18 L\\u00e9on Perdigal\", \"M\\u00e2con Rouge 'Les Roches Rouges' 2017 Louis Jadot\", \"Desire Lush & Zin 2018\", \"Les Sources De Livran, Ch\\u00e2teau Livran\", \"The Ned Pinot Grigio 2018 Marlborough\", \"Primitivo 2017 Natale Verga\", \"Krasno Pinot Bianco\", \"Rioja Gran Reserva 2011 Marqu\\u00e9s de C\\u00e1ceres\", \"Acacia Road Sauvignon Blanc 2018\", \"Definition Medoc Claret 2015\", \"Araldica Barbera d'Asti DOCG\", \"Pouilly-Fum\\u00e9 'Les Griottes' 2018 Jean-Pierre Bailly\", \"Barista Pinotage 2018 Western Cape\", \"Rioja Reserva 2014 Vi\\u00f1a Alarde\", \"Martinborough Vineyard \\u0091Te Tera\\u0092 Pinot Noir 2017 Martinborough\", \"Mayu Carmenere Apassimento 2016\", \"Rioja Reserva 2015 Muga\", \"Edna Valley Pinot Noir 2017\", \"Chronic Cellars Purple Paradise 2017 Paso Robles\", \"Ch\\u00e2teau Musar 2003 Gaston Hochar\", \"Luis Felipe Edwards Gran Reserva Chardonnay 2018 Casablanca Valley\", \"Kaiken Seleccion Especial Malbec 2018, Mendoza\", \"Pinot Grigio Villa Vito 2018\", \"Hey Malbec! 2018 Matias Riccitelli, Mendoza\", \"Winemaker Series Shiraz 2016\", \"Edna Valley Chardonnay 2017\", \"Ch\\u00e2teau Grand Faurie La Rose 2013/14 St-Emilion Grand Cru\", \"Santa Rita Medalla Real Carmen\\u00e8re 2017 Colchagua Valley\", \"Passimento Bianco 2018 Pasqua\", \"Majestic Loves Spanish Red 2018\", \"Barolo 2015 Ciabot Berton\", \"Gavi 2018 Araldica\", \"Faustino Rivero Ulecia Vendimia Seleccionada Rioja\", \"Luis Felipe Edwards Gran Reserva Merlot 2018 Colchagua Valley\", \"Domodo Negroamaro IGP Puglia 2018\", \"Majestic Loves Chardonnay 2018\", \"Chalk Bay Sauvignon Blanc\", \"Petit Perdigal Rouge 2018\", \"Elysium Black Muscat 2015 Half Bottle\", \"Capaia One 2015\", \"Casal de Ventozela 2018 Vinho Verde\", \"Muscadet de S\\u00e8vre et Maine Sur Lie 2018 Domaine de la Tourmaline\", \"Klein Constantia Sauvignon Blanc 2018 Constantia\", \"Rioja Reserva 2013 Vi\\u00f1a Pomal\", \"Black Cottage Sauvignon Blanc 2018 Marlborough\", \"Ch\\u00e2teau de Pennautier 2015 Cabard\\u00e8s\", \"Porta 6 Ros\\u00e9 2018\", \"Winemaker Series Swartland Red 2017\", \"Morgon 2018 Ch\\u00e2teau de Pizay\", \"Macon Villages Elodie Dupres\", \"Russian Jack Pinot Noir 2017 Martinborough Vineyards\", \"Definition Gavi DOCG 2018\", \"Saint Clair Pioneer Block Pinot Noir 2017 Marlborough\", \"Santa Rita Medalla Real Cabernet Sauvignon 2016 Maipo Valley\", \"Gnarly Dudes Shiraz 2016 Two Hands, Barossa Valley\", \"Acacia Road Merlot 2018\", \"Greywacke Sauvignon 2018 Marlborough\", \"Gavi 2018 La Toledana\", \"Bourgogne Pinot Noir 2016 Louis Latour\", \"Avior Malbec 2018\", \"Aresti Bellavista Sauvignon Gris 2017\", \"Nettie Viognier 2017\", \"Los Vascos Cabernet Sauvignon 2017 Domaines Baron de Rothschild, Colchagua\", \"Alegro Rioja Crianza 2016\", \"Majestic Loves Gruner Veltliner 2018\", \"Men in White Coats Viognier 2019\", \"Definition Viognier 2018\", \"Definition Chenin Blanc 2018\", \"Goldwater Sauvignon Blanc 2018 Marlborough\", \"The Astronomer Shiraz 2018 De Bortoli\", \"Majestic Loves Montepulciano 2018\", \"Valle Antigua Chardonnay 2018\", \"Parcel Series Marlborough Sauvignon Blanc 2018\", \"Vi\\u00f1alba Malbec-Touriga Nacional Reserve 2017 Mendoza\", \"Rioja Reserva Selecci\\u00f3n Especial 2014 Muga\", \"Santa Rita 120 Carm\\u00e9n\\u00e8re 2018 Central Valley\", \"C\\u00f4tes du Rh\\u00f4ne Belleruche 2018 M.Chapoutier\", \"Definition Gr\\u00fcner Veltliner 2018\", \"Saint Clair Pioneer Block Sauvignon Blanc 2016 Marlborough\", \"Acacia Road Chenin Blanc 2018\", \"S\\u00e9gla 2012 Margaux\", \"Roaring Meg Pinot Noir 2017 Mt Difficulty, Central Otago\", \"Oyster Bay Merlot 2017 Hawke's Bay\", \"Vir\\u00e9-Cless\\u00e9 Cave de Vir\\u00e9\", \"Definition Carm\\u00e9n\\u00e8re 2017, Maipo Valley\", \"Montagny 'Vieilles Vignes' 2016, Cave des Vignerons de Buxy\", \"Waimea Estate Pinot Gris 2018 Nelson\", \"Ten Minutes by Tractor Estate Pinot Noir 2017 Mornington Peninsular\", \"Vasse Felix Filius Chardonnay 2017 Margaret River\", \"Vi\\u00f1alba Gran Reservado Malbec 2016 Mendoza\", \"Montes Single Vineyard Chardonnay 2015\", \"Saint-V\\u00e9ran 2017 Les Vignerons des Grandes Vignes\", \"Valle Antigua Cabernet Sauvignon 2017\", \"Contesa Pecorino 2017/18 IGT Colline Pescaresi\", \"Bellingham 'The Bernard Series' Viognier 2018 Western Cape\", \"Errazuriz Wild Ferment Chardonnay 2016 Casablanca Valley\", \"Dos Minas Malbec\", \"Ch\\u00e2teau de Sainte Gemme Haut-M\\u00e9doc\", \"Devil's Creek Gold Reserve Sauvignon Blanc\", \"Matsu El Picaro 2018 Toro\", \"Vall\\u00e9e Des Pins Ros\\u00e9 2018 C\\u00f4teaux d'Aix en Provence\", \"Miraval Ros\\u00e9 2018 C\\u00f4tes de Provence\", \"Saintsbury Chardonnay 2012 Carneros\", \"Ch\\u00e2teau Guiot 2017 Costi\\u00e8res de N\\u00eemes\", \"Rioja Blanco 2018 Muga\", \"Gufetto Pinot Grigio 2018\", \"Leon Perdigal C\\u00f4tes du Rh\\u00f4ne Ros\\u00e9 2018\", \"Peyrassol, Reserve des Templiers Ros\\u00e9 2018 C\\u00f4tes de Provence\", \"Oyster Bay Chardonnay 2017 Marlborough\", \"Domaine de Villemajou 2017 Corbi\\u00e8res Boutenac, G\\u00e9rard Bertrand\", \"Lirac 2017 Domaine des Garrigues\", \"Minuty Cuv\\u00e9e Prestige 2018 C\\u00f4tes de Provence\", \"Symbiose Piquepoul Sauvignon Blanc 'Cuv\\u00e9e Florence' 2017, C\\u00f4tes de Thau\", \"Villa Maria Private Bin Riesling 2018 Marlborough\", \"La Baume La Grande Olivette, Chenin Blanc Vdf 2018\", \"Hang Loose Cabernet Sauvignon 2015\", \"Sofa King Bueno 2015 Chronic Cellars\", \"Negrar Il Viaggio Appassimento 2018\", \"Waimea Estate Gr\\u00fcner Veltliner 2017 Nelson\", \"Jaboulet Syrah 2017\", \"Villa Belinda Vino Varietal, 2017\", \"Esprit de Pennautier 2014 Cabardes\", \"Paul Mas Estate Marsanne 'La Forge Vineyard' 2018 PGI Pays d Oc\", \"Majestic Loves Merlot 2018\", \"Maison Loron Beaujolais 2017\", \"La Vieille Ferme 2018 Perrin et Fils\", \"Premier Vin du Ch\\u00e2teau de Pitray 2014\", \"Wolf Blass Yellow Label Chardonnay 2017 South Australia\", \"Domaine de Villargeau 2017 C\\u00f4teaux du Giennois\", \"Barolo Araldica 2013\", \"Fattori Soave 2018\", \"Definition C\\u00f4tes Du Rh\\u00f4ne 2017\", \"Rustenberg RM Nicholson 2016 Stellenbosch\", \"Ch\\u00e2teau Coufran 2006 Haut-M\\u00e9doc Cru Bourgeois Sup\\u00e9rieur\", \"Morande M Pinot Noir 2018\", \"Winemaker Series Chardonnay 2017\", \"Kuhlmann-Platz Gew\\u00fcrztraminer 2018 Cave de Hunawihr\", \"Herdade De Gambia 2017\", \"Parcel Series Organic Tempranillo 2017\", \"Parrilla Malbec 2017 Vi\\u00f1alba, Mendoza\", \"Mon Plaisir du Sud Ros\\u00e9 2018\", \"Catena Barrel Fermented Chardonnay 2018 Mendoza\", \"Emilio Moro 2016 Ribera del Duero\", \"Alamos Lujan De Cuyo Cabernet 2017\", \"Morande M Chardonnay 2018\", \"Mon Plaisir du Sud Rouge 2017\", \"Dogajolo Carpineto 2016 Toscana\", \"Haut Poitou Sauvignon Blanc 2017 Pierre Sauvion\", \"Vi\\u00f1alba Fifty 50 2017 Uco Valley\", \"Catena Cabernet Sauvignon 2017 Mendoza\", \"Rustenberg John X Merriman 2017 Stellenbosch\", \"Haut Vol Ros\\u00e9 2018 VdF\", \"Kuhlmann-Platz Riesling 2018 Cave de Hunawihr\", \"The Ned Ros\\u00e9 2018 Waihopai River, Marlborough\", \"Olivier Dubois Cuv\\u00e9e Prestige Sauvignon Blanc 2018\", \"Cillar de Silos Crianza 2016 Ribera del Duero\", \"Luis Felipe Edwards Signature Series Viognier Reserva 2019 Rapel Valley\", \"Porta 6 2015 Magnum\", \"Beaujolais Lantigni\\u00e9 2018 Louis Jadot\", \"C\\u00f4tes-du-Rh\\u00f4ne Blanc 2016 L\\u00e9on Perdigal\", \"Ammazza Pinot Grigio IGT\", \"Ch\\u00e2teau de Berne Ros\\u00e9 2018 C\\u00f4tes de Provence\", \"Fallow's View Shiraz\", \"Ramos Reserva 2017 Vinho Regional Alentejano\", \"Domaine Les Yeuses 'Les Epices' Syrah 2017 PGI Pays d'Oc\", \"Santa Rita 120 Cabernet Franc 2016 Central Valley\", \"Santa Rita 120 Sauvignon Blanc 2017 Central Valley\", \"Ch\\u00e2teau Clarke Listrac-M\\u00e9doc 2010\", \"Morand\\u00e9 one to one Gewurztraminer 2017\", \"Les Haut Vignes Cairanne 2017\", \"Gr\\u00fcner Veltliner 2018 Weing\\u00e4rten Weissenkirchen, Wachau\", \"Errazuriz Estate Series Pinot Noir 2018 Valle de Aconcagua\", \"Sexy Beast Cabernet 2017 Two Hands, McLaren Vale\", \"Amarone Classico 'Vigneti di Roccolo' 2016 Cantina Negrar\", \"LFE 900 Single-Vineyard 2013 Colchagua Valley\", \"Bourgogne Pinot Noir 'Les Pierres Rouges' 2017 Louis Jadot\", \"Vouvray Domaine des Aubuisi\\u00e8res 2018 Cuv\\u00e9e de Perruches, Bernard Fouquet\", \"Catena Alta Malbec 2016 Mendoza\", \"Ch\\u00e2teau Pigoudet \\u0091La Chapelle\\u0092 Ros\\u00e9 2017 Coteaux d\\u0092Aix-en-Provence\", \"Bienbebido Pulpo Albari\\u00f1o 2018\", \"San Huberto Malbec La Rioja\", \"Mas Querido Field Blend 2018\", \"The King's Thorn Pinot Gris 2015 Marlborough\", \"Domaine Compostelle Pomerol 2012\", \"Bourgogne Chardonnay 'Les Chenaudi\\u00e8res' 2016/17 Cave de Lugny\", \"Santa Rita Medalla Real Chardonnay 2018 Limari Valley\", \"As Caixas Godello 2018 Mart\\u00edn C\\u00f3dax, Monterrei\", \"Clare Wine Co Watervale Riesling 2018, Clare Valley\", \"Gabb Family Chardonnay 2018\", \"Verdicchio dei Castelli di Jesi 2018 Monte Schiavo\", \"Croft Reserve Tawny Port\", \"Dr Loosen Slate Hill Riesling 2018\", \"Ch\\u00e2teau Grimont \\u0091Cuv\\u00e9e Prestige\\u0092 2014/2015, Cadillac C\\u00f4tes de Bordeaux.\", \"Waimea Estate Gew\\u00fcrztraminer 2016/17 Nelson\", \"C\\u00f4tes du Rh\\u00f4ne 2016 Vidal-Fleury\", \"Pietrariccia Fiano 2018 Surani\", \"Orvieto Classico Secco Vigneto Mortaro 2018 Barberani\", \"Abbott's & Delaunay Fruits Sauvage Sauvignon Blanc 2017\", \"Jean Bon Merlot IGP Pays D'Oc 2018\", \"Nord Est Vermentino 2017 Cantina del Vermentino\", \"Mas de la Dona, Cotes de Roussillon Villages 2018\", \"Saint Clair Estate Selection Sauvignon Blanc 2018 Marlborough\", \"Pinot Gris Grand Cru Spiegel 2017 Domaines Schlumberger\", \"The Ned Noble Sauvignon Blanc 2015 Half Bottle\", \"Vinalba Malbec Bonarda 2018\", \"Rioja Reserva Imperial 2015 CVNE\", \"Waimea Estate Elara Oaked Sauvignon Blanc 2018\", \"Valpolicella Classico 2018 Cantina di Negrar\", \"L\\u00e2chez-Vous Grenache-Syrah, 2017\", \"Dolcetto d\\u0092Alba 2018 De Forville\", \"Pouilly-Fum\\u00e9 2018 Ladoucette\", \"Les Jamelles Pinot Gris 2018\", \"Catena Alta Chardonnay 2018 Mendoza\", \"Muscadet 2018 Jean Sablenay\", \"Cuv\\u00e9e Sainte Genevi\\u00e8ve Rouge VdF\", \"Zingo Malbec Ros\\u00e9 2018\", \"Errazuriz Sauvignon Blanc 2017 Casablanca Valley\", \"Nettie Zinfandel 2017\", \"Falanghina 2018 Terredora\", \"Bourgogne Chardonnay 2013 Domaine Jomain\", \"The Lodge Hill Riesling 2018 Jim Barry, Clare Valley\", \"Bodega Volcanes Carm\\u00e9n\\u00e8re 2018\", \"Royal Tokaji Dry Tokaji 2015/16\", \"Rioja Reserva 2014 Marqu\\u00e9s de C\\u00e1ceres\", \"Ammazza Montepulciano 2016\", \"El Aviador Tempranillo\", \"Emperors Prize Pinot Noir 2017/2018\", \"Rioja Rosado 2017 Muga\", \"Route 88 White Zinfandel 2015\", \"C\\u00f4tes du Rh\\u00f4ne R\\u00e9serve Rouge 2017 Perrin et Fils\", \"Vi\\u00f1alba Selecci\\u00f3n Torront\\u00e9s 2018 Lujan de Cuyo\", \"Montes Reserva Malbec 2017 Colchagua Valley\", \"La Font Reserva 2013 Valencia\", \"Rioja Rosado 2018 Marqu\\u00e9s de C\\u00e1ceres\", \"Barbaresco 2016 De Forville\", \"Majestic Loves Shiraz 2018\", \"Saluti Bianco\", \"Majestic Loves Rose 2018\", \"Making Tracks Viognier 2018\", \"Chianti Poggio Galiga 2016 Grati\", \"Peter & Ulrich Dry Riesling 2018\", \"Ch\\u00e2teau Guiot Ros\\u00e9 2018 Costi\\u00e8res de N\\u00eemes, France\", \"Marquis de Pennautier Viognier 2018 PGI Pays d'Oc\", \"Coney Pizzicato Pinot Noir 2017 Martinborough\", \"Errazuriz Estate Series Merlot 2018 Valle de Curic\\u00f3\", \"Trebuchet Chardonnay 2017 Western Cape\", \"Errazuriz Single Vineyard Sauvignon Blanc 2017 Casablanca Valley\", \"The Long Coast Cabernet Sauvignon\", \"Mon Plaisir de la Vallee Cabernet Franc 2016 VdF\", \"L'Etoile de Begude Chardonnay 2018 Limoux\", \"Soave Classico 2018 Inama\", \"Lady Sauvignon 2018 Casablanca Valley\", \"Lastarria Malbec 2018\", \"Gran Vendema Rioja Crianza 2015\", \"Making Tracks Shiraz-Cabernet\", \"Saintsbury Pinot Noir 2014 Carneros\", \"Waimea Estate Pinot Noir 2017 Nelson\", \"Hospices de Beaujeu 2017\", \"Dog Point Sauvignon Blanc 2017 Marlborough\", \"Making Tracks Cabernet Sauvignon 2017\", \"Mon Plaisir De La Vallee, Sauvignon Blanc, VdF 2018\", \"Ch\\u00e2teau Margerots Bordeaux Sup\\u00e9rieur\", \"Montes Single Vineyard Merlot 2016\", \"Tio Pepe Fino Gonzalez Byass\", \"Barolo 2013 Natale Verga\", \"Ch\\u00e2teau Livran 2013\", \"Duc de Belmont C\\u00f4teaux Bourguignons 2018 Loron et Fils\", \"Santa Rita 120 Viognier 2017 Central Valley\", \"Song Sparrow Merlot\", \"Star Mountain, Portugal\", \"Trebuchet Red 2018 Western Cape\", \"Marques Tertiaro Gran Reservado 2011\", \"BenMarco Malbec 2018 Dominio del Plata, Mendoza\", \"Errazuriz Estate Series Carmen\\u00e8re 2016 Aconcagua Valley\", \"De Bortoli 1628 Durif\", \"Kuhlmann-Platz Pinot Blanc 2018 Cave de Hunawihr\", \"Burke and Wills Chardonnay, Australia\", \"Revival Zinfandel, California\", \"Lay and Wheeler Rioja Gran Reserva 2011\", \"Tasca \\\"Regaleali\\\" Bianco Di Sicilia 2017\", \"Elara Sauvignon Gris Waimea Estate 2018\", \"Soumah Chardonnay 2018\", \"Rawson's Retreat Riesling 2016, South East Australia\", \"Dom St Jean de la Cavalerie Chardonnay 2018\", \"Morande Reserva One to One Pais 2016\", \"C\\u00f4t\\u00e9 Mas Rouge 2016 PGI Pays d'Oc\", \"Stone Arka Merlot\", \"Gew\\u00fcrztraminer 'Les Princes Abb\\u00e9s' 2016 Domaines Schlumberger\", \"Rey Noble Garnacha\", \"AIX Ros\\u00e9 2018 Coteaux d'Aix en Provence Magnum\", \"La Grille Pinot Noir Ros\\u00e9 2018 Vin de France\", \"Saluti Rosso\", \"Rioja Reserva 2015 Marqu\\u00e9s de Vargas\", \"Chablis Elodie Dupr\\u00e9s 2016\", \"Dehesa Gago, Tinta de Toro 2016\", \"Essensia Orange Muscat 2016 Andrew Quady Half Bottle\", \"Morala Riverland Old Vine Grenache 2018\", \"BDX Sauvignon Blanc\", \"Finca El Cuento Blanco 2018\", \"Alamos Uco Valley Chardonnay 2018\", \"Definition Shiraz 2017\", \"Wolf Blass Yellow Label Cabernet Sauvignon 2017 South Australia\", \"Sassaiolo Rosso Piceno 2014 Monte Schiavo\", \"Hokum Chardonnay\", \"Fief de yrano Bergerac, France\", \"Fief de yrano Bergerac, France\"], \"legendgroup\": \"\", \"marker\": {\"color\": \"#636efa\", \"symbol\": \"circle\"}, \"mode\": \"markers\", \"name\": \"\", \"showlegend\": false, \"type\": \"scatter\", \"x\": [195.0, 320.0, 54.0, 177.0, 306.0, 313.0, 830.0, 172.0, 171.0, 334.0, 401.0, 114.0, 222.0, 280.0, 183.0, 74.0, 294.0, 266.0, 157.0, 170.0, 331.0, 129.0, 1565.0, 114.0, 545.0, 318.0, 1601.0, 101.0, 241.0, 244.0, 21.0, 379.0, 332.0, 458.0, 458.0, 777.0, 186.0, 246.0, 246.0, 241.0, 231.0, 231.0, 134.0, 155.0, 122.0, 122.0, 148.0, 25.0, 181.0, 137.0, 103.0, 282.0, 251.0, 441.0, 549.0, 212.0, 216.0, 213.0, 67.0, 29.0, 54.0, 219.0, 165.0, 191.0, 110.0, 379.0, 25.0, 72.0, 87.0, 105.0, 49.0, 140.0, 24.0, 463.0, 45.0, 76.0, 202.0, 114.0, 196.0, 155.0, 50.0, 206.0, 32.0, 118.0, 406.0, 78.0, 29.0, 322.0, 92.0, 112.0, 66.0, 226.0, 226.0, 63.0, 270.0, 26.0, 192.0, 23.0, 67.0, 226.0, 90.0, 22.0, 356.0, 84.0, 84.0, 59.0, 251.0, 170.0, 136.0, 33.0, 43.0, 34.0, 65.0, 69.0, 209.0, 415.0, 51.0, 31.0, 83.0, 175.0, 125.0, 80.0, 206.0, 204.0, 56.0, 270.0, 46.0, 142.0, 37.0, 176.0, 141.0, 112.0, 31.0, 80.0, 36.0, 159.0, 93.0, 35.0, 59.0, 94.0, 39.0, 50.0, 193.0, 110.0, 30.0, 98.0, 177.0, 136.0, 182.0, 194.0, 63.0, 63.0, 42.0, 21.0, 70.0, 100.0, 45.0, 56.0, 21.0, 195.0, 34.0, 38.0, 94.0, 87.0, 27.0, 23.0, 99.0, 21.0, 152.0, 86.0, 160.0, 128.0, 92.0, 30.0, 56.0, 84.0, 48.0, 233.0, 213.0, 224.0, 127.0, 43.0, 29.0, 47.0, 69.0, 59.0, 24.0, 27.0, 152.0, 152.0, 29.0, 45.0, 27.0, 28.0, 44.0, 104.0, 69.0, 71.0, 56.0, 49.0, 65.0, 92.0, 51.0, 43.0, 25.0, 161.0, 56.0, 98.0, 133.0, 64.0, 42.0, 28.0, 39.0, 23.0, 85.0, 70.0, 27.0, 29.0, 36.0, 106.0, 41.0, 94.0, 39.0, 23.0, 122.0, 59.0, 28.0, 52.0, 65.0, 50.0, 77.0, 37.0, 32.0, 154.0, 115.0, 36.0, 32.0, 27.0, 51.0, 244.0, 45.0, 149.0, 103.0, 38.0, 90.0, 23.0, 68.0, 198.0, 94.0, 40.0, 111.0, 36.0, 140.0, 80.0, 41.0, 138.0, 71.0, 44.0, 161.0, 46.0, 48.0, 37.0, 192.0, 93.0, 93.0, 106.0, 67.0, 41.0, 30.0, 30.0, 68.0, 27.0, 104.0, 54.0, 28.0, 65.0, 22.0, 26.0, 32.0, 32.0, 55.0, 88.0, 37.0, 51.0, 27.0, 27.0, 78.0, 86.0, 99.0, 38.0, 59.0, 49.0, 22.0, 52.0, 23.0, 103.0, 77.0, 130.0, 57.0, 95.0, 27.0, 45.0, 98.0, 126.0, 29.0, 36.0, 49.0, 32.0, 22.0, 75.0, 113.0, 26.0, 21.0, 48.0, 33.0, 56.0, 29.0, 41.0, 92.0, 89.0, 50.0, 27.0, 42.0, 168.0, 45.0, 53.0, 194.0, 30.0, 54.0, 40.0, 22.0, 88.0, 57.0, 58.0, 58.0, 35.0, 23.0, 44.0, 59.0, 22.0, 58.0, 116.0, 60.0, 41.0, 62.0, 23.0, 70.0, 144.0, 48.0, 82.0, 56.0, 34.0, 38.0, 40.0, 30.0, 165.0, 28.0, 26.0, 49.0, 31.0, 24.0, 40.0, 66.0, 33.0, 44.0, 26.0, 32.0, 23.0, 26.0, 88.0, 38.0, 29.0, 44.0, 60.0, 95.0, 118.0, 74.0, 76.0, 27.0, 39.0, 22.0, 68.0, 38.0, 30.0, 22.0, 94.0, 31.0, 52.0, 32.0, 23.0, 40.0, 41.0, 37.0, 130.0, 29.0, 45.0, 57.0, 22.0, 26.0, 38.0, 33.0, 23.0, 80.0, 98.0, 61.0, 41.0, 21.0, 21.0], \"xaxis\": \"x\", \"y\": [91.0, 93.0, 91.0, 92.0, 97.0, 98.0, 93.0, 86.0, 93.0, 86.0, 96.0, 96.0, 91.0, 92.0, 87.0, 95.0, 88.0, 94.0, 92.0, 91.0, 95.0, 95.0, 95.0, 92.0, 97.0, 93.0, 96.0, 96.0, 94.0, 94.0, 100.0, 95.0, 94.0, 95.0, 95.0, 98.0, 94.0, 95.0, 95.0, 90.0, 87.0, 87.0, 93.0, 94.0, 93.0, 98.0, 94.0, 80.0, 97.0, 96.0, 83.0, 94.0, 93.0, 96.0, 94.0, 97.0, 94.0, 95.0, 90.0, 97.0, 93.0, 92.0, 93.0, 90.0, 92.0, 93.0, 92.0, 90.0, 92.0, 89.0, 86.0, 89.0, 100.0, 92.0, 93.0, 96.0, 93.0, 84.0, 89.0, 92.0, 94.0, 90.0, 97.0, 92.0, 96.0, 92.0, 90.0, 95.0, 93.0, 91.0, 89.0, 94.0, 94.0, 97.0, 93.0, 96.0, 97.0, 74.0, 97.0, 93.0, 91.0, 73.0, 94.0, 88.0, 92.0, 61.0, 94.0, 84.0, 96.0, 100.0, 95.0, 94.0, 94.0, 91.0, 85.0, 86.0, 92.0, 90.0, 95.0, 94.0, 88.0, 90.0, 91.0, 96.0, 88.0, 91.0, 93.0, 94.0, 92.0, 96.0, 94.0, 91.0, 97.0, 91.0, 69.0, 92.0, 86.0, 91.0, 59.0, 96.0, 97.0, 94.0, 93.0, 92.0, 93.0, 94.0, 92.0, 86.0, 97.0, 92.0, 92.0, 92.0, 90.0, 62.0, 97.0, 94.0, 96.0, 96.0, 100.0, 89.0, 68.0, 92.0, 94.0, 90.0, 81.0, 100.0, 89.0, 100.0, 91.0, 92.0, 91.0, 86.0, 85.0, 90.0, 91.0, 92.0, 96.0, 89.0, 91.0, 88.0, 94.0, 88.0, 79.0, 91.0, 84.0, 98.0, 96.0, 96.0, 95.0, 95.0, 90.0, 91.0, 85.0, 79.0, 82.0, 94.0, 90.0, 94.0, 95.0, 78.0, 95.0, 93.0, 94.0, 86.0, 96.0, 90.0, 89.0, 73.0, 91.0, 92.0, 90.0, 89.0, 90.0, 91.0, 94.0, 91.0, 81.0, 90.0, 100.0, 96.0, 88.0, 82.0, 87.0, 100.0, 90.0, 88.0, 93.0, 85.0, 85.0, 88.0, 95.0, 73.0, 97.0, 83.0, 94.0, 67.0, 62.0, 93.0, 90.0, 94.0, 91.0, 90.0, 94.0, 89.0, 96.0, 96.0, 94.0, 91.0, 87.0, 92.0, 94.0, 86.0, 94.0, 94.0, 95.0, 95.0, 93.0, 86.0, 88.0, 98.0, 77.0, 86.0, 84.0, 83.0, 83.0, 92.0, 84.0, 93.0, 87.0, 87.0, 93.0, 81.0, 93.0, 83.0, 93.0, 97.0, 95.0, 88.0, 94.0, 94.0, 95.0, 92.0, 95.0, 94.0, 89.0, 89.0, 90.0, 93.0, 93.0, 89.0, 81.0, 86.0, 86.0, 83.0, 74.0, 88.0, 92.0, 89.0, 88.0, 87.0, 85.0, 91.0, 98.0, 96.0, 93.0, 92.0, 84.0, 97.0, 95.0, 85.0, 95.0, 73.0, 100.0, 94.0, 97.0, 88.0, 66.0, 95.0, 87.0, 85.0, 94.0, 85.0, 79.0, 92.0, 82.0, 94.0, 90.0, 83.0, 78.0, 92.0, 91.0, 86.0, 88.0, 93.0, 86.0, 86.0, 74.0, 77.0, 85.0, 68.0, 79.0, 84.0, 97.0, 83.0, 77.0, 83.0, 89.0, 91.0, 94.0, 84.0, 84.0, 97.0, 92.0, 88.0, 87.0, 79.0, 93.0, 96.0, 80.0, 97.0, 92.0, 72.0, 91.0, 76.0, 93.0, 92.0, 62.0, 87.0, 96.0, 86.0, 84.0, 83.0, 82.0, 82.0, 87.0, 90.0, 80.0, 95.0, 30.0, 77.0, 86.0, 90.0, 87.0, 87.0, 95.0, 88.0, 81.0, 85.0, 84.0, 100.0, 75.0, 95.0, 89.0, 69.0, 86.0, 80.0, 95.0, 91.0, 81.0, 82.0, 64.0, 96.0, 94.0, 84.0, 84.0, 63.0, 33.0, 33.0], \"yaxis\": \"y\"}],\n",
       "                        {\"height\": 600, \"legend\": {\"tracegroupgap\": 0}, \"margin\": {\"t\": 60}, \"template\": {\"data\": {\"bar\": [{\"error_x\": {\"color\": \"#2a3f5f\"}, \"error_y\": {\"color\": \"#2a3f5f\"}, \"marker\": {\"line\": {\"color\": \"#E5ECF6\", \"width\": 0.5}}, \"type\": \"bar\"}], \"barpolar\": [{\"marker\": {\"line\": {\"color\": \"#E5ECF6\", \"width\": 0.5}}, \"type\": \"barpolar\"}], \"carpet\": [{\"aaxis\": {\"endlinecolor\": \"#2a3f5f\", \"gridcolor\": \"white\", \"linecolor\": \"white\", \"minorgridcolor\": \"white\", \"startlinecolor\": \"#2a3f5f\"}, \"baxis\": {\"endlinecolor\": \"#2a3f5f\", \"gridcolor\": \"white\", \"linecolor\": \"white\", \"minorgridcolor\": \"white\", \"startlinecolor\": \"#2a3f5f\"}, \"type\": \"carpet\"}], \"choropleth\": [{\"colorbar\": {\"outlinewidth\": 0, \"ticks\": \"\"}, \"type\": \"choropleth\"}], \"contour\": [{\"colorbar\": {\"outlinewidth\": 0, \"ticks\": \"\"}, \"colorscale\": [[0.0, \"#0d0887\"], [0.1111111111111111, \"#46039f\"], [0.2222222222222222, \"#7201a8\"], [0.3333333333333333, \"#9c179e\"], [0.4444444444444444, \"#bd3786\"], [0.5555555555555556, \"#d8576b\"], [0.6666666666666666, \"#ed7953\"], [0.7777777777777778, \"#fb9f3a\"], [0.8888888888888888, \"#fdca26\"], [1.0, \"#f0f921\"]], \"type\": \"contour\"}], \"contourcarpet\": [{\"colorbar\": {\"outlinewidth\": 0, \"ticks\": \"\"}, \"type\": \"contourcarpet\"}], \"heatmap\": [{\"colorbar\": {\"outlinewidth\": 0, \"ticks\": \"\"}, \"colorscale\": [[0.0, \"#0d0887\"], [0.1111111111111111, \"#46039f\"], [0.2222222222222222, \"#7201a8\"], [0.3333333333333333, \"#9c179e\"], [0.4444444444444444, \"#bd3786\"], [0.5555555555555556, \"#d8576b\"], [0.6666666666666666, \"#ed7953\"], [0.7777777777777778, \"#fb9f3a\"], [0.8888888888888888, \"#fdca26\"], [1.0, \"#f0f921\"]], \"type\": \"heatmap\"}], \"heatmapgl\": [{\"colorbar\": {\"outlinewidth\": 0, \"ticks\": \"\"}, \"colorscale\": [[0.0, \"#0d0887\"], [0.1111111111111111, \"#46039f\"], [0.2222222222222222, \"#7201a8\"], [0.3333333333333333, \"#9c179e\"], [0.4444444444444444, \"#bd3786\"], [0.5555555555555556, \"#d8576b\"], [0.6666666666666666, \"#ed7953\"], [0.7777777777777778, \"#fb9f3a\"], [0.8888888888888888, \"#fdca26\"], [1.0, \"#f0f921\"]], \"type\": \"heatmapgl\"}], \"histogram\": [{\"marker\": {\"colorbar\": {\"outlinewidth\": 0, \"ticks\": \"\"}}, \"type\": \"histogram\"}], \"histogram2d\": [{\"colorbar\": {\"outlinewidth\": 0, \"ticks\": \"\"}, \"colorscale\": [[0.0, \"#0d0887\"], [0.1111111111111111, \"#46039f\"], [0.2222222222222222, \"#7201a8\"], [0.3333333333333333, \"#9c179e\"], [0.4444444444444444, \"#bd3786\"], [0.5555555555555556, \"#d8576b\"], [0.6666666666666666, \"#ed7953\"], [0.7777777777777778, \"#fb9f3a\"], [0.8888888888888888, \"#fdca26\"], [1.0, \"#f0f921\"]], \"type\": \"histogram2d\"}], \"histogram2dcontour\": [{\"colorbar\": {\"outlinewidth\": 0, \"ticks\": \"\"}, \"colorscale\": [[0.0, \"#0d0887\"], [0.1111111111111111, \"#46039f\"], [0.2222222222222222, \"#7201a8\"], [0.3333333333333333, \"#9c179e\"], [0.4444444444444444, \"#bd3786\"], [0.5555555555555556, \"#d8576b\"], [0.6666666666666666, \"#ed7953\"], [0.7777777777777778, \"#fb9f3a\"], [0.8888888888888888, \"#fdca26\"], [1.0, \"#f0f921\"]], \"type\": \"histogram2dcontour\"}], \"mesh3d\": [{\"colorbar\": {\"outlinewidth\": 0, \"ticks\": \"\"}, \"type\": \"mesh3d\"}], \"parcoords\": [{\"line\": {\"colorbar\": {\"outlinewidth\": 0, \"ticks\": \"\"}}, \"type\": \"parcoords\"}], \"scatter\": [{\"marker\": {\"colorbar\": {\"outlinewidth\": 0, \"ticks\": \"\"}}, \"type\": \"scatter\"}], \"scatter3d\": [{\"line\": {\"colorbar\": {\"outlinewidth\": 0, \"ticks\": \"\"}}, \"marker\": {\"colorbar\": {\"outlinewidth\": 0, \"ticks\": \"\"}}, \"type\": \"scatter3d\"}], \"scattercarpet\": [{\"marker\": {\"colorbar\": {\"outlinewidth\": 0, \"ticks\": \"\"}}, \"type\": \"scattercarpet\"}], \"scattergeo\": [{\"marker\": {\"colorbar\": {\"outlinewidth\": 0, \"ticks\": \"\"}}, \"type\": \"scattergeo\"}], \"scattergl\": [{\"marker\": {\"colorbar\": {\"outlinewidth\": 0, \"ticks\": \"\"}}, \"type\": \"scattergl\"}], \"scattermapbox\": [{\"marker\": {\"colorbar\": {\"outlinewidth\": 0, \"ticks\": \"\"}}, \"type\": \"scattermapbox\"}], \"scatterpolar\": [{\"marker\": {\"colorbar\": {\"outlinewidth\": 0, \"ticks\": \"\"}}, \"type\": \"scatterpolar\"}], \"scatterpolargl\": [{\"marker\": {\"colorbar\": {\"outlinewidth\": 0, \"ticks\": \"\"}}, \"type\": \"scatterpolargl\"}], \"scatterternary\": [{\"marker\": {\"colorbar\": {\"outlinewidth\": 0, \"ticks\": \"\"}}, \"type\": \"scatterternary\"}], \"surface\": [{\"colorbar\": {\"outlinewidth\": 0, \"ticks\": \"\"}, \"colorscale\": [[0.0, \"#0d0887\"], [0.1111111111111111, \"#46039f\"], [0.2222222222222222, \"#7201a8\"], [0.3333333333333333, \"#9c179e\"], [0.4444444444444444, \"#bd3786\"], [0.5555555555555556, \"#d8576b\"], [0.6666666666666666, \"#ed7953\"], [0.7777777777777778, \"#fb9f3a\"], [0.8888888888888888, \"#fdca26\"], [1.0, \"#f0f921\"]], \"type\": \"surface\"}], \"table\": [{\"cells\": {\"fill\": {\"color\": \"#EBF0F8\"}, \"line\": {\"color\": \"white\"}}, \"header\": {\"fill\": {\"color\": \"#C8D4E3\"}, \"line\": {\"color\": \"white\"}}, \"type\": \"table\"}]}, \"layout\": {\"annotationdefaults\": {\"arrowcolor\": \"#2a3f5f\", \"arrowhead\": 0, \"arrowwidth\": 1}, \"colorscale\": {\"diverging\": [[0, \"#8e0152\"], [0.1, \"#c51b7d\"], [0.2, \"#de77ae\"], [0.3, \"#f1b6da\"], [0.4, \"#fde0ef\"], [0.5, \"#f7f7f7\"], [0.6, \"#e6f5d0\"], [0.7, \"#b8e186\"], [0.8, \"#7fbc41\"], [0.9, \"#4d9221\"], [1, \"#276419\"]], \"sequential\": [[0.0, \"#0d0887\"], [0.1111111111111111, \"#46039f\"], [0.2222222222222222, \"#7201a8\"], [0.3333333333333333, \"#9c179e\"], [0.4444444444444444, \"#bd3786\"], [0.5555555555555556, \"#d8576b\"], [0.6666666666666666, \"#ed7953\"], [0.7777777777777778, \"#fb9f3a\"], [0.8888888888888888, \"#fdca26\"], [1.0, \"#f0f921\"]], \"sequentialminus\": [[0.0, \"#0d0887\"], [0.1111111111111111, \"#46039f\"], [0.2222222222222222, \"#7201a8\"], [0.3333333333333333, \"#9c179e\"], [0.4444444444444444, \"#bd3786\"], [0.5555555555555556, \"#d8576b\"], [0.6666666666666666, \"#ed7953\"], [0.7777777777777778, \"#fb9f3a\"], [0.8888888888888888, \"#fdca26\"], [1.0, \"#f0f921\"]]}, \"colorway\": [\"#636efa\", \"#EF553B\", \"#00cc96\", \"#ab63fa\", \"#FFA15A\", \"#19d3f3\", \"#FF6692\", \"#B6E880\", \"#FF97FF\", \"#FECB52\"], \"font\": {\"color\": \"#2a3f5f\"}, \"geo\": {\"bgcolor\": \"white\", \"lakecolor\": \"white\", \"landcolor\": \"#E5ECF6\", \"showlakes\": true, \"showland\": true, \"subunitcolor\": \"white\"}, \"hoverlabel\": {\"align\": \"left\"}, \"hovermode\": \"closest\", \"mapbox\": {\"style\": \"light\"}, \"paper_bgcolor\": \"white\", \"plot_bgcolor\": \"#E5ECF6\", \"polar\": {\"angularaxis\": {\"gridcolor\": \"white\", \"linecolor\": \"white\", \"ticks\": \"\"}, \"bgcolor\": \"#E5ECF6\", \"radialaxis\": {\"gridcolor\": \"white\", \"linecolor\": \"white\", \"ticks\": \"\"}}, \"scene\": {\"xaxis\": {\"backgroundcolor\": \"#E5ECF6\", \"gridcolor\": \"white\", \"gridwidth\": 2, \"linecolor\": \"white\", \"showbackground\": true, \"ticks\": \"\", \"zerolinecolor\": \"white\"}, \"yaxis\": {\"backgroundcolor\": \"#E5ECF6\", \"gridcolor\": \"white\", \"gridwidth\": 2, \"linecolor\": \"white\", \"showbackground\": true, \"ticks\": \"\", \"zerolinecolor\": \"white\"}, \"zaxis\": {\"backgroundcolor\": \"#E5ECF6\", \"gridcolor\": \"white\", \"gridwidth\": 2, \"linecolor\": \"white\", \"showbackground\": true, \"ticks\": \"\", \"zerolinecolor\": \"white\"}}, \"shapedefaults\": {\"line\": {\"color\": \"#2a3f5f\"}}, \"ternary\": {\"aaxis\": {\"gridcolor\": \"white\", \"linecolor\": \"white\", \"ticks\": \"\"}, \"baxis\": {\"gridcolor\": \"white\", \"linecolor\": \"white\", \"ticks\": \"\"}, \"bgcolor\": \"#E5ECF6\", \"caxis\": {\"gridcolor\": \"white\", \"linecolor\": \"white\", \"ticks\": \"\"}}, \"title\": {\"x\": 0.05}, \"xaxis\": {\"automargin\": true, \"gridcolor\": \"white\", \"linecolor\": \"white\", \"ticks\": \"\", \"zerolinecolor\": \"white\", \"zerolinewidth\": 2}, \"yaxis\": {\"automargin\": true, \"gridcolor\": \"white\", \"linecolor\": \"white\", \"ticks\": \"\", \"zerolinecolor\": \"white\", \"zerolinewidth\": 2}}}, \"xaxis\": {\"anchor\": \"y\", \"domain\": [0.0, 0.98], \"title\": {\"text\": \"Number of Reviewers\"}}, \"yaxis\": {\"anchor\": \"x\", \"domain\": [0.0, 1.0], \"title\": {\"text\": \"Percentage of reviewers who would buy again\"}}},\n",
       "                        {\"responsive\": true}\n",
       "                    ).then(function(){\n",
       "                            \n",
       "var gd = document.getElementById('146ae20c-99d0-4e3a-af67-8260d2c011e9');\n",
       "var x = new MutationObserver(function (mutations, observer) {{\n",
       "        var display = window.getComputedStyle(gd).display;\n",
       "        if (!display || display === 'none') {{\n",
       "            console.log([gd, 'removed!']);\n",
       "            Plotly.purge(gd);\n",
       "            observer.disconnect();\n",
       "        }}\n",
       "}});\n",
       "\n",
       "// Listen for the removal of the full notebook cells\n",
       "var notebookContainer = gd.closest('#notebook-container');\n",
       "if (notebookContainer) {{\n",
       "    x.observe(notebookContainer, {childList: true});\n",
       "}}\n",
       "\n",
       "// Listen for the clearing of the current output cell\n",
       "var outputEl = gd.closest('.output');\n",
       "if (outputEl) {{\n",
       "    x.observe(outputEl, {childList: true});\n",
       "}}\n",
       "\n",
       "                        })\n",
       "                };\n",
       "                });\n",
       "            </script>\n",
       "        </div>"
      ]
     },
     "metadata": {},
     "output_type": "display_data"
    }
   ],
   "source": [
    "reviewer_subset = majestic_df[majestic_df['Number of Reviewers']>20]\n",
    "import plotly.express as px\n",
    "fig = px.scatter(reviewer_subset, x=reviewer_subset['Number of Reviewers'], y=reviewer_subset['Percentage of reviewers who would buy again'], hover_name=reviewer_subset['Name'])\n",
    "fig.show()"
   ]
  },
  {
   "cell_type": "code",
   "execution_count": 84,
   "metadata": {},
   "outputs": [
    {
     "data": {
      "text/plain": [
       "Text(0.5, 1.0, 'Red Prices by Description')"
      ]
     },
     "execution_count": 84,
     "metadata": {},
     "output_type": "execute_result"
    },
    {
     "data": {
      "image/png": "[encoded data removed]",
      "text/plain": [
       "<Figure size 432x288 with 1 Axes>"
      ]
     },
     "metadata": {
      "needs_background": "light"
     },
     "output_type": "display_data"
    }
   ],
   "source": [
    "### Price averages for Red Wine\n",
    "\n",
    "majestic_df[majestic_df['Type']=='Red'].groupby('Short Description')['Per Bottle Price'].mean().sort_values(ascending=True).plot.bar(color='r')\n",
    "plt.ylabel('Average Price (£)')\n",
    "plt.xlabel('')\n",
    "plt.xticks(rotation=45)\n",
    "plt.title('Red Prices by Description')"
   ]
  },
  {
   "cell_type": "code",
   "execution_count": 85,
   "metadata": {},
   "outputs": [
    {
     "data": {
      "text/plain": [
       "Text(0.5, 1.0, 'Red Prices by Style')"
      ]
     },
     "execution_count": 85,
     "metadata": {},
     "output_type": "execute_result"
    },
    {
     "data": {
      "image/png": "[encoded data removed]",
      "text/plain": [
       "<Figure size 432x288 with 1 Axes>"
      ]
     },
     "metadata": {
      "needs_background": "light"
     },
     "output_type": "display_data"
    }
   ],
   "source": [
    "majestic_df[majestic_df['Type']=='Red'].groupby('Style')['Per Bottle Price'].mean().sort_values(ascending=True).plot.bar(color='r')\n",
    "plt.xlabel('')\n",
    "plt.ylabel('Average Price (£)')\n",
    "plt.xticks(rotation=45)\n",
    "plt.title('Red Prices by Style')"
   ]
  },
  {
   "cell_type": "code",
   "execution_count": 86,
   "metadata": {},
   "outputs": [
    {
     "data": {
      "text/plain": [
       "Text(0, 0.5, '% who would buy again')"
      ]
     },
     "execution_count": 86,
     "metadata": {},
     "output_type": "execute_result"
    },
    {
     "data": {
      "image/png": "[encoded data removed]",
      "text/plain": [
       "<Figure size 432x288 with 1 Axes>"
      ]
     },
     "metadata": {
      "needs_background": "light"
     },
     "output_type": "display_data"
    }
   ],
   "source": [
    "reviewer_subset[reviewer_subset['Type']=='Red'].groupby('Style')['Percentage of reviewers who would buy again'].mean().sort_values(ascending=True).plot.bar(color='r')\n",
    "plt.title('Style by Customer Approval')\n",
    "plt.xticks(rotation=45)\n",
    "plt.ylabel('% who would buy again')"
   ]
  },
  {
   "cell_type": "code",
   "execution_count": 87,
   "metadata": {},
   "outputs": [
    {
     "data": {
      "text/plain": [
       "Text(0.5, 1.0, 'White Prices by Description')"
      ]
     },
     "execution_count": 87,
     "metadata": {},
     "output_type": "execute_result"
    },
    {
     "data": {
      "image/png": "[encoded data removed]",
      "text/plain": [
       "<Figure size 432x288 with 1 Axes>"
      ]
     },
     "metadata": {
      "needs_background": "light"
     },
     "output_type": "display_data"
    }
   ],
   "source": [
    "### Price avgs for White\n",
    "majestic_df[majestic_df['Type']=='White'].groupby('Short Description')['Per Bottle Price'].mean().sort_values(ascending=True).plot.bar(color='g')\n",
    "plt.ylabel('Average Price (£)')\n",
    "plt.xlabel('')\n",
    "plt.xticks(rotation=45)\n",
    "plt.title('White Prices by Description')"
   ]
  },
  {
   "cell_type": "code",
   "execution_count": 88,
   "metadata": {},
   "outputs": [
    {
     "data": {
      "text/plain": [
       "Text(0.5, 1.0, 'White Prices by Style')"
      ]
     },
     "execution_count": 88,
     "metadata": {},
     "output_type": "execute_result"
    },
    {
     "data": {
      "image/png": "[encoded data removed]",
      "text/plain": [
       "<Figure size 432x288 with 1 Axes>"
      ]
     },
     "metadata": {
      "needs_background": "light"
     },
     "output_type": "display_data"
    }
   ],
   "source": [
    "majestic_df[majestic_df['Type']=='White'].groupby('Style')['Per Bottle Price'].mean().sort_values(ascending=True).plot.bar(color='g')\n",
    "plt.xlabel('')\n",
    "plt.ylabel('Average Price (£)')\n",
    "plt.xticks(rotation=45)\n",
    "plt.title('White Prices by Style')"
   ]
  },
  {
   "cell_type": "code",
   "execution_count": 89,
   "metadata": {},
   "outputs": [
    {
     "data": {
      "text/plain": [
       "Text(0, 0.5, '% who would buy again')"
      ]
     },
     "execution_count": 89,
     "metadata": {},
     "output_type": "execute_result"
    },
    {
     "data": {
      "image/png": "[encoded data removed]",
      "text/plain": [
       "<Figure size 432x288 with 1 Axes>"
      ]
     },
     "metadata": {
      "needs_background": "light"
     },
     "output_type": "display_data"
    }
   ],
   "source": [
    "reviewer_subset[reviewer_subset['Type']=='White'].groupby('Style')['Percentage of reviewers who would buy again'].mean().sort_values(ascending=True).plot.bar(color='g')\n",
    "plt.title('Style by Customer Approval')\n",
    "plt.xticks(rotation=45)\n",
    "plt.ylabel('% who would buy again')"
   ]
  },
  {
   "cell_type": "code",
   "execution_count": 90,
   "metadata": {},
   "outputs": [
    {
     "data": {
      "text/plain": [
       "Text(0.5, 1.0, 'Cork Premium')"
      ]
     },
     "execution_count": 90,
     "metadata": {},
     "output_type": "execute_result"
    },
    {
     "data": {
      "image/png": "[encoded data removed]",
      "text/plain": [
       "<Figure size 432x288 with 1 Axes>"
      ]
     },
     "metadata": {
      "needs_background": "light"
     },
     "output_type": "display_data"
    }
   ],
   "source": [
    "majestic_df.groupby('Closure')['price_for_75cl'].mean().sort_values(ascending=False).plot.bar(color='b')\n",
    "plt.ylabel('Average Price Per Bottle (£)')\n",
    "plt.xticks(rotation = 45)\n",
    "plt.title('Cork Premium')"
   ]
  },
  {
   "cell_type": "code",
   "execution_count": null,
   "metadata": {},
   "outputs": [],
   "source": []
  }
 ],
 "metadata": {
  "kernelspec": {
   "display_name": "Python 3",
   "language": "python",
   "name": "python3"
  },
  "language_info": {
   "codemirror_mode": {
    "name": "ipython",
    "version": 3
   },
   "file_extension": ".py",
   "mimetype": "text/x-python",
   "name": "python",
   "nbconvert_exporter": "python",
   "pygments_lexer": "ipython3",
   "version": "3.7.3"
  }
 },
 "nbformat": 4,
 "nbformat_minor": 2
}
