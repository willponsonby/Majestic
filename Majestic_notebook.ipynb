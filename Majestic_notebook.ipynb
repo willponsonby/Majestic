{
 "cells": [
  {
   "cell_type": "code",
   "execution_count": 464,
   "metadata": {},
   "outputs": [],
   "source": [
    "import pandas as pd\n",
    "import numpy as np\n",
    "from matplotlib import pyplot as plt\n",
    "import seaborn as sns\n",
    "import re\n",
    "import plotly\n",
    "plt.style.use('ggplot')"
   ]
  },
  {
   "cell_type": "code",
   "execution_count": 64,
   "metadata": {},
   "outputs": [],
   "source": [
    "majestic_df = pd.read_csv('majestic6.csv', header=None)"
   ]
  },
  {
   "cell_type": "code",
   "execution_count": 65,
   "metadata": {},
   "outputs": [],
   "source": [
    "majestic_df.columns = ['Name', 'Percentage of reviewers who would buy again', 'Number of Reviewers', 'Awards', 'Volume', 'ABV', 'Short Description', 'Long Description', 'Per Bottle Price', 'Mix Six Price', 'Type', 'Style', 'Closure', 'Units', 'Grape', 'Country']"
   ]
  },
  {
   "cell_type": "code",
   "execution_count": 66,
   "metadata": {},
   "outputs": [],
   "source": [
    "next_df = pd.read_csv('majestic7.csv', header=None)\n",
    "next_df.columns = ['Name', 'Percentage of reviewers who would buy again', 'Number of Reviewers', 'Awards', 'Volume', 'ABV', 'Short Description', 'Long Description', 'Per Bottle Price', 'Mix Six Price', 'Type', 'Style', 'Closure', 'Units', 'Grape', 'Country']"
   ]
  },
  {
   "cell_type": "code",
   "execution_count": 67,
   "metadata": {},
   "outputs": [],
   "source": [
    "majestic_df = pd.concat([majestic_df, next_df], ignore_index=True)"
   ]
  },
  {
   "cell_type": "code",
   "execution_count": 68,
   "metadata": {},
   "outputs": [],
   "source": [
    "next2 = pd.read_csv('majestic10.csv', header=None)\n",
    "next2.columns = ['Name', 'Percentage of reviewers who would buy again', 'Number of Reviewers', 'Awards', 'Volume', 'ABV', 'Short Description', 'Long Description', 'Per Bottle Price', 'Mix Six Price', 'Type', 'Style', 'Closure', 'Units', 'Grape', 'Country']"
   ]
  },
  {
   "cell_type": "code",
   "execution_count": 69,
   "metadata": {},
   "outputs": [],
   "source": [
    "majestic_df = pd.concat([majestic_df, next2], ignore_index=True)"
   ]
  },
  {
   "cell_type": "code",
   "execution_count": 70,
   "metadata": {},
   "outputs": [],
   "source": [
    "next3 = pd.read_csv('majestic11.csv', header=None)\n",
    "next3.columns = ['Name', 'Percentage of reviewers who would buy again', 'Number of Reviewers', 'Awards', 'Volume', 'ABV', 'Short Description', 'Long Description', 'Per Bottle Price', 'Mix Six Price', 'Type', 'Style', 'Closure', 'Units', 'Grape', 'Country']"
   ]
  },
  {
   "cell_type": "code",
   "execution_count": 71,
   "metadata": {},
   "outputs": [],
   "source": [
    "majestic_df = pd.concat([majestic_df, next3], ignore_index=True)"
   ]
  },
  {
   "cell_type": "code",
   "execution_count": 72,
   "metadata": {},
   "outputs": [],
   "source": [
    "next4 = pd.read_csv('majestic12.csv', header=None)\n",
    "next4.columns = ['Name', 'Percentage of reviewers who would buy again', 'Number of Reviewers', 'Awards', 'Volume', 'ABV', 'Short Description', 'Long Description', 'Per Bottle Price', 'Mix Six Price', 'Type', 'Style', 'Closure', 'Units', 'Grape', 'Country']"
   ]
  },
  {
   "cell_type": "code",
   "execution_count": 73,
   "metadata": {},
   "outputs": [],
   "source": [
    "majestic_df = pd.concat([majestic_df, next4], ignore_index=True)"
   ]
  },
  {
   "cell_type": "code",
   "execution_count": 75,
   "metadata": {},
   "outputs": [],
   "source": [
    "majestic_df.drop_duplicates(subset=None, keep='first', inplace=True)"
   ]
  },
  {
   "cell_type": "code",
   "execution_count": 77,
   "metadata": {},
   "outputs": [],
   "source": [
    "columnTitles=['Name', 'Country', 'Type', 'Style', 'Grape', 'Short Description', 'Long Description', 'Per Bottle Price', 'Mix Six Price', 'Percentage of reviewers who would buy again', 'Number of Reviewers', 'Awards', 'Closure', 'ABV', 'Units', 'Volume']"
   ]
  },
  {
   "cell_type": "code",
   "execution_count": 78,
   "metadata": {},
   "outputs": [],
   "source": [
    "majestic_df=majestic_df.reindex(columns=columnTitles)"
   ]
  },
  {
   "cell_type": "code",
   "execution_count": 124,
   "metadata": {},
   "outputs": [],
   "source": [
    "majestic_df.to_csv('majestic_df.csv', encoding='utf-8', index=False)"
   ]
  },
  {
   "cell_type": "code",
   "execution_count": 189,
   "metadata": {},
   "outputs": [],
   "source": [
    "copy = majestic_df.copy()"
   ]
  },
  {
   "cell_type": "code",
   "execution_count": 194,
   "metadata": {},
   "outputs": [],
   "source": [
    "copy['Mix Six Price'] = pd.to_numeric(copy['Mix Six Price'])"
   ]
  },
  {
   "cell_type": "code",
   "execution_count": 199,
   "metadata": {},
   "outputs": [],
   "source": [
    "copy['Savings'] = copy['Per Bottle Price']-copy['Mix Six Price']"
   ]
  },
  {
   "cell_type": "code",
   "execution_count": 201,
   "metadata": {},
   "outputs": [],
   "source": [
    "copy['Percent Saved'] = round(copy['Savings']/copy['Per Bottle Price']*100, 0)"
   ]
  },
  {
   "cell_type": "code",
   "execution_count": 203,
   "metadata": {},
   "outputs": [],
   "source": [
    "majestic_df['Mix Six Price'] = pd.to_numeric(majestic_df['Mix Six Price'])"
   ]
  },
  {
   "cell_type": "code",
   "execution_count": 204,
   "metadata": {},
   "outputs": [],
   "source": [
    "majestic_df['Savings'] = majestic_df['Per Bottle Price']-majestic_df['Mix Six Price']"
   ]
  },
  {
   "cell_type": "code",
   "execution_count": 205,
   "metadata": {},
   "outputs": [],
   "source": [
    "majestic_df['Percent Saved'] = round(majestic_df['Savings']/majestic_df['Per Bottle Price']*100, 0)"
   ]
  },
  {
   "cell_type": "code",
   "execution_count": 415,
   "metadata": {},
   "outputs": [],
   "source": [
    "copy['price_for_75cl'] = (copy['Per Bottle Price']/copy['Volume'])*75"
   ]
  },
  {
   "cell_type": "code",
   "execution_count": 416,
   "metadata": {},
   "outputs": [],
   "source": [
    "majestic_df['price_for_75cl'] = (majestic_df['Per Bottle Price']/majestic_df['Volume'])*75"
   ]
  },
  {
   "cell_type": "code",
   "execution_count": 477,
   "metadata": {},
   "outputs": [],
   "source": [
    "copy = copy.replace({'[]': 0})"
   ]
  },
  {
   "cell_type": "code",
   "execution_count": 479,
   "metadata": {},
   "outputs": [],
   "source": [
    "copy['awards_num'] = copy['Awards']"
   ]
  },
  {
   "cell_type": "code",
   "execution_count": 482,
   "metadata": {
    "scrolled": true
   },
   "outputs": [
    {
     "data": {
      "text/plain": [
       "0                                                      0\n",
       "1      ['IWC 2019 - Commended Award', 'Decanter 2019 ...\n",
       "2                                                      0\n",
       "3                                                      0\n",
       "4      ['IWC 2019 - Bronze Award', 'IWC 2018 - Commen...\n",
       "5                            ['IWC 2019 - Bronze Award']\n",
       "6                                                      0\n",
       "7                       ['Decanter 2019 - Bronze Award']\n",
       "8                                                      0\n",
       "9                                                      0\n",
       "10                        ['IWC 2019 - Commended Award']\n",
       "11     ['IWC 2019 - Silver Award', 'IWC 2017 - Commen...\n",
       "12                                                     0\n",
       "13                                                     0\n",
       "14     ['IWC 2019 - Commended Award', 'IWC 2018 - Com...\n",
       "15                                                     0\n",
       "16                                                     0\n",
       "17                                                     0\n",
       "18                           ['IWC 2018 - Silver Award']\n",
       "19                                                     0\n",
       "20     ['IWC 2018 - Bronze Award', 'Decanter 2017 - S...\n",
       "21                        ['IWC 2018 - Commended Award']\n",
       "22                           ['IWC 2018 - Bronze Award']\n",
       "23                                                     0\n",
       "24                                                     0\n",
       "25                                                     0\n",
       "26                                                     0\n",
       "27                                                     0\n",
       "28                                                     0\n",
       "29     ['IWC 2019 - Commended Award', 'IWC 2018 - Bro...\n",
       "                             ...                        \n",
       "771                                                    0\n",
       "772                                                    0\n",
       "773                                                    0\n",
       "774                                                    0\n",
       "775                                                    0\n",
       "776                                                    0\n",
       "777                                                    0\n",
       "778                                                    0\n",
       "779                                                    0\n",
       "780                                                    0\n",
       "781                                                    0\n",
       "782                                                    0\n",
       "783                                                    0\n",
       "784                                                    0\n",
       "785                                                    0\n",
       "787                                                    0\n",
       "788                                                    0\n",
       "790                                                    0\n",
       "792                                                    0\n",
       "793                                                    0\n",
       "794                                                    0\n",
       "795                                                    0\n",
       "797                                                    0\n",
       "798                                                    0\n",
       "800                                                    0\n",
       "801                                                    0\n",
       "802                                                    0\n",
       "803                                                    0\n",
       "805                                                    0\n",
       "806                                                    0\n",
       "Name: Awards, Length: 774, dtype: object"
      ]
     },
     "execution_count": 482,
     "metadata": {},
     "output_type": "execute_result"
    }
   ],
   "source": [
    "if copy.Awards != 0:\n",
    "    "
   ]
  },
  {
   "cell_type": "code",
   "execution_count": null,
   "metadata": {},
   "outputs": [],
   "source": []
  },
  {
   "cell_type": "code",
   "execution_count": null,
   "metadata": {},
   "outputs": [],
   "source": []
  },
  {
   "cell_type": "code",
   "execution_count": null,
   "metadata": {},
   "outputs": [],
   "source": []
  },
  {
   "cell_type": "code",
   "execution_count": null,
   "metadata": {},
   "outputs": [],
   "source": []
  },
  {
   "cell_type": "code",
   "execution_count": 220,
   "metadata": {},
   "outputs": [
    {
     "data": {
      "text/plain": [
       "<matplotlib.axes._subplots.AxesSubplot at 0x1df946e4e48>"
      ]
     },
     "execution_count": 220,
     "metadata": {},
     "output_type": "execute_result"
    },
    {
     "data": {
      "image/png": "[encoded data removed]",
      "text/plain": [
       "<Figure size 432x288 with 1 Axes>"
      ]
     },
     "metadata": {},
     "output_type": "display_data"
    }
   ],
   "source": [
    "# Just 5 from Lebanon\n",
    "copy.groupby('Country')['Per Bottle Price'].mean().sort_values(ascending=False).plot.bar(color='b')"
   ]
  },
  {
   "cell_type": "code",
   "execution_count": null,
   "metadata": {},
   "outputs": [],
   "source": []
  },
  {
   "cell_type": "code",
   "execution_count": null,
   "metadata": {},
   "outputs": [],
   "source": []
  },
  {
   "cell_type": "code",
   "execution_count": null,
   "metadata": {},
   "outputs": [],
   "source": []
  },
  {
   "cell_type": "code",
   "execution_count": null,
   "metadata": {},
   "outputs": [],
   "source": []
  },
  {
   "cell_type": "code",
   "execution_count": null,
   "metadata": {},
   "outputs": [],
   "source": []
  },
  {
   "cell_type": "code",
   "execution_count": 233,
   "metadata": {},
   "outputs": [],
   "source": [
    "outliers = majestic_df[['Per Bottle Price']]\n",
    "outliers = outliers.loc[outliers.apply(lambda x: np.abs(x - x.mean()) / x.std() < 3).all(axis=1)]"
   ]
  },
  {
   "cell_type": "code",
   "execution_count": 234,
   "metadata": {
    "scrolled": true
   },
   "outputs": [
    {
     "data": {
      "text/plain": [
       "<matplotlib.axes._subplots.AxesSubplot at 0x1df9593d208>"
      ]
     },
     "execution_count": 234,
     "metadata": {},
     "output_type": "execute_result"
    },
    {
     "data": {
      "image/png": "[encoded data removed]",
      "text/plain": [
       "<Figure size 432x288 with 1 Axes>"
      ]
     },
     "metadata": {},
     "output_type": "display_data"
    }
   ],
   "source": [
    "sns.kdeplot(outliers['Per Bottle Price'], shade=True)"
   ]
  },
  {
   "cell_type": "code",
   "execution_count": null,
   "metadata": {},
   "outputs": [],
   "source": []
  },
  {
   "cell_type": "code",
   "execution_count": null,
   "metadata": {},
   "outputs": [],
   "source": []
  },
  {
   "cell_type": "code",
   "execution_count": null,
   "metadata": {},
   "outputs": [],
   "source": []
  },
  {
   "cell_type": "code",
   "execution_count": null,
   "metadata": {},
   "outputs": [],
   "source": []
  },
  {
   "cell_type": "code",
   "execution_count": null,
   "metadata": {},
   "outputs": [],
   "source": []
  },
  {
   "cell_type": "code",
   "execution_count": 420,
   "metadata": {
    "scrolled": false
   },
   "outputs": [
    {
     "data": {
      "text/plain": [
       "Text(0, 0.5, 'Average Price (adjusted for 75cl)')"
      ]
     },
     "execution_count": 420,
     "metadata": {},
     "output_type": "execute_result"
    },
    {
     "data": {
      "image/png": "[encoded data removed]",
      "text/plain": [
       "<Figure size 432x288 with 1 Axes>"
      ]
     },
     "metadata": {},
     "output_type": "display_data"
    }
   ],
   "source": [
    "copy.groupby('Type')['price_for_75cl'].mean().sort_values(ascending=False).plot.bar(color='r')\n",
    "plt.ylabel('Average Price (adjusted for 75cl)')"
   ]
  },
  {
   "cell_type": "code",
   "execution_count": null,
   "metadata": {},
   "outputs": [],
   "source": []
  },
  {
   "cell_type": "code",
   "execution_count": null,
   "metadata": {},
   "outputs": [],
   "source": []
  },
  {
   "cell_type": "code",
   "execution_count": null,
   "metadata": {},
   "outputs": [],
   "source": []
  },
  {
   "cell_type": "code",
   "execution_count": null,
   "metadata": {},
   "outputs": [],
   "source": []
  },
  {
   "cell_type": "code",
   "execution_count": 257,
   "metadata": {},
   "outputs": [],
   "source": [
    "not_enough = copy\n",
    "not_enough = not_enough[not_enough['Short Description'] != 'FRANCE']\n",
    "not_enough = not_enough[not_enough['Short Description'] != 'SPAIN']\n",
    "not_enough = not_enough[not_enough['Short Description'] != 'ITALY']\n",
    "not_enough = not_enough[not_enough['Short Description'] != 'CHILE']"
   ]
  },
  {
   "cell_type": "code",
   "execution_count": 442,
   "metadata": {},
   "outputs": [
    {
     "data": {
      "text/plain": [
       "Text(0.5, 0, '')"
      ]
     },
     "execution_count": 442,
     "metadata": {},
     "output_type": "execute_result"
    },
    {
     "data": {
      "image/png": "[encoded data removed]",
      "text/plain": [
       "<Figure size 432x288 with 1 Axes>"
      ]
     },
     "metadata": {},
     "output_type": "display_data"
    }
   ],
   "source": [
    "### Price averages for Red Wine\n",
    "\n",
    "not_enough[not_enough['Type']=='Red'].groupby('Short Description')['Per Bottle Price'].mean().sort_values(ascending=False).plot.bar(color='r')\n",
    "plt.ylabel('Average Price (£)')\n",
    "plt.xlabel('')"
   ]
  },
  {
   "cell_type": "code",
   "execution_count": null,
   "metadata": {},
   "outputs": [],
   "source": []
  },
  {
   "cell_type": "code",
   "execution_count": null,
   "metadata": {},
   "outputs": [],
   "source": []
  },
  {
   "cell_type": "code",
   "execution_count": null,
   "metadata": {},
   "outputs": [],
   "source": []
  },
  {
   "cell_type": "code",
   "execution_count": null,
   "metadata": {},
   "outputs": [],
   "source": []
  },
  {
   "cell_type": "code",
   "execution_count": null,
   "metadata": {},
   "outputs": [],
   "source": []
  },
  {
   "cell_type": "code",
   "execution_count": 268,
   "metadata": {},
   "outputs": [],
   "source": [
    "not_whi = copy\n",
    "not_whi = not_whi[not_whi['Short Description'] != 'PORTUGAL']\n",
    "not_whi = not_whi[not_whi['Short Description'] != 'HUNGARY']\n",
    "not_whi = not_whi[not_whi['Short Description'] != 'NEW ZEALAND']\n",
    "not_whi = not_whi[not_whi['Short Description'] != 'FRANCE']"
   ]
  },
  {
   "cell_type": "code",
   "execution_count": 441,
   "metadata": {},
   "outputs": [
    {
     "data": {
      "text/plain": [
       "Text(0.5, 0, '')"
      ]
     },
     "execution_count": 441,
     "metadata": {},
     "output_type": "execute_result"
    },
    {
     "data": {
      "image/png": "[encoded data removed]",
      "text/plain": [
       "<Figure size 432x288 with 1 Axes>"
      ]
     },
     "metadata": {},
     "output_type": "display_data"
    }
   ],
   "source": [
    "### Price avgs for White\n",
    "not_whi[not_whi['Type']=='White'].groupby('Short Description')['Per Bottle Price'].mean().sort_values(ascending=False).plot.bar(color='g')\n",
    "plt.ylabel('Average Price (£)')\n",
    "plt.xlabel('')"
   ]
  },
  {
   "cell_type": "code",
   "execution_count": 291,
   "metadata": {},
   "outputs": [],
   "source": [
    "copy['Number of Reviewers'] = copy['Number of Reviewers'].fillna(0)\n",
    "majestic_df['Number of Reviewers'] = majestic_df['Number of Reviewers'].fillna(0)"
   ]
  },
  {
   "cell_type": "code",
   "execution_count": null,
   "metadata": {},
   "outputs": [],
   "source": []
  },
  {
   "cell_type": "code",
   "execution_count": null,
   "metadata": {},
   "outputs": [],
   "source": []
  },
  {
   "cell_type": "code",
   "execution_count": null,
   "metadata": {},
   "outputs": [],
   "source": []
  },
  {
   "cell_type": "code",
   "execution_count": null,
   "metadata": {},
   "outputs": [],
   "source": []
  },
  {
   "cell_type": "code",
   "execution_count": 357,
   "metadata": {
    "scrolled": true
   },
   "outputs": [],
   "source": [
    "copy = copy.replace({'1,565':'1565'})"
   ]
  },
  {
   "cell_type": "code",
   "execution_count": 360,
   "metadata": {},
   "outputs": [],
   "source": [
    "copy = copy.replace({'1,601':'1601'})"
   ]
  },
  {
   "cell_type": "code",
   "execution_count": 362,
   "metadata": {},
   "outputs": [],
   "source": [
    "majestic_df = majestic_df.replace({'1,565':'1565'})"
   ]
  },
  {
   "cell_type": "code",
   "execution_count": 363,
   "metadata": {},
   "outputs": [],
   "source": [
    "majestic_df = majestic_df.replace({'1,601':'1601'})"
   ]
  },
  {
   "cell_type": "code",
   "execution_count": 368,
   "metadata": {},
   "outputs": [],
   "source": [
    "majestic_df['Number of Reviewers'] = pd.to_numeric(majestic_df['Number of Reviewers'])"
   ]
  },
  {
   "cell_type": "code",
   "execution_count": 367,
   "metadata": {},
   "outputs": [],
   "source": [
    "copy['Number of Reviewers'] = pd.to_numeric(copy['Number of Reviewers'])\n"
   ]
  },
  {
   "cell_type": "code",
   "execution_count": null,
   "metadata": {},
   "outputs": [],
   "source": []
  },
  {
   "cell_type": "code",
   "execution_count": null,
   "metadata": {},
   "outputs": [],
   "source": []
  },
  {
   "cell_type": "code",
   "execution_count": null,
   "metadata": {},
   "outputs": [],
   "source": []
  },
  {
   "cell_type": "code",
   "execution_count": 445,
   "metadata": {},
   "outputs": [
    {
     "data": {
      "text/plain": [
       "Text(0, 0.5, 'Bottles')"
      ]
     },
     "execution_count": 445,
     "metadata": {},
     "output_type": "execute_result"
    },
    {
     "data": {
      "image/png": "[encoded data removed]",
      "text/plain": [
       "<Figure size 432x288 with 1 Axes>"
      ]
     },
     "metadata": {},
     "output_type": "display_data"
    }
   ],
   "source": [
    "### Masses never reveiwed\n",
    "\n",
    "plt.hist(copy['Number of Reviewers'], bins=50)\n",
    "plt.xlabel('Reviews')\n",
    "plt.ylabel('Bottles')"
   ]
  },
  {
   "cell_type": "code",
   "execution_count": null,
   "metadata": {},
   "outputs": [],
   "source": []
  },
  {
   "cell_type": "code",
   "execution_count": null,
   "metadata": {},
   "outputs": [],
   "source": []
  },
  {
   "cell_type": "code",
   "execution_count": 452,
   "metadata": {},
   "outputs": [],
   "source": [
    "reviewer_subset = copy[copy['Number of Reviewers']>40]"
   ]
  },
  {
   "cell_type": "code",
   "execution_count": 446,
   "metadata": {
    "scrolled": true
   },
   "outputs": [
    {
     "data": {
      "text/plain": [
       "Text(0, 0.5, '% who would buy again')"
      ]
     },
     "execution_count": 446,
     "metadata": {},
     "output_type": "execute_result"
    },
    {
     "data": {
      "image/png": "[encoded data removed]",
      "text/plain": [
       "<Figure size 432x288 with 1 Axes>"
      ]
     },
     "metadata": {},
     "output_type": "display_data"
    }
   ],
   "source": [
    "plt.scatter(reviewer_subset['Number of Reviewers'], reviewer_subset['Percentage of reviewers who would buy again'])\n",
    "plt.xlabel('Reviews')\n",
    "plt.ylabel('% who would buy again')"
   ]
  },
  {
   "cell_type": "code",
   "execution_count": null,
   "metadata": {},
   "outputs": [],
   "source": []
  },
  {
   "cell_type": "code",
   "execution_count": null,
   "metadata": {},
   "outputs": [],
   "source": []
  },
  {
   "cell_type": "code",
   "execution_count": null,
   "metadata": {},
   "outputs": [],
   "source": []
  },
  {
   "cell_type": "code",
   "execution_count": 410,
   "metadata": {},
   "outputs": [
    {
     "data": {
      "text/html": [
       "<div>\n",
       "<style scoped>\n",
       "    .dataframe tbody tr th:only-of-type {\n",
       "        vertical-align: middle;\n",
       "    }\n",
       "\n",
       "    .dataframe tbody tr th {\n",
       "        vertical-align: top;\n",
       "    }\n",
       "\n",
       "    .dataframe thead th {\n",
       "        text-align: right;\n",
       "    }\n",
       "</style>\n",
       "<table border=\"1\" class=\"dataframe\">\n",
       "  <thead>\n",
       "    <tr style=\"text-align: right;\">\n",
       "      <th></th>\n",
       "      <th>Name</th>\n",
       "      <th>Country</th>\n",
       "      <th>Type</th>\n",
       "      <th>Style</th>\n",
       "      <th>Grape</th>\n",
       "      <th>Short Description</th>\n",
       "      <th>Long Description</th>\n",
       "      <th>Per Bottle Price</th>\n",
       "      <th>Mix Six Price</th>\n",
       "      <th>Percentage of reviewers who would buy again</th>\n",
       "      <th>Number of Reviewers</th>\n",
       "      <th>Awards</th>\n",
       "      <th>Closure</th>\n",
       "      <th>ABV</th>\n",
       "      <th>Units</th>\n",
       "      <th>Volume</th>\n",
       "      <th>Savings</th>\n",
       "      <th>Percent Saved</th>\n",
       "    </tr>\n",
       "  </thead>\n",
       "  <tbody>\n",
       "    <tr>\n",
       "      <th>6</th>\n",
       "      <td>The Guv'nor</td>\n",
       "      <td>Spain</td>\n",
       "      <td>Red</td>\n",
       "      <td>Smooth Red</td>\n",
       "      <td>NaN</td>\n",
       "      <td>FULL</td>\n",
       "      <td>The Guv'nor is made by our favourite winemaker...</td>\n",
       "      <td>8.99</td>\n",
       "      <td>6.99</td>\n",
       "      <td>93.0</td>\n",
       "      <td>830.0</td>\n",
       "      <td>[]</td>\n",
       "      <td>NaN</td>\n",
       "      <td>14%</td>\n",
       "      <td>10.5</td>\n",
       "      <td>75.0</td>\n",
       "      <td>2.0</td>\n",
       "      <td>22.0</td>\n",
       "    </tr>\n",
       "    <tr>\n",
       "      <th>29</th>\n",
       "      <td>The Ned Waihopai River Sauvignon Blanc 2018 Ma...</td>\n",
       "      <td>New Zealand</td>\n",
       "      <td>White</td>\n",
       "      <td>Fruity White</td>\n",
       "      <td>NaN</td>\n",
       "      <td>DRY</td>\n",
       "      <td>It's our best-ever-selling white for good reas...</td>\n",
       "      <td>10.99</td>\n",
       "      <td>8.99</td>\n",
       "      <td>95.0</td>\n",
       "      <td>1565.0</td>\n",
       "      <td>['IWC 2019 - Commended Award', 'IWC 2018 - Bro...</td>\n",
       "      <td>Screwcap</td>\n",
       "      <td>13%</td>\n",
       "      <td>9.8</td>\n",
       "      <td>75.0</td>\n",
       "      <td>2.0</td>\n",
       "      <td>18.0</td>\n",
       "    </tr>\n",
       "    <tr>\n",
       "      <th>34</th>\n",
       "      <td>Porta 6 2017 Lisboa</td>\n",
       "      <td>Portugal</td>\n",
       "      <td>Red</td>\n",
       "      <td>Smooth Red</td>\n",
       "      <td>NaN</td>\n",
       "      <td>FULL</td>\n",
       "      <td>Celebrity chef James Martin called Porta 6 'on...</td>\n",
       "      <td>8.99</td>\n",
       "      <td>7.99</td>\n",
       "      <td>96.0</td>\n",
       "      <td>1601.0</td>\n",
       "      <td>['IWC 2019 - Commended Award', 'IWC 2018 - Com...</td>\n",
       "      <td>Natural Cork</td>\n",
       "      <td>13.5%</td>\n",
       "      <td>10.1</td>\n",
       "      <td>75.0</td>\n",
       "      <td>1.0</td>\n",
       "      <td>11.0</td>\n",
       "    </tr>\n",
       "    <tr>\n",
       "      <th>44</th>\n",
       "      <td>Villa Maria Private Bin Sauvignon Blanc 2018/1...</td>\n",
       "      <td>New Zealand</td>\n",
       "      <td>White</td>\n",
       "      <td>Fruity White</td>\n",
       "      <td>NaN</td>\n",
       "      <td>DRY</td>\n",
       "      <td>Wine advocate's Joe Czerwinski said: \"Villa Ma...</td>\n",
       "      <td>10.99</td>\n",
       "      <td>8.99</td>\n",
       "      <td>98.0</td>\n",
       "      <td>777.0</td>\n",
       "      <td>['IWC 2018 - Commended Award', 'IWC 2017 - Bro...</td>\n",
       "      <td>Screwcap</td>\n",
       "      <td>13%</td>\n",
       "      <td>9.8</td>\n",
       "      <td>75.0</td>\n",
       "      <td>2.0</td>\n",
       "      <td>18.0</td>\n",
       "    </tr>\n",
       "  </tbody>\n",
       "</table>\n",
       "</div>"
      ],
      "text/plain": [
       "                                                 Name      Country   Type  \\\n",
       "6                                         The Guv'nor        Spain    Red   \n",
       "29  The Ned Waihopai River Sauvignon Blanc 2018 Ma...  New Zealand  White   \n",
       "34                                Porta 6 2017 Lisboa     Portugal    Red   \n",
       "44  Villa Maria Private Bin Sauvignon Blanc 2018/1...  New Zealand  White   \n",
       "\n",
       "           Style Grape Short Description  \\\n",
       "6     Smooth Red   NaN              FULL   \n",
       "29  Fruity White   NaN               DRY   \n",
       "34    Smooth Red   NaN              FULL   \n",
       "44  Fruity White   NaN               DRY   \n",
       "\n",
       "                                     Long Description  Per Bottle Price  \\\n",
       "6   The Guv'nor is made by our favourite winemaker...              8.99   \n",
       "29  It's our best-ever-selling white for good reas...             10.99   \n",
       "34  Celebrity chef James Martin called Porta 6 'on...              8.99   \n",
       "44  Wine advocate's Joe Czerwinski said: \"Villa Ma...             10.99   \n",
       "\n",
       "    Mix Six Price  Percentage of reviewers who would buy again  \\\n",
       "6            6.99                                         93.0   \n",
       "29           8.99                                         95.0   \n",
       "34           7.99                                         96.0   \n",
       "44           8.99                                         98.0   \n",
       "\n",
       "    Number of Reviewers                                             Awards  \\\n",
       "6                 830.0                                                 []   \n",
       "29               1565.0  ['IWC 2019 - Commended Award', 'IWC 2018 - Bro...   \n",
       "34               1601.0  ['IWC 2019 - Commended Award', 'IWC 2018 - Com...   \n",
       "44                777.0  ['IWC 2018 - Commended Award', 'IWC 2017 - Bro...   \n",
       "\n",
       "         Closure    ABV Units  Volume  Savings  Percent Saved  \n",
       "6            NaN    14%  10.5    75.0      2.0           22.0  \n",
       "29      Screwcap    13%   9.8    75.0      2.0           18.0  \n",
       "34  Natural Cork  13.5%  10.1    75.0      1.0           11.0  \n",
       "44      Screwcap    13%   9.8    75.0      2.0           18.0  "
      ]
     },
     "execution_count": 410,
     "metadata": {},
     "output_type": "execute_result"
    }
   ],
   "source": [
    "##### Most reviewed wines - two Whites from New Zealand, A red from Spain and a red from Portugal.\n",
    "## Portugese Red recommended by celebrity chef.\n",
    "\n",
    "\n",
    "copy[copy['Number of Reviewers']>600]"
   ]
  },
  {
   "cell_type": "code",
   "execution_count": null,
   "metadata": {},
   "outputs": [],
   "source": []
  },
  {
   "cell_type": "code",
   "execution_count": null,
   "metadata": {},
   "outputs": [],
   "source": []
  },
  {
   "cell_type": "code",
   "execution_count": null,
   "metadata": {},
   "outputs": [],
   "source": []
  },
  {
   "cell_type": "code",
   "execution_count": 423,
   "metadata": {},
   "outputs": [
    {
     "data": {
      "text/plain": [
       "Text(0, 0.5, 'Average Price Per Bottle (£)')"
      ]
     },
     "execution_count": 423,
     "metadata": {},
     "output_type": "execute_result"
    },
    {
     "data": {
      "image/png": "[encoded data removed]",
      "text/plain": [
       "<Figure size 432x288 with 1 Axes>"
      ]
     },
     "metadata": {},
     "output_type": "display_data"
    }
   ],
   "source": [
    "copy.groupby('Closure')['price_for_75cl'].mean().sort_values(ascending=False).plot.bar(color='r')\n",
    "plt.ylabel('Average Price Per Bottle (£)')\n",
    "\n",
    "### only 5 with synthetic corks\n"
   ]
  },
  {
   "cell_type": "code",
   "execution_count": null,
   "metadata": {},
   "outputs": [],
   "source": []
  },
  {
   "cell_type": "code",
   "execution_count": null,
   "metadata": {},
   "outputs": [],
   "source": []
  },
  {
   "cell_type": "code",
   "execution_count": null,
   "metadata": {},
   "outputs": [],
   "source": []
  },
  {
   "cell_type": "code",
   "execution_count": null,
   "metadata": {},
   "outputs": [],
   "source": []
  },
  {
   "cell_type": "code",
   "execution_count": null,
   "metadata": {},
   "outputs": [],
   "source": []
  }
 ],
 "metadata": {
  "kernelspec": {
   "display_name": "Python 3",
   "language": "python",
   "name": "python3"
  },
  "language_info": {
   "codemirror_mode": {
    "name": "ipython",
    "version": 3
   },
   "file_extension": ".py",
   "mimetype": "text/x-python",
   "name": "python",
   "nbconvert_exporter": "python",
   "pygments_lexer": "ipython3",
   "version": "3.7.3"
  }
 },
 "nbformat": 4,
 "nbformat_minor": 2
}
