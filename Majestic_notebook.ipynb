{
 "cells": [
  {
   "cell_type": "code",
   "execution_count": 464,
   "metadata": {},
   "outputs": [],
   "source": [
    "import pandas as pd\n",
    "import numpy as np\n",
    "from matplotlib import pyplot as plt\n",
    "import seaborn as sns\n",
    "import re\n",
    "import plotly\n",
    "plt.style.use('ggplot')"
   ]
  },
  {
   "cell_type": "code",
   "execution_count": 64,
   "metadata": {},
   "outputs": [],
   "source": [
    "majestic_df = pd.read_csv('majestic6.csv', header=None)"
   ]
  },
  {
   "cell_type": "code",
   "execution_count": 65,
   "metadata": {},
   "outputs": [],
   "source": [
    "majestic_df.columns = ['Name', 'Percentage of reviewers who would buy again', 'Number of Reviewers', 'Awards', 'Volume', 'ABV', 'Short Description', 'Long Description', 'Per Bottle Price', 'Mix Six Price', 'Type', 'Style', 'Closure', 'Units', 'Grape', 'Country']"
   ]
  },
  {
   "cell_type": "code",
   "execution_count": 66,
   "metadata": {},
   "outputs": [],
   "source": [
    "next_df = pd.read_csv('majestic7.csv', header=None)\n",
    "next_df.columns = ['Name', 'Percentage of reviewers who would buy again', 'Number of Reviewers', 'Awards', 'Volume', 'ABV', 'Short Description', 'Long Description', 'Per Bottle Price', 'Mix Six Price', 'Type', 'Style', 'Closure', 'Units', 'Grape', 'Country']"
   ]
  },
  {
   "cell_type": "code",
   "execution_count": 67,
   "metadata": {},
   "outputs": [],
   "source": [
    "majestic_df = pd.concat([majestic_df, next_df], ignore_index=True)"
   ]
  },
  {
   "cell_type": "code",
   "execution_count": 68,
   "metadata": {},
   "outputs": [],
   "source": [
    "next2 = pd.read_csv('majestic10.csv', header=None)\n",
    "next2.columns = ['Name', 'Percentage of reviewers who would buy again', 'Number of Reviewers', 'Awards', 'Volume', 'ABV', 'Short Description', 'Long Description', 'Per Bottle Price', 'Mix Six Price', 'Type', 'Style', 'Closure', 'Units', 'Grape', 'Country']"
   ]
  },
  {
   "cell_type": "code",
   "execution_count": 69,
   "metadata": {},
   "outputs": [],
   "source": [
    "majestic_df = pd.concat([majestic_df, next2], ignore_index=True)"
   ]
  },
  {
   "cell_type": "code",
   "execution_count": 70,
   "metadata": {},
   "outputs": [],
   "source": [
    "next3 = pd.read_csv('majestic11.csv', header=None)\n",
    "next3.columns = ['Name', 'Percentage of reviewers who would buy again', 'Number of Reviewers', 'Awards', 'Volume', 'ABV', 'Short Description', 'Long Description', 'Per Bottle Price', 'Mix Six Price', 'Type', 'Style', 'Closure', 'Units', 'Grape', 'Country']"
   ]
  },
  {
   "cell_type": "code",
   "execution_count": 71,
   "metadata": {},
   "outputs": [],
   "source": [
    "majestic_df = pd.concat([majestic_df, next3], ignore_index=True)"
   ]
  },
  {
   "cell_type": "code",
   "execution_count": 72,
   "metadata": {},
   "outputs": [],
   "source": [
    "next4 = pd.read_csv('majestic12.csv', header=None)\n",
    "next4.columns = ['Name', 'Percentage of reviewers who would buy again', 'Number of Reviewers', 'Awards', 'Volume', 'ABV', 'Short Description', 'Long Description', 'Per Bottle Price', 'Mix Six Price', 'Type', 'Style', 'Closure', 'Units', 'Grape', 'Country']"
   ]
  },
  {
   "cell_type": "code",
   "execution_count": 73,
   "metadata": {},
   "outputs": [],
   "source": [
    "majestic_df = pd.concat([majestic_df, next4], ignore_index=True)"
   ]
  },
  {
   "cell_type": "code",
   "execution_count": 75,
   "metadata": {},
   "outputs": [],
   "source": [
    "majestic_df.drop_duplicates(subset=None, keep='first', inplace=True)"
   ]
  },
  {
   "cell_type": "code",
   "execution_count": 77,
   "metadata": {},
   "outputs": [],
   "source": [
    "columnTitles=['Name', 'Country', 'Type', 'Style', 'Grape', 'Short Description', 'Long Description', 'Per Bottle Price', 'Mix Six Price', 'Percentage of reviewers who would buy again', 'Number of Reviewers', 'Awards', 'Closure', 'ABV', 'Units', 'Volume']"
   ]
  },
  {
   "cell_type": "code",
   "execution_count": 78,
   "metadata": {},
   "outputs": [],
   "source": [
    "majestic_df=majestic_df.reindex(columns=columnTitles)"
   ]
  },
  {
   "cell_type": "code",
   "execution_count": 124,
   "metadata": {},
   "outputs": [],
   "source": [
    "majestic_df.to_csv('majestic_df.csv', encoding='utf-8', index=False)"
   ]
  },
  {
   "cell_type": "code",
   "execution_count": 189,
   "metadata": {},
   "outputs": [],
   "source": [
    "copy = majestic_df.copy()"
   ]
  },
  {
   "cell_type": "code",
   "execution_count": 194,
   "metadata": {},
   "outputs": [],
   "source": [
    "copy['Mix Six Price'] = pd.to_numeric(copy['Mix Six Price'])"
   ]
  },
  {
   "cell_type": "code",
   "execution_count": 199,
   "metadata": {},
   "outputs": [],
   "source": [
    "copy['Savings'] = copy['Per Bottle Price']-copy['Mix Six Price']"
   ]
  },
  {
   "cell_type": "code",
   "execution_count": 201,
   "metadata": {},
   "outputs": [],
   "source": [
    "copy['Percent Saved'] = round(copy['Savings']/copy['Per Bottle Price']*100, 0)"
   ]
  },
  {
   "cell_type": "code",
   "execution_count": 203,
   "metadata": {},
   "outputs": [],
   "source": [
    "majestic_df['Mix Six Price'] = pd.to_numeric(majestic_df['Mix Six Price'])"
   ]
  },
  {
   "cell_type": "code",
   "execution_count": 204,
   "metadata": {},
   "outputs": [],
   "source": [
    "majestic_df['Savings'] = majestic_df['Per Bottle Price']-majestic_df['Mix Six Price']"
   ]
  },
  {
   "cell_type": "code",
   "execution_count": 205,
   "metadata": {},
   "outputs": [],
   "source": [
    "majestic_df['Percent Saved'] = round(majestic_df['Savings']/majestic_df['Per Bottle Price']*100, 0)"
   ]
  },
  {
   "cell_type": "code",
   "execution_count": 415,
   "metadata": {},
   "outputs": [],
   "source": [
    "copy['price_for_75cl'] = (copy['Per Bottle Price']/copy['Volume'])*75"
   ]
  },
  {
   "cell_type": "code",
   "execution_count": 416,
   "metadata": {},
   "outputs": [],
   "source": [
    "majestic_df['price_for_75cl'] = (majestic_df['Per Bottle Price']/majestic_df['Volume'])*75"
   ]
  },
  {
   "cell_type": "code",
   "execution_count": 484,
   "metadata": {},
   "outputs": [
    {
     "data": {
      "text/html": [
       "<div>\n",
       "<style scoped>\n",
       "    .dataframe tbody tr th:only-of-type {\n",
       "        vertical-align: middle;\n",
       "    }\n",
       "\n",
       "    .dataframe tbody tr th {\n",
       "        vertical-align: top;\n",
       "    }\n",
       "\n",
       "    .dataframe thead th {\n",
       "        text-align: right;\n",
       "    }\n",
       "</style>\n",
       "<table border=\"1\" class=\"dataframe\">\n",
       "  <thead>\n",
       "    <tr style=\"text-align: right;\">\n",
       "      <th></th>\n",
       "      <th>Name</th>\n",
       "      <th>Country</th>\n",
       "      <th>Type</th>\n",
       "      <th>Style</th>\n",
       "      <th>Grape</th>\n",
       "      <th>Short Description</th>\n",
       "      <th>Long Description</th>\n",
       "      <th>Per Bottle Price</th>\n",
       "      <th>Mix Six Price</th>\n",
       "      <th>Percentage of reviewers who would buy again</th>\n",
       "      <th>...</th>\n",
       "      <th>Awards</th>\n",
       "      <th>Closure</th>\n",
       "      <th>ABV</th>\n",
       "      <th>Units</th>\n",
       "      <th>Volume</th>\n",
       "      <th>Savings</th>\n",
       "      <th>Percent Saved</th>\n",
       "      <th>price_per_cl</th>\n",
       "      <th>price_for_75cl</th>\n",
       "      <th>awards_num</th>\n",
       "    </tr>\n",
       "  </thead>\n",
       "  <tbody>\n",
       "    <tr>\n",
       "      <th>0</th>\n",
       "      <td>Bread &amp; Butter Chardonnay 2017, California</td>\n",
       "      <td>USA</td>\n",
       "      <td>White</td>\n",
       "      <td>Rich White</td>\n",
       "      <td>NaN</td>\n",
       "      <td>OFF DRY</td>\n",
       "      <td>Complex and layered, with distinctive notes of...</td>\n",
       "      <td>15.99</td>\n",
       "      <td>10.99</td>\n",
       "      <td>91.0</td>\n",
       "      <td>...</td>\n",
       "      <td>0</td>\n",
       "      <td>Natural Cork</td>\n",
       "      <td>13.5%</td>\n",
       "      <td>10.1</td>\n",
       "      <td>75.0</td>\n",
       "      <td>5.0</td>\n",
       "      <td>31.0</td>\n",
       "      <td>0.213200</td>\n",
       "      <td>15.99</td>\n",
       "      <td>0</td>\n",
       "    </tr>\n",
       "    <tr>\n",
       "      <th>1</th>\n",
       "      <td>Nero Oro Appassimento 2018, Sicily</td>\n",
       "      <td>Italy</td>\n",
       "      <td>Red</td>\n",
       "      <td>Big Red</td>\n",
       "      <td>NaN</td>\n",
       "      <td>FULL</td>\n",
       "      <td>Nero Oro is made by a winemaker who's scored a...</td>\n",
       "      <td>9.99</td>\n",
       "      <td>6.99</td>\n",
       "      <td>93.0</td>\n",
       "      <td>...</td>\n",
       "      <td>['IWC 2019 - Commended Award', 'Decanter 2019 ...</td>\n",
       "      <td>NaN</td>\n",
       "      <td>14%</td>\n",
       "      <td>10.1</td>\n",
       "      <td>75.0</td>\n",
       "      <td>3.0</td>\n",
       "      <td>30.0</td>\n",
       "      <td>0.133200</td>\n",
       "      <td>9.99</td>\n",
       "      <td>['IWC 2019 - Commended Award', 'Decanter 2019 ...</td>\n",
       "    </tr>\n",
       "    <tr>\n",
       "      <th>2</th>\n",
       "      <td>Jaboulet Viognier 2018, France</td>\n",
       "      <td>France</td>\n",
       "      <td>White</td>\n",
       "      <td>Fruity White</td>\n",
       "      <td>NaN</td>\n",
       "      <td>DRY</td>\n",
       "      <td>When this was a WIGIG (when it's gone, it's go...</td>\n",
       "      <td>11.99</td>\n",
       "      <td>7.99</td>\n",
       "      <td>91.0</td>\n",
       "      <td>...</td>\n",
       "      <td>0</td>\n",
       "      <td>NaN</td>\n",
       "      <td>12.5%</td>\n",
       "      <td>9.8</td>\n",
       "      <td>75.0</td>\n",
       "      <td>4.0</td>\n",
       "      <td>33.0</td>\n",
       "      <td>0.159867</td>\n",
       "      <td>11.99</td>\n",
       "      <td>0</td>\n",
       "    </tr>\n",
       "    <tr>\n",
       "      <th>3</th>\n",
       "      <td>Dawn Star Sauvignon Blanc 2018, Marlborough</td>\n",
       "      <td>New Zealand</td>\n",
       "      <td>White</td>\n",
       "      <td>Fruity White</td>\n",
       "      <td>NaN</td>\n",
       "      <td>DRY</td>\n",
       "      <td>New Zealand's vines are the very first to gree...</td>\n",
       "      <td>9.99</td>\n",
       "      <td>6.99</td>\n",
       "      <td>92.0</td>\n",
       "      <td>...</td>\n",
       "      <td>0</td>\n",
       "      <td>NaN</td>\n",
       "      <td>13%</td>\n",
       "      <td>9.8</td>\n",
       "      <td>75.0</td>\n",
       "      <td>3.0</td>\n",
       "      <td>30.0</td>\n",
       "      <td>0.133200</td>\n",
       "      <td>9.99</td>\n",
       "      <td>0</td>\n",
       "    </tr>\n",
       "    <tr>\n",
       "      <th>4</th>\n",
       "      <td>Definition Zinfandel 2017, Lodi</td>\n",
       "      <td>USA</td>\n",
       "      <td>Red</td>\n",
       "      <td>Big Red</td>\n",
       "      <td>NaN</td>\n",
       "      <td>FULL</td>\n",
       "      <td>The Definition range captures the quintessenti...</td>\n",
       "      <td>9.99</td>\n",
       "      <td>7.99</td>\n",
       "      <td>97.0</td>\n",
       "      <td>...</td>\n",
       "      <td>['IWC 2019 - Bronze Award', 'IWC 2018 - Commen...</td>\n",
       "      <td>NaN</td>\n",
       "      <td>14%</td>\n",
       "      <td>10.9</td>\n",
       "      <td>75.0</td>\n",
       "      <td>2.0</td>\n",
       "      <td>20.0</td>\n",
       "      <td>0.133200</td>\n",
       "      <td>9.99</td>\n",
       "      <td>['IWC 2019 - Bronze Award', 'IWC 2018 - Commen...</td>\n",
       "    </tr>\n",
       "  </tbody>\n",
       "</table>\n",
       "<p>5 rows × 21 columns</p>\n",
       "</div>"
      ],
      "text/plain": [
       "                                          Name      Country   Type  \\\n",
       "0   Bread & Butter Chardonnay 2017, California          USA  White   \n",
       "1           Nero Oro Appassimento 2018, Sicily        Italy    Red   \n",
       "2               Jaboulet Viognier 2018, France       France  White   \n",
       "3  Dawn Star Sauvignon Blanc 2018, Marlborough  New Zealand  White   \n",
       "4              Definition Zinfandel 2017, Lodi          USA    Red   \n",
       "\n",
       "          Style Grape Short Description  \\\n",
       "0    Rich White   NaN           OFF DRY   \n",
       "1       Big Red   NaN              FULL   \n",
       "2  Fruity White   NaN               DRY   \n",
       "3  Fruity White   NaN               DRY   \n",
       "4       Big Red   NaN              FULL   \n",
       "\n",
       "                                    Long Description  Per Bottle Price  \\\n",
       "0  Complex and layered, with distinctive notes of...             15.99   \n",
       "1  Nero Oro is made by a winemaker who's scored a...              9.99   \n",
       "2  When this was a WIGIG (when it's gone, it's go...             11.99   \n",
       "3  New Zealand's vines are the very first to gree...              9.99   \n",
       "4  The Definition range captures the quintessenti...              9.99   \n",
       "\n",
       "   Mix Six Price  Percentage of reviewers who would buy again  ...  \\\n",
       "0          10.99                                         91.0  ...   \n",
       "1           6.99                                         93.0  ...   \n",
       "2           7.99                                         91.0  ...   \n",
       "3           6.99                                         92.0  ...   \n",
       "4           7.99                                         97.0  ...   \n",
       "\n",
       "                                              Awards       Closure    ABV  \\\n",
       "0                                                  0  Natural Cork  13.5%   \n",
       "1  ['IWC 2019 - Commended Award', 'Decanter 2019 ...           NaN    14%   \n",
       "2                                                  0           NaN  12.5%   \n",
       "3                                                  0           NaN    13%   \n",
       "4  ['IWC 2019 - Bronze Award', 'IWC 2018 - Commen...           NaN    14%   \n",
       "\n",
       "  Units Volume  Savings  Percent Saved  price_per_cl  price_for_75cl  \\\n",
       "0  10.1   75.0      5.0           31.0      0.213200           15.99   \n",
       "1  10.1   75.0      3.0           30.0      0.133200            9.99   \n",
       "2   9.8   75.0      4.0           33.0      0.159867           11.99   \n",
       "3   9.8   75.0      3.0           30.0      0.133200            9.99   \n",
       "4  10.9   75.0      2.0           20.0      0.133200            9.99   \n",
       "\n",
       "                                          awards_num  \n",
       "0                                                  0  \n",
       "1  ['IWC 2019 - Commended Award', 'Decanter 2019 ...  \n",
       "2                                                  0  \n",
       "3                                                  0  \n",
       "4  ['IWC 2019 - Bronze Award', 'IWC 2018 - Commen...  \n",
       "\n",
       "[5 rows x 21 columns]"
      ]
     },
     "execution_count": 484,
     "metadata": {},
     "output_type": "execute_result"
    }
   ],
   "source": []
  },
  {
   "cell_type": "code",
   "execution_count": null,
   "metadata": {},
   "outputs": [],
   "source": []
  },
  {
   "cell_type": "code",
   "execution_count": null,
   "metadata": {},
   "outputs": [],
   "source": []
  },
  {
   "cell_type": "code",
   "execution_count": null,
   "metadata": {},
   "outputs": [],
   "source": []
  },
  {
   "cell_type": "code",
   "execution_count": 543,
   "metadata": {},
   "outputs": [
    {
     "data": {
      "text/plain": [
       "(array([ 0,  1,  2,  3,  4,  5,  6,  7,  8,  9, 10, 11, 12, 13, 14, 15, 16,\n",
       "        17]), <a list of 18 Text xticklabel objects>)"
      ]
     },
     "execution_count": 543,
     "metadata": {},
     "output_type": "execute_result"
    },
    {
     "data": {
      "image/png": "[encoded data removed]",
      "text/plain": [
       "<Figure size 432x288 with 1 Axes>"
      ]
     },
     "metadata": {},
     "output_type": "display_data"
    }
   ],
   "source": [
    "# Just 5 from Lebanon\n",
    "copy.groupby('Country')['Per Bottle Price'].mean().sort_values(ascending=False).plot.bar(color='b')\n",
    "plt.xticks(rotation=75)"
   ]
  },
  {
   "cell_type": "code",
   "execution_count": null,
   "metadata": {},
   "outputs": [],
   "source": []
  },
  {
   "cell_type": "code",
   "execution_count": null,
   "metadata": {},
   "outputs": [],
   "source": []
  },
  {
   "cell_type": "code",
   "execution_count": null,
   "metadata": {},
   "outputs": [],
   "source": []
  },
  {
   "cell_type": "code",
   "execution_count": null,
   "metadata": {},
   "outputs": [],
   "source": []
  },
  {
   "cell_type": "code",
   "execution_count": null,
   "metadata": {},
   "outputs": [],
   "source": []
  },
  {
   "cell_type": "code",
   "execution_count": 233,
   "metadata": {},
   "outputs": [],
   "source": [
    "outliers = majestic_df[['Per Bottle Price']]\n",
    "outliers = outliers.loc[outliers.apply(lambda x: np.abs(x - x.mean()) / x.std() < 3).all(axis=1)]"
   ]
  },
  {
   "cell_type": "code",
   "execution_count": 234,
   "metadata": {
    "scrolled": true
   },
   "outputs": [
    {
     "data": {
      "text/plain": [
       "<matplotlib.axes._subplots.AxesSubplot at 0x1df9593d208>"
      ]
     },
     "execution_count": 234,
     "metadata": {},
     "output_type": "execute_result"
    },
    {
     "data": {
      "image/png": "[encoded data removed]",
      "text/plain": [
       "<Figure size 432x288 with 1 Axes>"
      ]
     },
     "metadata": {},
     "output_type": "display_data"
    }
   ],
   "source": [
    "sns.kdeplot(outliers['Per Bottle Price'], shade=True)"
   ]
  },
  {
   "cell_type": "code",
   "execution_count": null,
   "metadata": {},
   "outputs": [],
   "source": []
  },
  {
   "cell_type": "code",
   "execution_count": 580,
   "metadata": {},
   "outputs": [
    {
     "data": {
      "text/plain": [
       "Text(0.5, 1.0, 'Price by Wine Type')"
      ]
     },
     "execution_count": 580,
     "metadata": {},
     "output_type": "execute_result"
    },
    {
     "data": {
      "image/png": "[encoded data removed]",
      "text/plain": [
       "<Figure size 432x288 with 1 Axes>"
      ]
     },
     "metadata": {},
     "output_type": "display_data"
    }
   ],
   "source": [
    "copy.groupby('Type')['price_for_75cl'].mean().sort_values(ascending=True).plot.bar(color = 'b')\n",
    "plt.ylabel('Average Price (adjusted for 75cl)')\n",
    "plt.xticks(rotation=45)\n",
    "plt.title('Price by Wine Type')"
   ]
  },
  {
   "cell_type": "code",
   "execution_count": null,
   "metadata": {},
   "outputs": [],
   "source": []
  },
  {
   "cell_type": "code",
   "execution_count": null,
   "metadata": {},
   "outputs": [],
   "source": []
  },
  {
   "cell_type": "code",
   "execution_count": 534,
   "metadata": {},
   "outputs": [
    {
     "data": {
      "text/plain": [
       "Text(0.5, 1.0, 'Price Distribution for Red and White Wine')"
      ]
     },
     "execution_count": 534,
     "metadata": {},
     "output_type": "execute_result"
    },
    {
     "data": {
      "image/png": "[encoded data removed]",
      "text/plain": [
       "<Figure size 432x288 with 1 Axes>"
      ]
     },
     "metadata": {},
     "output_type": "display_data"
    }
   ],
   "source": [
    "type_red = copy[copy['Type']=='Red']\n",
    "type_white = copy[copy['Type']=='White']\n",
    "\n",
    "type_red_cut = type_red[type_red['Per Bottle Price']<60]\n",
    "type_white_cut = type_white[type_white['Per Bottle Price']<60]\n",
    "\n",
    "sns.distplot(type_red_cut[['Per Bottle Price']], hist=False, color='r')\n",
    "sns.distplot(type_white_cut[['Per Bottle Price']], hist=False, color='g')\n",
    "plt.xlabel('Price (£)')\n",
    "plt.title('Price Distribution for Red and White Wine')\n"
   ]
  },
  {
   "cell_type": "code",
   "execution_count": null,
   "metadata": {},
   "outputs": [],
   "source": []
  },
  {
   "cell_type": "code",
   "execution_count": null,
   "metadata": {},
   "outputs": [],
   "source": []
  },
  {
   "cell_type": "code",
   "execution_count": null,
   "metadata": {},
   "outputs": [],
   "source": []
  },
  {
   "cell_type": "code",
   "execution_count": null,
   "metadata": {},
   "outputs": [],
   "source": [
    "#outliers = majestic_df[['Per Bottle Price']]\n",
    "#outliers = outliers.loc[outliers.apply(lambda x: np.abs(x - x.mean()) / x.std() < 3).all(axis=1)]"
   ]
  },
  {
   "cell_type": "code",
   "execution_count": 515,
   "metadata": {},
   "outputs": [],
   "source": [
    "#WineGrid = sns.FacetGrid(copy[copy['Per Bottle Price']<60], col='Type', hue='Type', palette=\"Set2\")\n",
    "#WineGrid.map(sns.distplot, 'Per Bottle Price')"
   ]
  },
  {
   "cell_type": "code",
   "execution_count": null,
   "metadata": {},
   "outputs": [],
   "source": []
  },
  {
   "cell_type": "code",
   "execution_count": null,
   "metadata": {},
   "outputs": [],
   "source": []
  },
  {
   "cell_type": "code",
   "execution_count": null,
   "metadata": {},
   "outputs": [],
   "source": []
  },
  {
   "cell_type": "code",
   "execution_count": 562,
   "metadata": {},
   "outputs": [
    {
     "data": {
      "text/plain": [
       "Text(0, 0.5, 'Bottles')"
      ]
     },
     "execution_count": 562,
     "metadata": {},
     "output_type": "execute_result"
    },
    {
     "data": {
      "image/png": "[encoded data removed]",
      "text/plain": [
       "<Figure size 432x288 with 1 Axes>"
      ]
     },
     "metadata": {},
     "output_type": "display_data"
    }
   ],
   "source": [
    "### Masses never reveiwed\n",
    "\n",
    "plt.hist(copy['Number of Reviewers'], bins=50)\n",
    "plt.xlabel('Reviews')\n",
    "plt.ylabel('Bottles')"
   ]
  },
  {
   "cell_type": "code",
   "execution_count": null,
   "metadata": {},
   "outputs": [],
   "source": []
  },
  {
   "cell_type": "code",
   "execution_count": null,
   "metadata": {},
   "outputs": [],
   "source": []
  },
  {
   "cell_type": "code",
   "execution_count": null,
   "metadata": {},
   "outputs": [],
   "source": []
  },
  {
   "cell_type": "code",
   "execution_count": null,
   "metadata": {},
   "outputs": [],
   "source": []
  },
  {
   "cell_type": "code",
   "execution_count": null,
   "metadata": {},
   "outputs": [],
   "source": []
  },
  {
   "cell_type": "code",
   "execution_count": null,
   "metadata": {},
   "outputs": [],
   "source": []
  },
  {
   "cell_type": "code",
   "execution_count": null,
   "metadata": {},
   "outputs": [],
   "source": []
  },
  {
   "cell_type": "code",
   "execution_count": null,
   "metadata": {},
   "outputs": [],
   "source": []
  },
  {
   "cell_type": "code",
   "execution_count": null,
   "metadata": {},
   "outputs": [],
   "source": []
  },
  {
   "cell_type": "code",
   "execution_count": 257,
   "metadata": {},
   "outputs": [],
   "source": [
    "not_enough = copy\n",
    "not_enough = not_enough[not_enough['Short Description'] != 'FRANCE']\n",
    "not_enough = not_enough[not_enough['Short Description'] != 'SPAIN']\n",
    "not_enough = not_enough[not_enough['Short Description'] != 'ITALY']\n",
    "not_enough = not_enough[not_enough['Short Description'] != 'CHILE']"
   ]
  },
  {
   "cell_type": "code",
   "execution_count": 551,
   "metadata": {},
   "outputs": [
    {
     "data": {
      "text/plain": [
       "Text(0.5, 1.0, 'Red Prices by Description')"
      ]
     },
     "execution_count": 551,
     "metadata": {},
     "output_type": "execute_result"
    },
    {
     "data": {
      "image/png": "[encoded data removed]",
      "text/plain": [
       "<Figure size 432x288 with 1 Axes>"
      ]
     },
     "metadata": {},
     "output_type": "display_data"
    }
   ],
   "source": [
    "### Price averages for Red Wine\n",
    "\n",
    "not_enough[not_enough['Type']=='Red'].groupby('Short Description')['Per Bottle Price'].mean().sort_values(ascending=True).plot.bar(color='r')\n",
    "plt.ylabel('Average Price (£)')\n",
    "plt.xlabel('')\n",
    "plt.xticks(rotation=45)\n",
    "plt.title('Red Prices by Description')"
   ]
  },
  {
   "cell_type": "code",
   "execution_count": 550,
   "metadata": {},
   "outputs": [
    {
     "data": {
      "text/plain": [
       "Text(0.5, 1.0, 'Red Prices by Style')"
      ]
     },
     "execution_count": 550,
     "metadata": {},
     "output_type": "execute_result"
    },
    {
     "data": {
      "image/png": "[encoded data removed]",
      "text/plain": [
       "<Figure size 432x288 with 1 Axes>"
      ]
     },
     "metadata": {},
     "output_type": "display_data"
    }
   ],
   "source": [
    "copy[copy['Type']=='Red'].groupby('Style')['Per Bottle Price'].mean().sort_values(ascending=True).plot.bar(color='r')\n",
    "plt.xlabel('')\n",
    "plt.ylabel('Average Price (£)')\n",
    "plt.xticks(rotation=45)\n",
    "plt.title('Red Prices by Style')"
   ]
  },
  {
   "cell_type": "code",
   "execution_count": 559,
   "metadata": {},
   "outputs": [
    {
     "data": {
      "text/plain": [
       "Text(0, 0.5, '% who would buy again')"
      ]
     },
     "execution_count": 559,
     "metadata": {},
     "output_type": "execute_result"
    },
    {
     "data": {
      "image/png": "[encoded data removed]",
      "text/plain": [
       "<Figure size 432x288 with 1 Axes>"
      ]
     },
     "metadata": {},
     "output_type": "display_data"
    }
   ],
   "source": [
    "reviewer_subset[reviewer_subset['Type']=='Red'].groupby('Style')['Percentage of reviewers who would buy again'].mean().sort_values(ascending=True).plot.bar(color='r')\n",
    "plt.title('Style by Customer Approval')\n",
    "plt.xticks(rotation=45)\n",
    "plt.ylabel('% who would buy again')"
   ]
  },
  {
   "cell_type": "code",
   "execution_count": null,
   "metadata": {},
   "outputs": [],
   "source": []
  },
  {
   "cell_type": "code",
   "execution_count": null,
   "metadata": {},
   "outputs": [],
   "source": []
  },
  {
   "cell_type": "code",
   "execution_count": null,
   "metadata": {},
   "outputs": [],
   "source": []
  },
  {
   "cell_type": "code",
   "execution_count": null,
   "metadata": {},
   "outputs": [],
   "source": []
  },
  {
   "cell_type": "code",
   "execution_count": 268,
   "metadata": {},
   "outputs": [],
   "source": [
    "not_whi = copy\n",
    "not_whi = not_whi[not_whi['Short Description'] != 'PORTUGAL']\n",
    "not_whi = not_whi[not_whi['Short Description'] != 'HUNGARY']\n",
    "not_whi = not_whi[not_whi['Short Description'] != 'NEW ZEALAND']\n",
    "not_whi = not_whi[not_whi['Short Description'] != 'FRANCE']"
   ]
  },
  {
   "cell_type": "code",
   "execution_count": 549,
   "metadata": {
    "scrolled": true
   },
   "outputs": [
    {
     "data": {
      "text/plain": [
       "Text(0.5, 1.0, 'White Prices by Description')"
      ]
     },
     "execution_count": 549,
     "metadata": {},
     "output_type": "execute_result"
    },
    {
     "data": {
      "image/png": "[encoded data removed]",
      "text/plain": [
       "<Figure size 432x288 with 1 Axes>"
      ]
     },
     "metadata": {},
     "output_type": "display_data"
    }
   ],
   "source": [
    "### Price avgs for White\n",
    "not_whi[not_whi['Type']=='White'].groupby('Short Description')['Per Bottle Price'].mean().sort_values(ascending=True).plot.bar(color='g')\n",
    "plt.ylabel('Average Price (£)')\n",
    "plt.xlabel('')\n",
    "plt.xticks(rotation=45)\n",
    "plt.title('White Prices by Description')\n",
    "\n",
    "\n",
    "\n",
    "\n",
    "\n",
    "\n"
   ]
  },
  {
   "cell_type": "code",
   "execution_count": null,
   "metadata": {},
   "outputs": [],
   "source": []
  },
  {
   "cell_type": "code",
   "execution_count": 553,
   "metadata": {},
   "outputs": [
    {
     "data": {
      "text/plain": [
       "Text(0.5, 1.0, 'White Prices by Style')"
      ]
     },
     "execution_count": 553,
     "metadata": {},
     "output_type": "execute_result"
    },
    {
     "data": {
      "image/png": "[encoded data removed]",
      "text/plain": [
       "<Figure size 432x288 with 1 Axes>"
      ]
     },
     "metadata": {},
     "output_type": "display_data"
    }
   ],
   "source": [
    "copy[copy['Type']=='White'].groupby('Style')['Per Bottle Price'].mean().sort_values(ascending=True).plot.bar(color='g')\n",
    "plt.xlabel('')\n",
    "plt.ylabel('Average Price (£)')\n",
    "plt.xticks(rotation=45)\n",
    "plt.title('White Prices by Style')\n",
    "\n",
    "\n",
    "\n",
    "\n"
   ]
  },
  {
   "cell_type": "code",
   "execution_count": 557,
   "metadata": {},
   "outputs": [
    {
     "data": {
      "text/plain": [
       "Text(0, 0.5, '% who would buy again')"
      ]
     },
     "execution_count": 557,
     "metadata": {},
     "output_type": "execute_result"
    },
    {
     "data": {
      "image/png": "[encoded data removed]",
      "text/plain": [
       "<Figure size 432x288 with 1 Axes>"
      ]
     },
     "metadata": {},
     "output_type": "display_data"
    }
   ],
   "source": [
    "reviewer_subset[reviewer_subset['Type']=='White'].groupby('Style')['Percentage of reviewers who would buy again'].mean().sort_values(ascending=True).plot.bar(color='g')\n",
    "plt.title('Style by Customer Approval')\n",
    "plt.xticks(rotation=45)\n",
    "plt.ylabel('% who would buy again')"
   ]
  },
  {
   "cell_type": "code",
   "execution_count": null,
   "metadata": {},
   "outputs": [],
   "source": []
  },
  {
   "cell_type": "code",
   "execution_count": null,
   "metadata": {},
   "outputs": [],
   "source": []
  },
  {
   "cell_type": "code",
   "execution_count": null,
   "metadata": {},
   "outputs": [],
   "source": []
  },
  {
   "cell_type": "code",
   "execution_count": 291,
   "metadata": {},
   "outputs": [],
   "source": [
    "copy['Number of Reviewers'] = copy['Number of Reviewers'].fillna(0)\n",
    "majestic_df['Number of Reviewers'] = majestic_df['Number of Reviewers'].fillna(0)"
   ]
  },
  {
   "cell_type": "code",
   "execution_count": 357,
   "metadata": {
    "scrolled": true
   },
   "outputs": [],
   "source": [
    "copy = copy.replace({'1,565':'1565'})"
   ]
  },
  {
   "cell_type": "code",
   "execution_count": 360,
   "metadata": {},
   "outputs": [],
   "source": [
    "copy = copy.replace({'1,601':'1601'})"
   ]
  },
  {
   "cell_type": "code",
   "execution_count": 362,
   "metadata": {},
   "outputs": [],
   "source": [
    "majestic_df = majestic_df.replace({'1,565':'1565'})"
   ]
  },
  {
   "cell_type": "code",
   "execution_count": 363,
   "metadata": {},
   "outputs": [],
   "source": [
    "majestic_df = majestic_df.replace({'1,601':'1601'})"
   ]
  },
  {
   "cell_type": "code",
   "execution_count": 368,
   "metadata": {},
   "outputs": [],
   "source": [
    "majestic_df['Number of Reviewers'] = pd.to_numeric(majestic_df['Number of Reviewers'])"
   ]
  },
  {
   "cell_type": "code",
   "execution_count": 367,
   "metadata": {},
   "outputs": [],
   "source": [
    "copy['Number of Reviewers'] = pd.to_numeric(copy['Number of Reviewers'])\n"
   ]
  },
  {
   "cell_type": "code",
   "execution_count": null,
   "metadata": {},
   "outputs": [],
   "source": []
  },
  {
   "cell_type": "code",
   "execution_count": null,
   "metadata": {},
   "outputs": [],
   "source": []
  },
  {
   "cell_type": "code",
   "execution_count": null,
   "metadata": {},
   "outputs": [],
   "source": [
    "reviewer_subset = copy[copy['Number of Reviewers']>40]"
   ]
  },
  {
   "cell_type": "code",
   "execution_count": 581,
   "metadata": {},
   "outputs": [
    {
     "data": {
      "application/vnd.plotly.v1+json": {
       "config": {
        "plotlyServerURL": "https://plot.ly"
       },
       "data": [
        {
         "hoverlabel": {
          "namelength": 0
         },
         "hovertemplate": "<b>%{hovertext}</b><br><br>Number of Reviewers=%{x}<br>Percentage of reviewers who would buy again=%{y}",
         "hovertext": [
          "Bread & Butter Chardonnay 2017, California",
          "Nero Oro Appassimento 2018, Sicily",
          "Jaboulet Viognier 2018, France",
          "Dawn Star Sauvignon Blanc 2018, Marlborough",
          "Definition Zinfandel 2017, Lodi",
          "Behind Closed Doors Reserva Lisboa Red 2016, Portugal",
          "The Guv'nor",
          "Château Recougne 2016, Bordeaux Supérieur",
          "Castaway Island Marlborough Sauvignon Blanc 2018",
          "Beefsteak Club Malbec 2017 Mendoza",
          "Porta 6 Reserva 2017",
          "La Belle Angele Rose 2018 VdF",
          "Porta 6 Vinho Verde 2018",
          "Las Maletas Malbec 2018/19 Mendoza",
          "Pinot Grigio Superiore 2018 Breganze",
          "Definition Albarino 2018",
          "Rioja Gran Reserva 2011 Viña Alarde",
          "Catena Malbec 2017 Mendoza",
          "Rioja Blanco 2018 López de Haro",
          "Rioja Crianza 2016 CVNE",
          "Rioja Reserva Marqués de Riscal 2015",
          "Jas de Vignes IGP Mediterranee Rosé 2018",
          "The Ned Waihopai River Sauvignon Blanc 2018 Marlborough",
          "Grand Ardèche Chardonnay 2017 Louis Latour",
          "Oyster Bay Sauvignon Blanc 2018 Marlborough",
          "Mâcon-Villages Blanc 'Les Pierres Blanches' 2017 Cave de Lugny",
          "Porta 6 2017 Lisboa",
          "Nero Oro Riserva 2016, Sicily",
          "Montagny 1er Cru 'Les Millières' 2018 Cave des Vignerons de Buxy",
          "Côtes du Rhône 2015 E. Guigal",
          "Mâcon-Lugny 2017 Louis Latour",
          "Villemarin Picpoul de Pinet 2018 Côteaux du Languedoc",
          "Surani Costarossa 2018 Primitivo di Manduria",
          "Gigondas Domaine Des Capes 2017, Rhône",
          "Villa Maria Private Bin Sauvignon Blanc 2018/19, Marlborough",
          "Making Tracks Shiraz 2018",
          "Caixas Albariño 2017/18 Rías Baixas",
          "Vavasour Papa Sauvignon Blanc 2018, Malborourgh",
          "Quinta do Carmo 'Dom Martinho' 2017, Alentejo",
          "S&R Douro Red, 2017",
          "Silver Ghost Sauvignon Blanc 2019 Central Valley",
          "Chablis 2018, Bouchard Ainé & Fils, France",
          "Olivier Dubois Cuvee Prestige Pinot Noir 2017 VdF",
          "Definition Marlborough Sauvignon Blanc 2018",
          "Marcelo Pelleriti Malbec 2018 Valle De Uco, Mendoza",
          "Rioja Reserva Viña Ardanza 2009 La Rioja Alta",
          "Valpolicella Ripasso 2017 Villa Borghetti",
          "Rioja Reserva 2014 Beronia",
          "Abbotts & Delaunay Viognier 2018",
          "Pinot Noir Domaine de Valmoissine 2016 Louis Latour",
          "Devil's Creek Marlborough Sauvignon Blanc 2018",
          "Definition Rioja Reserva 2013",
          "Passimento 2016 Pasqua",
          "Finca Carelio Tempranillo 2015 Vino de la Tierra",
          "Valpolicella Superiore Ripasso 2016 La Casetta",
          "Rioja Reserva 2015 CVNE",
          "Albariño Martín Códax 2017/18 Rías Baixas",
          "Château Caronne Ste-Gemme 2014 Haut-Médoc",
          "Valle Antigua Merlot 2017",
          "Agenda, Dão Manager's Choice 2016",
          "Kangarilla Road Shiraz 2017/18 McLaren Vale",
          "M de Minuty Rosé 2018, Côtes de Provence",
          "Planalto White Reserva 2018 Douro",
          "Russian Jack Sauvignon Blanc 2017 Marlborough",
          "Tenacity Old Vine Shiraz 2018",
          "Cloudy Bay Sauvignon Blanc 2018 Marlborough",
          "Vieux Remparts 2017 Lussac St-Emilion",
          "Sancerre Cóte des Embouffants 2018 Domaine Roger Neveu",
          "Incanta Pinot Noir 2018",
          "Viñalba Reserve Malbec 2017 Mendoza",
          "Masi 'Costaser' Amarone Classico 2013 DOCG, Valpolicella",
          "Majestic Loves Sauvignon 2019",
          "Alamos Uco Valley Malbec 2018",
          "Fleurie 2018 Georges Duboeuf",
          "Silver Ghost Cabernet Sauvignon 2016 Central Valley",
          "Mâcon-Villages 'Les Roches Blanches' 2018 Louis Jadot",
          "Definition Marlborough Pinot Noir 2017",
          "Pinot Grigio Rosato 2018 Delle Venezie",
          "La Belle Angele Sauvignon Blanc 2017/18",
          "Mud House Sauvignon Blanc 2018 Marlborough",
          "The Ned Pinot Noir 2017 Southern Valleys, Marlborough",
          "Ravenswood Lodi Zinfandel 2017",
          "Montepulciano d'Abruzzo 2016 Masciarelli",
          "Definition Chardonnay 2018",
          "The Chocolate Block 2017 Boekenhoutskloof, Western Cape",
          "Definition Malbec 2018",
          "Vavasour Chardonnay",
          "La Raia 'Il Borgo' Gavi 2018",
          "Rioja 'Seleccion Especial' 2017 Ramón Bilbao",
          "Alain Grignon Carignan Vieilles Vignes 2017/2018 PGI Pays de l'Hérault",
          "Blind River Sauvignon Blanc 2018 Awatere Valley, Marlborough",
          "Jim Barry Cover Drive Cabernet Sauvignon 2015 Coonawarra",
          "\"The Astronomer\" Chardonnay 2018 De Bortoli",
          "Côtes-du-Rhône 2017/18 Léon Perdigal",
          "Mâcon Rouge 'Les Roches Rouges' 2017 Louis Jadot",
          "Desire Lush & Zin 2018",
          "Les Sources De Livran, Château Livran",
          "The Ned Pinot Grigio 2018 Marlborough",
          "Primitivo 2017 Natale Verga",
          "Krasno Pinot Bianco",
          "Acacia Road Sauvignon Blanc 2018",
          "Araldica Barbera d'Asti DOCG",
          "Pouilly-Fumé 'Les Griottes' 2018 Jean-Pierre Bailly",
          "Barista Pinotage 2018 Western Cape",
          "Rioja Reserva 2014 Viña Alarde",
          "Martinborough Vineyard Te Tera Pinot Noir 2017 Martinborough",
          "Rioja Reserva 2015 Muga",
          "Edna Valley Pinot Noir 2017",
          "Chronic Cellars Purple Paradise 2017 Paso Robles",
          "Château Musar 2003 Gaston Hochar",
          "Luis Felipe Edwards Gran Reserva Chardonnay 2018 Casablanca Valley",
          "Kaiken Seleccion Especial Malbec 2018, Mendoza",
          "Pinot Grigio Villa Vito 2018",
          "Hey Malbec! 2018 Matias Riccitelli, Mendoza",
          "Winemaker Series Shiraz 2016",
          "Edna Valley Chardonnay 2017",
          "Santa Rita Medalla Real Carmenère 2017 Colchagua Valley",
          "Passimento Bianco 2018 Pasqua",
          "Majestic Loves Spanish Red 2018",
          "Gavi 2018 Araldica",
          "Luis Felipe Edwards Gran Reserva Merlot 2018 Colchagua Valley",
          "Domodo Negroamaro IGP Puglia 2018",
          "Chalk Bay Sauvignon Blanc",
          "Petit Perdigal Rouge 2018",
          "Capaia One 2015",
          "Casal de Ventozela 2018 Vinho Verde",
          "Muscadet de Sèvre et Maine Sur Lie 2018 Domaine de la Tourmaline",
          "Rioja Reserva 2013 Viña Pomal",
          "Black Cottage Sauvignon Blanc 2018 Marlborough",
          "Château de Pennautier 2015 Cabardès",
          "Porta 6 Rosé 2018",
          "Winemaker Series Swartland Red 2017",
          "Morgon 2018 Château de Pizay",
          "Macon Villages Elodie Dupres",
          "Russian Jack Pinot Noir 2017 Martinborough Vineyards",
          "Saint Clair Pioneer Block Pinot Noir 2017 Marlborough",
          "Santa Rita Medalla Real Cabernet Sauvignon 2016 Maipo Valley",
          "Gnarly Dudes Shiraz 2016 Two Hands, Barossa Valley",
          "Acacia Road Merlot 2018",
          "Gavi 2018 La Toledana",
          "Aresti Bellavista Sauvignon Gris 2017",
          "Nettie Viognier 2017",
          "Majestic Loves Gruner Veltliner 2018",
          "Definition Viognier 2018",
          "Definition Chenin Blanc 2018",
          "Goldwater Sauvignon Blanc 2018 Marlborough",
          "The Astronomer Shiraz 2018 De Bortoli",
          "Majestic Loves Montepulciano 2018",
          "Parcel Series Marlborough Sauvignon Blanc 2018",
          "Viñalba Malbec-Touriga Nacional Reserve 2017 Mendoza",
          "Rioja Reserva Selección Especial 2014 Muga",
          "Santa Rita 120 Carménère 2018 Central Valley",
          "Côtes du Rhône Belleruche 2018 M.Chapoutier",
          "Definition Grüner Veltliner 2018",
          "Saint Clair Pioneer Block Sauvignon Blanc 2016 Marlborough",
          "Acacia Road Chenin Blanc 2018",
          "Roaring Meg Pinot Noir 2017 Mt Difficulty, Central Otago",
          "Oyster Bay Merlot 2017 Hawke's Bay",
          "Viré-Clessé Cave de Viré",
          "Waimea Estate Pinot Gris 2018 Nelson",
          "Ten Minutes by Tractor Estate Pinot Noir 2017 Mornington Peninsular",
          "Viñalba Gran Reservado Malbec 2016 Mendoza",
          "Valle Antigua Cabernet Sauvignon 2017",
          "Contesa Pecorino 2017/18 IGT Colline Pescaresi",
          "Bellingham 'The Bernard Series' Viognier 2018 Western Cape",
          "Errazuriz Wild Ferment Chardonnay 2016 Casablanca Valley",
          "Dos Minas Malbec",
          "Château de Sainte Gemme Haut-Médoc",
          "Devil's Creek Gold Reserve Sauvignon Blanc",
          "Matsu El Picaro 2018 Toro",
          "Vallée Des Pins Rosé 2018 Côteaux d'Aix en Provence",
          "Miraval Rosé 2018 Côtes de Provence",
          "Château Guiot 2017 Costières de Nîmes",
          "Rioja Blanco 2018 Muga",
          "Gufetto Pinot Grigio 2018",
          "Leon Perdigal Côtes du Rhône Rosé 2018",
          "Peyrassol, Reserve des Templiers Rosé 2018 Côtes de Provence",
          "Oyster Bay Chardonnay 2017 Marlborough",
          "Symbiose Piquepoul Sauvignon Blanc 'Cuvée Florence' 2017, Côtes de Thau",
          "Villa Maria Private Bin Riesling 2018 Marlborough",
          "Negrar Il Viaggio Appassimento 2018",
          "Waimea Estate Grüner Veltliner 2017 Nelson",
          "Jaboulet Syrah 2017",
          "Paul Mas Estate Marsanne 'La Forge Vineyard' 2018 PGI Pays d Oc",
          "Majestic Loves Merlot 2018",
          "La Vieille Ferme 2018 Perrin et Fils",
          "Premier Vin du Château de Pitray 2014",
          "Wolf Blass Yellow Label Chardonnay 2017 South Australia",
          "Domaine de Villargeau 2017 Côteaux du Giennois",
          "Definition Côtes Du Rhône 2017",
          "Rustenberg RM Nicholson 2016 Stellenbosch",
          "Kuhlmann-Platz Gewürztraminer 2018 Cave de Hunawihr",
          "Herdade De Gambia 2017",
          "Parcel Series Organic Tempranillo 2017",
          "Parrilla Malbec 2017 Viñalba, Mendoza",
          "Mon Plaisir du Sud Rosé 2018",
          "Emilio Moro 2016 Ribera del Duero",
          "Morande M Chardonnay 2018",
          "Mon Plaisir du Sud Rouge 2017",
          "Dogajolo Carpineto 2016 Toscana",
          "Viñalba Fifty 50 2017 Uco Valley",
          "Rustenberg John X Merriman 2017 Stellenbosch",
          "Haut Vol Rosé 2018 VdF",
          "Kuhlmann-Platz Riesling 2018 Cave de Hunawihr",
          "The Ned Rosé 2018 Waihopai River, Marlborough",
          "Olivier Dubois Cuvée Prestige Sauvignon Blanc 2018",
          "Cillar de Silos Crianza 2016 Ribera del Duero",
          "Luis Felipe Edwards Signature Series Viognier Reserva 2019 Rapel Valley",
          "Porta 6 2015 Magnum",
          "Beaujolais Lantignié 2018 Louis Jadot",
          "Ammazza Pinot Grigio IGT",
          "Château de Berne Rosé 2018 Côtes de Provence",
          "Fallow's View Shiraz",
          "Ramos Reserva 2017 Vinho Regional Alentejano",
          "Domaine Les Yeuses 'Les Epices' Syrah 2017 PGI Pays d'Oc",
          "Santa Rita 120 Cabernet Franc 2016 Central Valley",
          "Morandé one to one Gewurztraminer 2017",
          "Grüner Veltliner 2018 Weingärten Weissenkirchen, Wachau",
          "Errazuriz Estate Series Pinot Noir 2018 Valle de Aconcagua",
          "Amarone Classico 'Vigneti di Roccolo' 2016 Cantina Negrar",
          "Château Pigoudet La Chapelle Rosé 2017 Coteaux dAix-en-Provence",
          "Bienbebido Pulpo Albariño 2018",
          "Mas Querido Field Blend 2018",
          "Bourgogne Chardonnay 'Les Chenaudières' 2016/17 Cave de Lugny",
          "Santa Rita Medalla Real Chardonnay 2018 Limari Valley",
          "As Caixas Godello 2018 Martín Códax, Monterrei",
          "Gabb Family Chardonnay 2018",
          "Verdicchio dei Castelli di Jesi 2018 Monte Schiavo",
          "Dr Loosen Slate Hill Riesling 2018",
          "Waimea Estate Gewürztraminer 2016/17 Nelson",
          "Côtes du Rhône 2016 Vidal-Fleury",
          "Pietrariccia Fiano 2018 Surani",
          "Orvieto Classico Secco Vigneto Mortaro 2018 Barberani",
          "Abbott's & Delaunay Fruits Sauvage Sauvignon Blanc 2017",
          "Nord Est Vermentino 2017 Cantina del Vermentino",
          "Mas de la Dona, Cotes de Roussillon Villages 2018",
          "Saint Clair Estate Selection Sauvignon Blanc 2018 Marlborough",
          "Vinalba Malbec Bonarda 2018",
          "Valpolicella Classico 2018 Cantina di Negrar",
          "Lâchez-Vous Grenache-Syrah, 2017",
          "Les Jamelles Pinot Gris 2018",
          "Muscadet 2018 Jean Sablenay",
          "Zingo Malbec Rosé 2018",
          "Errazuriz Sauvignon Blanc 2017 Casablanca Valley",
          "Nettie Zinfandel 2017",
          "Falanghina 2018 Terredora",
          "The Lodge Hill Riesling 2018 Jim Barry, Clare Valley",
          "Bodega Volcanes Carménère 2018",
          "Royal Tokaji Dry Tokaji 2015/16",
          "Rioja Reserva 2014 Marqués de Cáceres",
          "Ammazza Montepulciano 2016",
          "Emperors Prize Pinot Noir 2017/2018",
          "Côtes du Rhône Réserve Rouge 2017 Perrin et Fils",
          "Viñalba Selección Torrontés 2018 Lujan de Cuyo",
          "Montes Reserva Malbec 2017 Colchagua Valley",
          "La Font Reserva 2013 Valencia",
          "Majestic Loves Shiraz 2018",
          "Saluti Bianco",
          "Making Tracks Viognier 2018",
          "Chianti Poggio Galiga 2016 Grati",
          "Peter & Ulrich Dry Riesling 2018",
          "Château Guiot Rosé 2018 Costières de Nîmes, France",
          "Marquis de Pennautier Viognier 2018 PGI Pays d'Oc",
          "Errazuriz Estate Series Merlot 2018 Valle de Curicó",
          "Trebuchet Chardonnay 2017 Western Cape",
          "Errazuriz Single Vineyard Sauvignon Blanc 2017 Casablanca Valley",
          "The Long Coast Cabernet Sauvignon",
          "Mon Plaisir de la Vallee Cabernet Franc 2016 VdF",
          "Gran Vendema Rioja Crianza 2015",
          "Waimea Estate Pinot Noir 2017 Nelson",
          "Mon Plaisir De La Vallee, Sauvignon Blanc, VdF 2018",
          "Montes Single Vineyard Merlot 2016",
          "Santa Rita 120 Viognier 2017 Central Valley",
          "Trebuchet Red 2018 Western Cape",
          "Marques Tertiaro Gran Reservado 2011",
          "BenMarco Malbec 2018 Dominio del Plata, Mendoza",
          "Errazuriz Estate Series Carmenère 2016 Aconcagua Valley",
          "De Bortoli 1628 Durif",
          "Kuhlmann-Platz Pinot Blanc 2018 Cave de Hunawihr",
          "Tasca \"Regaleali\" Bianco Di Sicilia 2017",
          "Dom St Jean de la Cavalerie Chardonnay 2018",
          "Côté Mas Rouge 2016 PGI Pays d'Oc",
          "AIX Rosé 2018 Coteaux d'Aix en Provence Magnum",
          "Saluti Rosso",
          "Chablis Elodie Duprés 2016",
          "Dehesa Gago, Tinta de Toro 2016",
          "Definition Shiraz 2017",
          "Wolf Blass Yellow Label Cabernet Sauvignon 2017 South Australia",
          "Sassaiolo Rosso Piceno 2014 Monte Schiavo",
          "Hokum Chardonnay"
         ],
         "legendgroup": "",
         "marker": {
          "color": "#636efa",
          "symbol": "circle"
         },
         "mode": "markers",
         "name": "",
         "showlegend": false,
         "type": "scatter",
         "x": [
          195,
          320,
          54,
          177,
          306,
          313,
          830,
          172,
          171,
          334,
          401,
          114,
          222,
          280,
          183,
          74,
          294,
          266,
          157,
          170,
          331,
          129,
          1565,
          114,
          545,
          318,
          1601,
          101,
          241,
          244,
          379,
          332,
          458,
          458,
          777,
          186,
          246,
          246,
          246,
          241,
          231,
          231,
          134,
          155,
          122,
          122,
          148,
          181,
          137,
          103,
          282,
          251,
          441,
          549,
          212,
          216,
          213,
          67,
          54,
          219,
          165,
          191,
          110,
          379,
          72,
          87,
          105,
          49,
          140,
          463,
          45,
          76,
          202,
          114,
          196,
          155,
          50,
          206,
          118,
          406,
          78,
          322,
          92,
          112,
          66,
          226,
          226,
          63,
          270,
          192,
          67,
          226,
          90,
          356,
          84,
          84,
          59,
          251,
          170,
          136,
          43,
          65,
          69,
          209,
          415,
          51,
          83,
          175,
          125,
          80,
          206,
          204,
          56,
          270,
          46,
          142,
          176,
          141,
          112,
          80,
          159,
          93,
          59,
          94,
          50,
          193,
          110,
          98,
          177,
          136,
          182,
          194,
          63,
          63,
          42,
          70,
          100,
          45,
          56,
          195,
          94,
          87,
          99,
          152,
          86,
          160,
          128,
          92,
          56,
          84,
          48,
          233,
          213,
          224,
          127,
          43,
          47,
          69,
          59,
          152,
          152,
          45,
          44,
          104,
          69,
          71,
          56,
          49,
          65,
          92,
          51,
          43,
          161,
          56,
          98,
          133,
          64,
          42,
          85,
          70,
          106,
          41,
          94,
          122,
          59,
          52,
          65,
          50,
          77,
          154,
          115,
          51,
          244,
          45,
          149,
          103,
          90,
          68,
          198,
          94,
          111,
          140,
          80,
          41,
          138,
          71,
          44,
          161,
          46,
          48,
          192,
          93,
          93,
          106,
          67,
          41,
          68,
          104,
          54,
          65,
          55,
          88,
          51,
          78,
          86,
          99,
          59,
          49,
          52,
          103,
          77,
          130,
          57,
          95,
          45,
          98,
          126,
          49,
          75,
          113,
          48,
          56,
          41,
          92,
          89,
          50,
          42,
          168,
          45,
          53,
          194,
          54,
          88,
          57,
          58,
          58,
          44,
          59,
          58,
          116,
          60,
          41,
          62,
          70,
          144,
          48,
          82,
          56,
          165,
          49,
          66,
          44,
          88,
          44,
          60,
          95,
          118,
          74,
          76,
          68,
          94,
          52,
          41,
          130,
          45,
          57,
          80,
          98,
          61,
          41
         ],
         "xaxis": "x",
         "y": [
          91,
          93,
          91,
          92,
          97,
          98,
          93,
          86,
          93,
          86,
          96,
          96,
          91,
          92,
          87,
          95,
          88,
          94,
          92,
          91,
          95,
          95,
          95,
          92,
          97,
          93,
          96,
          96,
          94,
          94,
          95,
          94,
          95,
          95,
          98,
          94,
          95,
          95,
          95,
          90,
          87,
          87,
          93,
          94,
          93,
          98,
          94,
          97,
          96,
          83,
          94,
          93,
          96,
          94,
          97,
          94,
          95,
          90,
          93,
          92,
          93,
          90,
          92,
          93,
          90,
          92,
          89,
          86,
          89,
          92,
          93,
          96,
          93,
          84,
          89,
          92,
          94,
          90,
          92,
          96,
          92,
          95,
          93,
          91,
          89,
          94,
          94,
          97,
          93,
          97,
          97,
          93,
          91,
          94,
          88,
          92,
          61,
          94,
          84,
          96,
          95,
          94,
          91,
          85,
          86,
          92,
          95,
          94,
          88,
          90,
          91,
          96,
          88,
          91,
          93,
          94,
          96,
          94,
          91,
          91,
          92,
          86,
          59,
          96,
          94,
          93,
          92,
          94,
          92,
          86,
          97,
          92,
          92,
          92,
          90,
          97,
          94,
          96,
          96,
          89,
          94,
          90,
          89,
          91,
          92,
          91,
          86,
          85,
          91,
          92,
          96,
          89,
          91,
          88,
          94,
          88,
          91,
          84,
          98,
          95,
          95,
          91,
          82,
          94,
          90,
          94,
          95,
          78,
          95,
          93,
          94,
          86,
          90,
          89,
          73,
          91,
          92,
          90,
          94,
          91,
          96,
          88,
          82,
          90,
          88,
          85,
          85,
          88,
          95,
          83,
          94,
          90,
          94,
          91,
          90,
          94,
          96,
          94,
          91,
          87,
          94,
          94,
          94,
          95,
          95,
          93,
          86,
          88,
          98,
          77,
          84,
          83,
          83,
          92,
          84,
          93,
          93,
          93,
          83,
          97,
          95,
          92,
          94,
          90,
          93,
          93,
          81,
          86,
          83,
          88,
          92,
          89,
          88,
          87,
          91,
          98,
          96,
          84,
          85,
          95,
          94,
          88,
          95,
          87,
          85,
          94,
          79,
          92,
          82,
          94,
          90,
          78,
          86,
          88,
          93,
          86,
          77,
          85,
          79,
          84,
          97,
          83,
          77,
          89,
          91,
          94,
          84,
          84,
          79,
          80,
          91,
          93,
          86,
          82,
          82,
          87,
          90,
          80,
          95,
          90,
          88,
          85,
          95,
          69,
          80,
          95,
          94,
          84,
          84,
          63
         ],
         "yaxis": "y"
        }
       ],
       "layout": {
        "height": 600,
        "legend": {
         "tracegroupgap": 0
        },
        "margin": {
         "t": 60
        },
        "template": {
         "data": {
          "bar": [
           {
            "error_x": {
             "color": "#2a3f5f"
            },
            "error_y": {
             "color": "#2a3f5f"
            },
            "marker": {
             "line": {
              "color": "#E5ECF6",
              "width": 0.5
             }
            },
            "type": "bar"
           }
          ],
          "barpolar": [
           {
            "marker": {
             "line": {
              "color": "#E5ECF6",
              "width": 0.5
             }
            },
            "type": "barpolar"
           }
          ],
          "carpet": [
           {
            "aaxis": {
             "endlinecolor": "#2a3f5f",
             "gridcolor": "white",
             "linecolor": "white",
             "minorgridcolor": "white",
             "startlinecolor": "#2a3f5f"
            },
            "baxis": {
             "endlinecolor": "#2a3f5f",
             "gridcolor": "white",
             "linecolor": "white",
             "minorgridcolor": "white",
             "startlinecolor": "#2a3f5f"
            },
            "type": "carpet"
           }
          ],
          "choropleth": [
           {
            "colorbar": {
             "outlinewidth": 0,
             "ticks": ""
            },
            "type": "choropleth"
           }
          ],
          "contour": [
           {
            "colorbar": {
             "outlinewidth": 0,
             "ticks": ""
            },
            "colorscale": [
             [
              0,
              "#0d0887"
             ],
             [
              0.1111111111111111,
              "#46039f"
             ],
             [
              0.2222222222222222,
              "#7201a8"
             ],
             [
              0.3333333333333333,
              "#9c179e"
             ],
             [
              0.4444444444444444,
              "#bd3786"
             ],
             [
              0.5555555555555556,
              "#d8576b"
             ],
             [
              0.6666666666666666,
              "#ed7953"
             ],
             [
              0.7777777777777778,
              "#fb9f3a"
             ],
             [
              0.8888888888888888,
              "#fdca26"
             ],
             [
              1,
              "#f0f921"
             ]
            ],
            "type": "contour"
           }
          ],
          "contourcarpet": [
           {
            "colorbar": {
             "outlinewidth": 0,
             "ticks": ""
            },
            "type": "contourcarpet"
           }
          ],
          "heatmap": [
           {
            "colorbar": {
             "outlinewidth": 0,
             "ticks": ""
            },
            "colorscale": [
             [
              0,
              "#0d0887"
             ],
             [
              0.1111111111111111,
              "#46039f"
             ],
             [
              0.2222222222222222,
              "#7201a8"
             ],
             [
              0.3333333333333333,
              "#9c179e"
             ],
             [
              0.4444444444444444,
              "#bd3786"
             ],
             [
              0.5555555555555556,
              "#d8576b"
             ],
             [
              0.6666666666666666,
              "#ed7953"
             ],
             [
              0.7777777777777778,
              "#fb9f3a"
             ],
             [
              0.8888888888888888,
              "#fdca26"
             ],
             [
              1,
              "#f0f921"
             ]
            ],
            "type": "heatmap"
           }
          ],
          "heatmapgl": [
           {
            "colorbar": {
             "outlinewidth": 0,
             "ticks": ""
            },
            "colorscale": [
             [
              0,
              "#0d0887"
             ],
             [
              0.1111111111111111,
              "#46039f"
             ],
             [
              0.2222222222222222,
              "#7201a8"
             ],
             [
              0.3333333333333333,
              "#9c179e"
             ],
             [
              0.4444444444444444,
              "#bd3786"
             ],
             [
              0.5555555555555556,
              "#d8576b"
             ],
             [
              0.6666666666666666,
              "#ed7953"
             ],
             [
              0.7777777777777778,
              "#fb9f3a"
             ],
             [
              0.8888888888888888,
              "#fdca26"
             ],
             [
              1,
              "#f0f921"
             ]
            ],
            "type": "heatmapgl"
           }
          ],
          "histogram": [
           {
            "marker": {
             "colorbar": {
              "outlinewidth": 0,
              "ticks": ""
             }
            },
            "type": "histogram"
           }
          ],
          "histogram2d": [
           {
            "colorbar": {
             "outlinewidth": 0,
             "ticks": ""
            },
            "colorscale": [
             [
              0,
              "#0d0887"
             ],
             [
              0.1111111111111111,
              "#46039f"
             ],
             [
              0.2222222222222222,
              "#7201a8"
             ],
             [
              0.3333333333333333,
              "#9c179e"
             ],
             [
              0.4444444444444444,
              "#bd3786"
             ],
             [
              0.5555555555555556,
              "#d8576b"
             ],
             [
              0.6666666666666666,
              "#ed7953"
             ],
             [
              0.7777777777777778,
              "#fb9f3a"
             ],
             [
              0.8888888888888888,
              "#fdca26"
             ],
             [
              1,
              "#f0f921"
             ]
            ],
            "type": "histogram2d"
           }
          ],
          "histogram2dcontour": [
           {
            "colorbar": {
             "outlinewidth": 0,
             "ticks": ""
            },
            "colorscale": [
             [
              0,
              "#0d0887"
             ],
             [
              0.1111111111111111,
              "#46039f"
             ],
             [
              0.2222222222222222,
              "#7201a8"
             ],
             [
              0.3333333333333333,
              "#9c179e"
             ],
             [
              0.4444444444444444,
              "#bd3786"
             ],
             [
              0.5555555555555556,
              "#d8576b"
             ],
             [
              0.6666666666666666,
              "#ed7953"
             ],
             [
              0.7777777777777778,
              "#fb9f3a"
             ],
             [
              0.8888888888888888,
              "#fdca26"
             ],
             [
              1,
              "#f0f921"
             ]
            ],
            "type": "histogram2dcontour"
           }
          ],
          "mesh3d": [
           {
            "colorbar": {
             "outlinewidth": 0,
             "ticks": ""
            },
            "type": "mesh3d"
           }
          ],
          "parcoords": [
           {
            "line": {
             "colorbar": {
              "outlinewidth": 0,
              "ticks": ""
             }
            },
            "type": "parcoords"
           }
          ],
          "scatter": [
           {
            "marker": {
             "colorbar": {
              "outlinewidth": 0,
              "ticks": ""
             }
            },
            "type": "scatter"
           }
          ],
          "scatter3d": [
           {
            "line": {
             "colorbar": {
              "outlinewidth": 0,
              "ticks": ""
             }
            },
            "marker": {
             "colorbar": {
              "outlinewidth": 0,
              "ticks": ""
             }
            },
            "type": "scatter3d"
           }
          ],
          "scattercarpet": [
           {
            "marker": {
             "colorbar": {
              "outlinewidth": 0,
              "ticks": ""
             }
            },
            "type": "scattercarpet"
           }
          ],
          "scattergeo": [
           {
            "marker": {
             "colorbar": {
              "outlinewidth": 0,
              "ticks": ""
             }
            },
            "type": "scattergeo"
           }
          ],
          "scattergl": [
           {
            "marker": {
             "colorbar": {
              "outlinewidth": 0,
              "ticks": ""
             }
            },
            "type": "scattergl"
           }
          ],
          "scattermapbox": [
           {
            "marker": {
             "colorbar": {
              "outlinewidth": 0,
              "ticks": ""
             }
            },
            "type": "scattermapbox"
           }
          ],
          "scatterpolar": [
           {
            "marker": {
             "colorbar": {
              "outlinewidth": 0,
              "ticks": ""
             }
            },
            "type": "scatterpolar"
           }
          ],
          "scatterpolargl": [
           {
            "marker": {
             "colorbar": {
              "outlinewidth": 0,
              "ticks": ""
             }
            },
            "type": "scatterpolargl"
           }
          ],
          "scatterternary": [
           {
            "marker": {
             "colorbar": {
              "outlinewidth": 0,
              "ticks": ""
             }
            },
            "type": "scatterternary"
           }
          ],
          "surface": [
           {
            "colorbar": {
             "outlinewidth": 0,
             "ticks": ""
            },
            "colorscale": [
             [
              0,
              "#0d0887"
             ],
             [
              0.1111111111111111,
              "#46039f"
             ],
             [
              0.2222222222222222,
              "#7201a8"
             ],
             [
              0.3333333333333333,
              "#9c179e"
             ],
             [
              0.4444444444444444,
              "#bd3786"
             ],
             [
              0.5555555555555556,
              "#d8576b"
             ],
             [
              0.6666666666666666,
              "#ed7953"
             ],
             [
              0.7777777777777778,
              "#fb9f3a"
             ],
             [
              0.8888888888888888,
              "#fdca26"
             ],
             [
              1,
              "#f0f921"
             ]
            ],
            "type": "surface"
           }
          ],
          "table": [
           {
            "cells": {
             "fill": {
              "color": "#EBF0F8"
             },
             "line": {
              "color": "white"
             }
            },
            "header": {
             "fill": {
              "color": "#C8D4E3"
             },
             "line": {
              "color": "white"
             }
            },
            "type": "table"
           }
          ]
         },
         "layout": {
          "annotationdefaults": {
           "arrowcolor": "#2a3f5f",
           "arrowhead": 0,
           "arrowwidth": 1
          },
          "colorscale": {
           "diverging": [
            [
             0,
             "#8e0152"
            ],
            [
             0.1,
             "#c51b7d"
            ],
            [
             0.2,
             "#de77ae"
            ],
            [
             0.3,
             "#f1b6da"
            ],
            [
             0.4,
             "#fde0ef"
            ],
            [
             0.5,
             "#f7f7f7"
            ],
            [
             0.6,
             "#e6f5d0"
            ],
            [
             0.7,
             "#b8e186"
            ],
            [
             0.8,
             "#7fbc41"
            ],
            [
             0.9,
             "#4d9221"
            ],
            [
             1,
             "#276419"
            ]
           ],
           "sequential": [
            [
             0,
             "#0d0887"
            ],
            [
             0.1111111111111111,
             "#46039f"
            ],
            [
             0.2222222222222222,
             "#7201a8"
            ],
            [
             0.3333333333333333,
             "#9c179e"
            ],
            [
             0.4444444444444444,
             "#bd3786"
            ],
            [
             0.5555555555555556,
             "#d8576b"
            ],
            [
             0.6666666666666666,
             "#ed7953"
            ],
            [
             0.7777777777777778,
             "#fb9f3a"
            ],
            [
             0.8888888888888888,
             "#fdca26"
            ],
            [
             1,
             "#f0f921"
            ]
           ],
           "sequentialminus": [
            [
             0,
             "#0d0887"
            ],
            [
             0.1111111111111111,
             "#46039f"
            ],
            [
             0.2222222222222222,
             "#7201a8"
            ],
            [
             0.3333333333333333,
             "#9c179e"
            ],
            [
             0.4444444444444444,
             "#bd3786"
            ],
            [
             0.5555555555555556,
             "#d8576b"
            ],
            [
             0.6666666666666666,
             "#ed7953"
            ],
            [
             0.7777777777777778,
             "#fb9f3a"
            ],
            [
             0.8888888888888888,
             "#fdca26"
            ],
            [
             1,
             "#f0f921"
            ]
           ]
          },
          "colorway": [
           "#636efa",
           "#EF553B",
           "#00cc96",
           "#ab63fa",
           "#FFA15A",
           "#19d3f3",
           "#FF6692",
           "#B6E880",
           "#FF97FF",
           "#FECB52"
          ],
          "font": {
           "color": "#2a3f5f"
          },
          "geo": {
           "bgcolor": "white",
           "lakecolor": "white",
           "landcolor": "#E5ECF6",
           "showlakes": true,
           "showland": true,
           "subunitcolor": "white"
          },
          "hoverlabel": {
           "align": "left"
          },
          "hovermode": "closest",
          "mapbox": {
           "style": "light"
          },
          "paper_bgcolor": "white",
          "plot_bgcolor": "#E5ECF6",
          "polar": {
           "angularaxis": {
            "gridcolor": "white",
            "linecolor": "white",
            "ticks": ""
           },
           "bgcolor": "#E5ECF6",
           "radialaxis": {
            "gridcolor": "white",
            "linecolor": "white",
            "ticks": ""
           }
          },
          "scene": {
           "xaxis": {
            "backgroundcolor": "#E5ECF6",
            "gridcolor": "white",
            "gridwidth": 2,
            "linecolor": "white",
            "showbackground": true,
            "ticks": "",
            "zerolinecolor": "white"
           },
           "yaxis": {
            "backgroundcolor": "#E5ECF6",
            "gridcolor": "white",
            "gridwidth": 2,
            "linecolor": "white",
            "showbackground": true,
            "ticks": "",
            "zerolinecolor": "white"
           },
           "zaxis": {
            "backgroundcolor": "#E5ECF6",
            "gridcolor": "white",
            "gridwidth": 2,
            "linecolor": "white",
            "showbackground": true,
            "ticks": "",
            "zerolinecolor": "white"
           }
          },
          "shapedefaults": {
           "line": {
            "color": "#2a3f5f"
           }
          },
          "ternary": {
           "aaxis": {
            "gridcolor": "white",
            "linecolor": "white",
            "ticks": ""
           },
           "baxis": {
            "gridcolor": "white",
            "linecolor": "white",
            "ticks": ""
           },
           "bgcolor": "#E5ECF6",
           "caxis": {
            "gridcolor": "white",
            "linecolor": "white",
            "ticks": ""
           }
          },
          "title": {
           "x": 0.05
          },
          "xaxis": {
           "automargin": true,
           "gridcolor": "white",
           "linecolor": "white",
           "ticks": "",
           "zerolinecolor": "white",
           "zerolinewidth": 2
          },
          "yaxis": {
           "automargin": true,
           "gridcolor": "white",
           "linecolor": "white",
           "ticks": "",
           "zerolinecolor": "white",
           "zerolinewidth": 2
          }
         }
        },
        "xaxis": {
         "anchor": "y",
         "domain": [
          0,
          0.98
         ],
         "title": {
          "text": "Number of Reviewers"
         }
        },
        "yaxis": {
         "anchor": "x",
         "domain": [
          0,
          1
         ],
         "title": {
          "text": "Percentage of reviewers who would buy again"
         }
        }
       }
      },
      "text/html": [
       "<div>\n",
       "        \n",
       "        \n",
       "            <div id=\"af7752cc-ffeb-462d-92f1-dbf472f3b575\" class=\"plotly-graph-div\" style=\"height:600px; width:100%;\"></div>\n",
       "            <script type=\"text/javascript\">\n",
       "                require([\"plotly\"], function(Plotly) {\n",
       "                    window.PLOTLYENV=window.PLOTLYENV || {};\n",
       "                    \n",
       "                if (document.getElementById(\"af7752cc-ffeb-462d-92f1-dbf472f3b575\")) {\n",
       "                    Plotly.newPlot(\n",
       "                        'af7752cc-ffeb-462d-92f1-dbf472f3b575',\n",
       "                        [{\"hoverlabel\": {\"namelength\": 0}, \"hovertemplate\": \"<b>%{hovertext}</b><br><br>Number of Reviewers=%{x}<br>Percentage of reviewers who would buy again=%{y}\", \"hovertext\": [\"Bread & Butter Chardonnay 2017, California\", \"Nero Oro Appassimento 2018, Sicily\", \"Jaboulet Viognier 2018, France\", \"Dawn Star Sauvignon Blanc 2018, Marlborough\", \"Definition Zinfandel 2017, Lodi\", \"Behind Closed Doors Reserva Lisboa Red 2016, Portugal\", \"The Guv'nor\", \"Ch\\u00e2teau Recougne 2016, Bordeaux Sup\\u00e9rieur\", \"Castaway Island Marlborough Sauvignon Blanc 2018\", \"Beefsteak Club Malbec 2017 Mendoza\", \"Porta 6 Reserva 2017\", \"La Belle Angele Rose 2018 VdF\", \"Porta 6 Vinho Verde 2018\", \"Las Maletas Malbec 2018/19 Mendoza\", \"Pinot Grigio Superiore 2018 Breganze\", \"Definition Albarino 2018\", \"Rioja Gran Reserva 2011 Vi\\u00f1a Alarde\", \"Catena Malbec 2017 Mendoza\", \"Rioja Blanco 2018 L\\u00f3pez de Haro\", \"Rioja Crianza 2016 CVNE\", \"Rioja Reserva Marqu\\u00e9s de Riscal 2015\", \"Jas de Vignes IGP Mediterranee Ros\\u00e9 2018\", \"The Ned Waihopai River Sauvignon Blanc 2018 Marlborough\", \"Grand Ard\\u00e8che Chardonnay 2017 Louis Latour\", \"Oyster Bay Sauvignon Blanc 2018 Marlborough\", \"M\\u00e2con-Villages Blanc 'Les Pierres Blanches' 2017 Cave de Lugny\", \"Porta 6 2017 Lisboa\", \"Nero Oro Riserva 2016, Sicily\", \"Montagny 1er Cru 'Les Milli\\u00e8res' 2018 Cave des Vignerons de Buxy\", \"C\\u00f4tes du Rh\\u00f4ne 2015 E. Guigal\", \"M\\u00e2con-Lugny 2017 Louis Latour\", \"Villemarin Picpoul de Pinet 2018 C\\u00f4teaux du Languedoc\", \"Surani Costarossa 2018 Primitivo di Manduria\", \"Gigondas Domaine Des Capes 2017, Rh\\u00f4ne\", \"Villa Maria Private Bin Sauvignon Blanc 2018/19, Marlborough\", \"Making Tracks Shiraz 2018\", \"Caixas Albari\\u00f1o 2017/18 R\\u00edas Baixas\", \"Vavasour Papa Sauvignon Blanc 2018, Malborourgh\", \"Quinta do Carmo 'Dom Martinho' 2017, Alentejo\", \"S&R Douro Red, 2017\", \"Silver Ghost Sauvignon Blanc 2019 Central Valley\", \"Chablis 2018, Bouchard Ain\\u00e9 & Fils, France\", \"Olivier Dubois Cuvee Prestige Pinot Noir 2017 VdF\", \"Definition Marlborough Sauvignon Blanc 2018\", \"Marcelo Pelleriti Malbec 2018 Valle De Uco, Mendoza\", \"Rioja Reserva Vi\\u00f1a Ardanza 2009 La Rioja Alta\", \"Valpolicella Ripasso 2017 Villa Borghetti\", \"Rioja Reserva 2014 Beronia\", \"Abbotts & Delaunay Viognier 2018\", \"Pinot Noir Domaine de Valmoissine 2016 Louis Latour\", \"Devil's Creek Marlborough Sauvignon Blanc 2018\", \"Definition Rioja Reserva 2013\", \"Passimento 2016 Pasqua\", \"Finca Carelio Tempranillo 2015 Vino de la Tierra\", \"Valpolicella Superiore Ripasso 2016 La Casetta\", \"Rioja Reserva 2015 CVNE\", \"Albari\\u00f1o Mart\\u00edn C\\u00f3dax 2017/18 R\\u00edas Baixas\", \"Ch\\u00e2teau Caronne Ste-Gemme 2014 Haut-M\\u00e9doc\", \"Valle Antigua Merlot 2017\", \"Agenda, D\\u00e3o Manager's Choice 2016\", \"Kangarilla Road Shiraz 2017/18 McLaren Vale\", \"M de Minuty Ros\\u00e9 2018, C\\u00f4tes de Provence\", \"Planalto White Reserva 2018 Douro\", \"Russian Jack Sauvignon Blanc 2017 Marlborough\", \"Tenacity Old Vine Shiraz 2018\", \"Cloudy Bay Sauvignon Blanc 2018 Marlborough\", \"Vieux Remparts 2017 Lussac St-Emilion\", \"Sancerre C\\u00f3te des Embouffants 2018 Domaine Roger Neveu\", \"Incanta Pinot Noir 2018\", \"Vi\\u00f1alba Reserve Malbec 2017 Mendoza\", \"Masi 'Costaser' Amarone Classico 2013 DOCG, Valpolicella\", \"Majestic Loves Sauvignon 2019\", \"Alamos Uco Valley Malbec 2018\", \"Fleurie 2018 Georges Duboeuf\", \"Silver Ghost Cabernet Sauvignon 2016 Central Valley\", \"M\\u00e2con-Villages 'Les Roches Blanches' 2018 Louis Jadot\", \"Definition Marlborough Pinot Noir 2017\", \"Pinot Grigio Rosato 2018 Delle Venezie\", \"La Belle Angele Sauvignon Blanc 2017/18\", \"Mud House Sauvignon Blanc 2018 Marlborough\", \"The Ned Pinot Noir 2017 Southern Valleys, Marlborough\", \"Ravenswood Lodi Zinfandel 2017\", \"Montepulciano d'Abruzzo 2016 Masciarelli\", \"Definition Chardonnay 2018\", \"The Chocolate Block 2017 Boekenhoutskloof, Western Cape\", \"Definition Malbec 2018\", \"Vavasour Chardonnay\", \"La Raia 'Il Borgo' Gavi 2018\", \"Rioja 'Seleccion Especial' 2017 Ram\\u00f3n Bilbao\", \"Alain Grignon Carignan Vieilles Vignes 2017/2018 PGI Pays de l'H\\u00e9rault\", \"Blind River Sauvignon Blanc 2018 Awatere Valley, Marlborough\", \"Jim Barry Cover Drive Cabernet Sauvignon 2015 Coonawarra\", \"\\\"The Astronomer\\\" Chardonnay 2018 De Bortoli\", \"C\\u00f4tes-du-Rh\\u00f4ne 2017/18 L\\u00e9on Perdigal\", \"M\\u00e2con Rouge 'Les Roches Rouges' 2017 Louis Jadot\", \"Desire Lush & Zin 2018\", \"Les Sources De Livran, Ch\\u00e2teau Livran\", \"The Ned Pinot Grigio 2018 Marlborough\", \"Primitivo 2017 Natale Verga\", \"Krasno Pinot Bianco\", \"Acacia Road Sauvignon Blanc 2018\", \"Araldica Barbera d'Asti DOCG\", \"Pouilly-Fum\\u00e9 'Les Griottes' 2018 Jean-Pierre Bailly\", \"Barista Pinotage 2018 Western Cape\", \"Rioja Reserva 2014 Vi\\u00f1a Alarde\", \"Martinborough Vineyard \\u0091Te Tera\\u0092 Pinot Noir 2017 Martinborough\", \"Rioja Reserva 2015 Muga\", \"Edna Valley Pinot Noir 2017\", \"Chronic Cellars Purple Paradise 2017 Paso Robles\", \"Ch\\u00e2teau Musar 2003 Gaston Hochar\", \"Luis Felipe Edwards Gran Reserva Chardonnay 2018 Casablanca Valley\", \"Kaiken Seleccion Especial Malbec 2018, Mendoza\", \"Pinot Grigio Villa Vito 2018\", \"Hey Malbec! 2018 Matias Riccitelli, Mendoza\", \"Winemaker Series Shiraz 2016\", \"Edna Valley Chardonnay 2017\", \"Santa Rita Medalla Real Carmen\\u00e8re 2017 Colchagua Valley\", \"Passimento Bianco 2018 Pasqua\", \"Majestic Loves Spanish Red 2018\", \"Gavi 2018 Araldica\", \"Luis Felipe Edwards Gran Reserva Merlot 2018 Colchagua Valley\", \"Domodo Negroamaro IGP Puglia 2018\", \"Chalk Bay Sauvignon Blanc\", \"Petit Perdigal Rouge 2018\", \"Capaia One 2015\", \"Casal de Ventozela 2018 Vinho Verde\", \"Muscadet de S\\u00e8vre et Maine Sur Lie 2018 Domaine de la Tourmaline\", \"Rioja Reserva 2013 Vi\\u00f1a Pomal\", \"Black Cottage Sauvignon Blanc 2018 Marlborough\", \"Ch\\u00e2teau de Pennautier 2015 Cabard\\u00e8s\", \"Porta 6 Ros\\u00e9 2018\", \"Winemaker Series Swartland Red 2017\", \"Morgon 2018 Ch\\u00e2teau de Pizay\", \"Macon Villages Elodie Dupres\", \"Russian Jack Pinot Noir 2017 Martinborough Vineyards\", \"Saint Clair Pioneer Block Pinot Noir 2017 Marlborough\", \"Santa Rita Medalla Real Cabernet Sauvignon 2016 Maipo Valley\", \"Gnarly Dudes Shiraz 2016 Two Hands, Barossa Valley\", \"Acacia Road Merlot 2018\", \"Gavi 2018 La Toledana\", \"Aresti Bellavista Sauvignon Gris 2017\", \"Nettie Viognier 2017\", \"Majestic Loves Gruner Veltliner 2018\", \"Definition Viognier 2018\", \"Definition Chenin Blanc 2018\", \"Goldwater Sauvignon Blanc 2018 Marlborough\", \"The Astronomer Shiraz 2018 De Bortoli\", \"Majestic Loves Montepulciano 2018\", \"Parcel Series Marlborough Sauvignon Blanc 2018\", \"Vi\\u00f1alba Malbec-Touriga Nacional Reserve 2017 Mendoza\", \"Rioja Reserva Selecci\\u00f3n Especial 2014 Muga\", \"Santa Rita 120 Carm\\u00e9n\\u00e8re 2018 Central Valley\", \"C\\u00f4tes du Rh\\u00f4ne Belleruche 2018 M.Chapoutier\", \"Definition Gr\\u00fcner Veltliner 2018\", \"Saint Clair Pioneer Block Sauvignon Blanc 2016 Marlborough\", \"Acacia Road Chenin Blanc 2018\", \"Roaring Meg Pinot Noir 2017 Mt Difficulty, Central Otago\", \"Oyster Bay Merlot 2017 Hawke's Bay\", \"Vir\\u00e9-Cless\\u00e9 Cave de Vir\\u00e9\", \"Waimea Estate Pinot Gris 2018 Nelson\", \"Ten Minutes by Tractor Estate Pinot Noir 2017 Mornington Peninsular\", \"Vi\\u00f1alba Gran Reservado Malbec 2016 Mendoza\", \"Valle Antigua Cabernet Sauvignon 2017\", \"Contesa Pecorino 2017/18 IGT Colline Pescaresi\", \"Bellingham 'The Bernard Series' Viognier 2018 Western Cape\", \"Errazuriz Wild Ferment Chardonnay 2016 Casablanca Valley\", \"Dos Minas Malbec\", \"Ch\\u00e2teau de Sainte Gemme Haut-M\\u00e9doc\", \"Devil's Creek Gold Reserve Sauvignon Blanc\", \"Matsu El Picaro 2018 Toro\", \"Vall\\u00e9e Des Pins Ros\\u00e9 2018 C\\u00f4teaux d'Aix en Provence\", \"Miraval Ros\\u00e9 2018 C\\u00f4tes de Provence\", \"Ch\\u00e2teau Guiot 2017 Costi\\u00e8res de N\\u00eemes\", \"Rioja Blanco 2018 Muga\", \"Gufetto Pinot Grigio 2018\", \"Leon Perdigal C\\u00f4tes du Rh\\u00f4ne Ros\\u00e9 2018\", \"Peyrassol, Reserve des Templiers Ros\\u00e9 2018 C\\u00f4tes de Provence\", \"Oyster Bay Chardonnay 2017 Marlborough\", \"Symbiose Piquepoul Sauvignon Blanc 'Cuv\\u00e9e Florence' 2017, C\\u00f4tes de Thau\", \"Villa Maria Private Bin Riesling 2018 Marlborough\", \"Negrar Il Viaggio Appassimento 2018\", \"Waimea Estate Gr\\u00fcner Veltliner 2017 Nelson\", \"Jaboulet Syrah 2017\", \"Paul Mas Estate Marsanne 'La Forge Vineyard' 2018 PGI Pays d Oc\", \"Majestic Loves Merlot 2018\", \"La Vieille Ferme 2018 Perrin et Fils\", \"Premier Vin du Ch\\u00e2teau de Pitray 2014\", \"Wolf Blass Yellow Label Chardonnay 2017 South Australia\", \"Domaine de Villargeau 2017 C\\u00f4teaux du Giennois\", \"Definition C\\u00f4tes Du Rh\\u00f4ne 2017\", \"Rustenberg RM Nicholson 2016 Stellenbosch\", \"Kuhlmann-Platz Gew\\u00fcrztraminer 2018 Cave de Hunawihr\", \"Herdade De Gambia 2017\", \"Parcel Series Organic Tempranillo 2017\", \"Parrilla Malbec 2017 Vi\\u00f1alba, Mendoza\", \"Mon Plaisir du Sud Ros\\u00e9 2018\", \"Emilio Moro 2016 Ribera del Duero\", \"Morande M Chardonnay 2018\", \"Mon Plaisir du Sud Rouge 2017\", \"Dogajolo Carpineto 2016 Toscana\", \"Vi\\u00f1alba Fifty 50 2017 Uco Valley\", \"Rustenberg John X Merriman 2017 Stellenbosch\", \"Haut Vol Ros\\u00e9 2018 VdF\", \"Kuhlmann-Platz Riesling 2018 Cave de Hunawihr\", \"The Ned Ros\\u00e9 2018 Waihopai River, Marlborough\", \"Olivier Dubois Cuv\\u00e9e Prestige Sauvignon Blanc 2018\", \"Cillar de Silos Crianza 2016 Ribera del Duero\", \"Luis Felipe Edwards Signature Series Viognier Reserva 2019 Rapel Valley\", \"Porta 6 2015 Magnum\", \"Beaujolais Lantigni\\u00e9 2018 Louis Jadot\", \"Ammazza Pinot Grigio IGT\", \"Ch\\u00e2teau de Berne Ros\\u00e9 2018 C\\u00f4tes de Provence\", \"Fallow's View Shiraz\", \"Ramos Reserva 2017 Vinho Regional Alentejano\", \"Domaine Les Yeuses 'Les Epices' Syrah 2017 PGI Pays d'Oc\", \"Santa Rita 120 Cabernet Franc 2016 Central Valley\", \"Morand\\u00e9 one to one Gewurztraminer 2017\", \"Gr\\u00fcner Veltliner 2018 Weing\\u00e4rten Weissenkirchen, Wachau\", \"Errazuriz Estate Series Pinot Noir 2018 Valle de Aconcagua\", \"Amarone Classico 'Vigneti di Roccolo' 2016 Cantina Negrar\", \"Ch\\u00e2teau Pigoudet \\u0091La Chapelle\\u0092 Ros\\u00e9 2017 Coteaux d\\u0092Aix-en-Provence\", \"Bienbebido Pulpo Albari\\u00f1o 2018\", \"Mas Querido Field Blend 2018\", \"Bourgogne Chardonnay 'Les Chenaudi\\u00e8res' 2016/17 Cave de Lugny\", \"Santa Rita Medalla Real Chardonnay 2018 Limari Valley\", \"As Caixas Godello 2018 Mart\\u00edn C\\u00f3dax, Monterrei\", \"Gabb Family Chardonnay 2018\", \"Verdicchio dei Castelli di Jesi 2018 Monte Schiavo\", \"Dr Loosen Slate Hill Riesling 2018\", \"Waimea Estate Gew\\u00fcrztraminer 2016/17 Nelson\", \"C\\u00f4tes du Rh\\u00f4ne 2016 Vidal-Fleury\", \"Pietrariccia Fiano 2018 Surani\", \"Orvieto Classico Secco Vigneto Mortaro 2018 Barberani\", \"Abbott's & Delaunay Fruits Sauvage Sauvignon Blanc 2017\", \"Nord Est Vermentino 2017 Cantina del Vermentino\", \"Mas de la Dona, Cotes de Roussillon Villages 2018\", \"Saint Clair Estate Selection Sauvignon Blanc 2018 Marlborough\", \"Vinalba Malbec Bonarda 2018\", \"Valpolicella Classico 2018 Cantina di Negrar\", \"L\\u00e2chez-Vous Grenache-Syrah, 2017\", \"Les Jamelles Pinot Gris 2018\", \"Muscadet 2018 Jean Sablenay\", \"Zingo Malbec Ros\\u00e9 2018\", \"Errazuriz Sauvignon Blanc 2017 Casablanca Valley\", \"Nettie Zinfandel 2017\", \"Falanghina 2018 Terredora\", \"The Lodge Hill Riesling 2018 Jim Barry, Clare Valley\", \"Bodega Volcanes Carm\\u00e9n\\u00e8re 2018\", \"Royal Tokaji Dry Tokaji 2015/16\", \"Rioja Reserva 2014 Marqu\\u00e9s de C\\u00e1ceres\", \"Ammazza Montepulciano 2016\", \"Emperors Prize Pinot Noir 2017/2018\", \"C\\u00f4tes du Rh\\u00f4ne R\\u00e9serve Rouge 2017 Perrin et Fils\", \"Vi\\u00f1alba Selecci\\u00f3n Torront\\u00e9s 2018 Lujan de Cuyo\", \"Montes Reserva Malbec 2017 Colchagua Valley\", \"La Font Reserva 2013 Valencia\", \"Majestic Loves Shiraz 2018\", \"Saluti Bianco\", \"Making Tracks Viognier 2018\", \"Chianti Poggio Galiga 2016 Grati\", \"Peter & Ulrich Dry Riesling 2018\", \"Ch\\u00e2teau Guiot Ros\\u00e9 2018 Costi\\u00e8res de N\\u00eemes, France\", \"Marquis de Pennautier Viognier 2018 PGI Pays d'Oc\", \"Errazuriz Estate Series Merlot 2018 Valle de Curic\\u00f3\", \"Trebuchet Chardonnay 2017 Western Cape\", \"Errazuriz Single Vineyard Sauvignon Blanc 2017 Casablanca Valley\", \"The Long Coast Cabernet Sauvignon\", \"Mon Plaisir de la Vallee Cabernet Franc 2016 VdF\", \"Gran Vendema Rioja Crianza 2015\", \"Waimea Estate Pinot Noir 2017 Nelson\", \"Mon Plaisir De La Vallee, Sauvignon Blanc, VdF 2018\", \"Montes Single Vineyard Merlot 2016\", \"Santa Rita 120 Viognier 2017 Central Valley\", \"Trebuchet Red 2018 Western Cape\", \"Marques Tertiaro Gran Reservado 2011\", \"BenMarco Malbec 2018 Dominio del Plata, Mendoza\", \"Errazuriz Estate Series Carmen\\u00e8re 2016 Aconcagua Valley\", \"De Bortoli 1628 Durif\", \"Kuhlmann-Platz Pinot Blanc 2018 Cave de Hunawihr\", \"Tasca \\\"Regaleali\\\" Bianco Di Sicilia 2017\", \"Dom St Jean de la Cavalerie Chardonnay 2018\", \"C\\u00f4t\\u00e9 Mas Rouge 2016 PGI Pays d'Oc\", \"AIX Ros\\u00e9 2018 Coteaux d'Aix en Provence Magnum\", \"Saluti Rosso\", \"Chablis Elodie Dupr\\u00e9s 2016\", \"Dehesa Gago, Tinta de Toro 2016\", \"Definition Shiraz 2017\", \"Wolf Blass Yellow Label Cabernet Sauvignon 2017 South Australia\", \"Sassaiolo Rosso Piceno 2014 Monte Schiavo\", \"Hokum Chardonnay\"], \"legendgroup\": \"\", \"marker\": {\"color\": \"#636efa\", \"symbol\": \"circle\"}, \"mode\": \"markers\", \"name\": \"\", \"showlegend\": false, \"type\": \"scatter\", \"x\": [195.0, 320.0, 54.0, 177.0, 306.0, 313.0, 830.0, 172.0, 171.0, 334.0, 401.0, 114.0, 222.0, 280.0, 183.0, 74.0, 294.0, 266.0, 157.0, 170.0, 331.0, 129.0, 1565.0, 114.0, 545.0, 318.0, 1601.0, 101.0, 241.0, 244.0, 379.0, 332.0, 458.0, 458.0, 777.0, 186.0, 246.0, 246.0, 246.0, 241.0, 231.0, 231.0, 134.0, 155.0, 122.0, 122.0, 148.0, 181.0, 137.0, 103.0, 282.0, 251.0, 441.0, 549.0, 212.0, 216.0, 213.0, 67.0, 54.0, 219.0, 165.0, 191.0, 110.0, 379.0, 72.0, 87.0, 105.0, 49.0, 140.0, 463.0, 45.0, 76.0, 202.0, 114.0, 196.0, 155.0, 50.0, 206.0, 118.0, 406.0, 78.0, 322.0, 92.0, 112.0, 66.0, 226.0, 226.0, 63.0, 270.0, 192.0, 67.0, 226.0, 90.0, 356.0, 84.0, 84.0, 59.0, 251.0, 170.0, 136.0, 43.0, 65.0, 69.0, 209.0, 415.0, 51.0, 83.0, 175.0, 125.0, 80.0, 206.0, 204.0, 56.0, 270.0, 46.0, 142.0, 176.0, 141.0, 112.0, 80.0, 159.0, 93.0, 59.0, 94.0, 50.0, 193.0, 110.0, 98.0, 177.0, 136.0, 182.0, 194.0, 63.0, 63.0, 42.0, 70.0, 100.0, 45.0, 56.0, 195.0, 94.0, 87.0, 99.0, 152.0, 86.0, 160.0, 128.0, 92.0, 56.0, 84.0, 48.0, 233.0, 213.0, 224.0, 127.0, 43.0, 47.0, 69.0, 59.0, 152.0, 152.0, 45.0, 44.0, 104.0, 69.0, 71.0, 56.0, 49.0, 65.0, 92.0, 51.0, 43.0, 161.0, 56.0, 98.0, 133.0, 64.0, 42.0, 85.0, 70.0, 106.0, 41.0, 94.0, 122.0, 59.0, 52.0, 65.0, 50.0, 77.0, 154.0, 115.0, 51.0, 244.0, 45.0, 149.0, 103.0, 90.0, 68.0, 198.0, 94.0, 111.0, 140.0, 80.0, 41.0, 138.0, 71.0, 44.0, 161.0, 46.0, 48.0, 192.0, 93.0, 93.0, 106.0, 67.0, 41.0, 68.0, 104.0, 54.0, 65.0, 55.0, 88.0, 51.0, 78.0, 86.0, 99.0, 59.0, 49.0, 52.0, 103.0, 77.0, 130.0, 57.0, 95.0, 45.0, 98.0, 126.0, 49.0, 75.0, 113.0, 48.0, 56.0, 41.0, 92.0, 89.0, 50.0, 42.0, 168.0, 45.0, 53.0, 194.0, 54.0, 88.0, 57.0, 58.0, 58.0, 44.0, 59.0, 58.0, 116.0, 60.0, 41.0, 62.0, 70.0, 144.0, 48.0, 82.0, 56.0, 165.0, 49.0, 66.0, 44.0, 88.0, 44.0, 60.0, 95.0, 118.0, 74.0, 76.0, 68.0, 94.0, 52.0, 41.0, 130.0, 45.0, 57.0, 80.0, 98.0, 61.0, 41.0], \"xaxis\": \"x\", \"y\": [91.0, 93.0, 91.0, 92.0, 97.0, 98.0, 93.0, 86.0, 93.0, 86.0, 96.0, 96.0, 91.0, 92.0, 87.0, 95.0, 88.0, 94.0, 92.0, 91.0, 95.0, 95.0, 95.0, 92.0, 97.0, 93.0, 96.0, 96.0, 94.0, 94.0, 95.0, 94.0, 95.0, 95.0, 98.0, 94.0, 95.0, 95.0, 95.0, 90.0, 87.0, 87.0, 93.0, 94.0, 93.0, 98.0, 94.0, 97.0, 96.0, 83.0, 94.0, 93.0, 96.0, 94.0, 97.0, 94.0, 95.0, 90.0, 93.0, 92.0, 93.0, 90.0, 92.0, 93.0, 90.0, 92.0, 89.0, 86.0, 89.0, 92.0, 93.0, 96.0, 93.0, 84.0, 89.0, 92.0, 94.0, 90.0, 92.0, 96.0, 92.0, 95.0, 93.0, 91.0, 89.0, 94.0, 94.0, 97.0, 93.0, 97.0, 97.0, 93.0, 91.0, 94.0, 88.0, 92.0, 61.0, 94.0, 84.0, 96.0, 95.0, 94.0, 91.0, 85.0, 86.0, 92.0, 95.0, 94.0, 88.0, 90.0, 91.0, 96.0, 88.0, 91.0, 93.0, 94.0, 96.0, 94.0, 91.0, 91.0, 92.0, 86.0, 59.0, 96.0, 94.0, 93.0, 92.0, 94.0, 92.0, 86.0, 97.0, 92.0, 92.0, 92.0, 90.0, 97.0, 94.0, 96.0, 96.0, 89.0, 94.0, 90.0, 89.0, 91.0, 92.0, 91.0, 86.0, 85.0, 91.0, 92.0, 96.0, 89.0, 91.0, 88.0, 94.0, 88.0, 91.0, 84.0, 98.0, 95.0, 95.0, 91.0, 82.0, 94.0, 90.0, 94.0, 95.0, 78.0, 95.0, 93.0, 94.0, 86.0, 90.0, 89.0, 73.0, 91.0, 92.0, 90.0, 94.0, 91.0, 96.0, 88.0, 82.0, 90.0, 88.0, 85.0, 85.0, 88.0, 95.0, 83.0, 94.0, 90.0, 94.0, 91.0, 90.0, 94.0, 96.0, 94.0, 91.0, 87.0, 94.0, 94.0, 94.0, 95.0, 95.0, 93.0, 86.0, 88.0, 98.0, 77.0, 84.0, 83.0, 83.0, 92.0, 84.0, 93.0, 93.0, 93.0, 83.0, 97.0, 95.0, 92.0, 94.0, 90.0, 93.0, 93.0, 81.0, 86.0, 83.0, 88.0, 92.0, 89.0, 88.0, 87.0, 91.0, 98.0, 96.0, 84.0, 85.0, 95.0, 94.0, 88.0, 95.0, 87.0, 85.0, 94.0, 79.0, 92.0, 82.0, 94.0, 90.0, 78.0, 86.0, 88.0, 93.0, 86.0, 77.0, 85.0, 79.0, 84.0, 97.0, 83.0, 77.0, 89.0, 91.0, 94.0, 84.0, 84.0, 79.0, 80.0, 91.0, 93.0, 86.0, 82.0, 82.0, 87.0, 90.0, 80.0, 95.0, 90.0, 88.0, 85.0, 95.0, 69.0, 80.0, 95.0, 94.0, 84.0, 84.0, 63.0], \"yaxis\": \"y\"}],\n",
       "                        {\"height\": 600, \"legend\": {\"tracegroupgap\": 0}, \"margin\": {\"t\": 60}, \"template\": {\"data\": {\"bar\": [{\"error_x\": {\"color\": \"#2a3f5f\"}, \"error_y\": {\"color\": \"#2a3f5f\"}, \"marker\": {\"line\": {\"color\": \"#E5ECF6\", \"width\": 0.5}}, \"type\": \"bar\"}], \"barpolar\": [{\"marker\": {\"line\": {\"color\": \"#E5ECF6\", \"width\": 0.5}}, \"type\": \"barpolar\"}], \"carpet\": [{\"aaxis\": {\"endlinecolor\": \"#2a3f5f\", \"gridcolor\": \"white\", \"linecolor\": \"white\", \"minorgridcolor\": \"white\", \"startlinecolor\": \"#2a3f5f\"}, \"baxis\": {\"endlinecolor\": \"#2a3f5f\", \"gridcolor\": \"white\", \"linecolor\": \"white\", \"minorgridcolor\": \"white\", \"startlinecolor\": \"#2a3f5f\"}, \"type\": \"carpet\"}], \"choropleth\": [{\"colorbar\": {\"outlinewidth\": 0, \"ticks\": \"\"}, \"type\": \"choropleth\"}], \"contour\": [{\"colorbar\": {\"outlinewidth\": 0, \"ticks\": \"\"}, \"colorscale\": [[0.0, \"#0d0887\"], [0.1111111111111111, \"#46039f\"], [0.2222222222222222, \"#7201a8\"], [0.3333333333333333, \"#9c179e\"], [0.4444444444444444, \"#bd3786\"], [0.5555555555555556, \"#d8576b\"], [0.6666666666666666, \"#ed7953\"], [0.7777777777777778, \"#fb9f3a\"], [0.8888888888888888, \"#fdca26\"], [1.0, \"#f0f921\"]], \"type\": \"contour\"}], \"contourcarpet\": [{\"colorbar\": {\"outlinewidth\": 0, \"ticks\": \"\"}, \"type\": \"contourcarpet\"}], \"heatmap\": [{\"colorbar\": {\"outlinewidth\": 0, \"ticks\": \"\"}, \"colorscale\": [[0.0, \"#0d0887\"], [0.1111111111111111, \"#46039f\"], [0.2222222222222222, \"#7201a8\"], [0.3333333333333333, \"#9c179e\"], [0.4444444444444444, \"#bd3786\"], [0.5555555555555556, \"#d8576b\"], [0.6666666666666666, \"#ed7953\"], [0.7777777777777778, \"#fb9f3a\"], [0.8888888888888888, \"#fdca26\"], [1.0, \"#f0f921\"]], \"type\": \"heatmap\"}], \"heatmapgl\": [{\"colorbar\": {\"outlinewidth\": 0, \"ticks\": \"\"}, \"colorscale\": [[0.0, \"#0d0887\"], [0.1111111111111111, \"#46039f\"], [0.2222222222222222, \"#7201a8\"], [0.3333333333333333, \"#9c179e\"], [0.4444444444444444, \"#bd3786\"], [0.5555555555555556, \"#d8576b\"], [0.6666666666666666, \"#ed7953\"], [0.7777777777777778, \"#fb9f3a\"], [0.8888888888888888, \"#fdca26\"], [1.0, \"#f0f921\"]], \"type\": \"heatmapgl\"}], \"histogram\": [{\"marker\": {\"colorbar\": {\"outlinewidth\": 0, \"ticks\": \"\"}}, \"type\": \"histogram\"}], \"histogram2d\": [{\"colorbar\": {\"outlinewidth\": 0, \"ticks\": \"\"}, \"colorscale\": [[0.0, \"#0d0887\"], [0.1111111111111111, \"#46039f\"], [0.2222222222222222, \"#7201a8\"], [0.3333333333333333, \"#9c179e\"], [0.4444444444444444, \"#bd3786\"], [0.5555555555555556, \"#d8576b\"], [0.6666666666666666, \"#ed7953\"], [0.7777777777777778, \"#fb9f3a\"], [0.8888888888888888, \"#fdca26\"], [1.0, \"#f0f921\"]], \"type\": \"histogram2d\"}], \"histogram2dcontour\": [{\"colorbar\": {\"outlinewidth\": 0, \"ticks\": \"\"}, \"colorscale\": [[0.0, \"#0d0887\"], [0.1111111111111111, \"#46039f\"], [0.2222222222222222, \"#7201a8\"], [0.3333333333333333, \"#9c179e\"], [0.4444444444444444, \"#bd3786\"], [0.5555555555555556, \"#d8576b\"], [0.6666666666666666, \"#ed7953\"], [0.7777777777777778, \"#fb9f3a\"], [0.8888888888888888, \"#fdca26\"], [1.0, \"#f0f921\"]], \"type\": \"histogram2dcontour\"}], \"mesh3d\": [{\"colorbar\": {\"outlinewidth\": 0, \"ticks\": \"\"}, \"type\": \"mesh3d\"}], \"parcoords\": [{\"line\": {\"colorbar\": {\"outlinewidth\": 0, \"ticks\": \"\"}}, \"type\": \"parcoords\"}], \"scatter\": [{\"marker\": {\"colorbar\": {\"outlinewidth\": 0, \"ticks\": \"\"}}, \"type\": \"scatter\"}], \"scatter3d\": [{\"line\": {\"colorbar\": {\"outlinewidth\": 0, \"ticks\": \"\"}}, \"marker\": {\"colorbar\": {\"outlinewidth\": 0, \"ticks\": \"\"}}, \"type\": \"scatter3d\"}], \"scattercarpet\": [{\"marker\": {\"colorbar\": {\"outlinewidth\": 0, \"ticks\": \"\"}}, \"type\": \"scattercarpet\"}], \"scattergeo\": [{\"marker\": {\"colorbar\": {\"outlinewidth\": 0, \"ticks\": \"\"}}, \"type\": \"scattergeo\"}], \"scattergl\": [{\"marker\": {\"colorbar\": {\"outlinewidth\": 0, \"ticks\": \"\"}}, \"type\": \"scattergl\"}], \"scattermapbox\": [{\"marker\": {\"colorbar\": {\"outlinewidth\": 0, \"ticks\": \"\"}}, \"type\": \"scattermapbox\"}], \"scatterpolar\": [{\"marker\": {\"colorbar\": {\"outlinewidth\": 0, \"ticks\": \"\"}}, \"type\": \"scatterpolar\"}], \"scatterpolargl\": [{\"marker\": {\"colorbar\": {\"outlinewidth\": 0, \"ticks\": \"\"}}, \"type\": \"scatterpolargl\"}], \"scatterternary\": [{\"marker\": {\"colorbar\": {\"outlinewidth\": 0, \"ticks\": \"\"}}, \"type\": \"scatterternary\"}], \"surface\": [{\"colorbar\": {\"outlinewidth\": 0, \"ticks\": \"\"}, \"colorscale\": [[0.0, \"#0d0887\"], [0.1111111111111111, \"#46039f\"], [0.2222222222222222, \"#7201a8\"], [0.3333333333333333, \"#9c179e\"], [0.4444444444444444, \"#bd3786\"], [0.5555555555555556, \"#d8576b\"], [0.6666666666666666, \"#ed7953\"], [0.7777777777777778, \"#fb9f3a\"], [0.8888888888888888, \"#fdca26\"], [1.0, \"#f0f921\"]], \"type\": \"surface\"}], \"table\": [{\"cells\": {\"fill\": {\"color\": \"#EBF0F8\"}, \"line\": {\"color\": \"white\"}}, \"header\": {\"fill\": {\"color\": \"#C8D4E3\"}, \"line\": {\"color\": \"white\"}}, \"type\": \"table\"}]}, \"layout\": {\"annotationdefaults\": {\"arrowcolor\": \"#2a3f5f\", \"arrowhead\": 0, \"arrowwidth\": 1}, \"colorscale\": {\"diverging\": [[0, \"#8e0152\"], [0.1, \"#c51b7d\"], [0.2, \"#de77ae\"], [0.3, \"#f1b6da\"], [0.4, \"#fde0ef\"], [0.5, \"#f7f7f7\"], [0.6, \"#e6f5d0\"], [0.7, \"#b8e186\"], [0.8, \"#7fbc41\"], [0.9, \"#4d9221\"], [1, \"#276419\"]], \"sequential\": [[0.0, \"#0d0887\"], [0.1111111111111111, \"#46039f\"], [0.2222222222222222, \"#7201a8\"], [0.3333333333333333, \"#9c179e\"], [0.4444444444444444, \"#bd3786\"], [0.5555555555555556, \"#d8576b\"], [0.6666666666666666, \"#ed7953\"], [0.7777777777777778, \"#fb9f3a\"], [0.8888888888888888, \"#fdca26\"], [1.0, \"#f0f921\"]], \"sequentialminus\": [[0.0, \"#0d0887\"], [0.1111111111111111, \"#46039f\"], [0.2222222222222222, \"#7201a8\"], [0.3333333333333333, \"#9c179e\"], [0.4444444444444444, \"#bd3786\"], [0.5555555555555556, \"#d8576b\"], [0.6666666666666666, \"#ed7953\"], [0.7777777777777778, \"#fb9f3a\"], [0.8888888888888888, \"#fdca26\"], [1.0, \"#f0f921\"]]}, \"colorway\": [\"#636efa\", \"#EF553B\", \"#00cc96\", \"#ab63fa\", \"#FFA15A\", \"#19d3f3\", \"#FF6692\", \"#B6E880\", \"#FF97FF\", \"#FECB52\"], \"font\": {\"color\": \"#2a3f5f\"}, \"geo\": {\"bgcolor\": \"white\", \"lakecolor\": \"white\", \"landcolor\": \"#E5ECF6\", \"showlakes\": true, \"showland\": true, \"subunitcolor\": \"white\"}, \"hoverlabel\": {\"align\": \"left\"}, \"hovermode\": \"closest\", \"mapbox\": {\"style\": \"light\"}, \"paper_bgcolor\": \"white\", \"plot_bgcolor\": \"#E5ECF6\", \"polar\": {\"angularaxis\": {\"gridcolor\": \"white\", \"linecolor\": \"white\", \"ticks\": \"\"}, \"bgcolor\": \"#E5ECF6\", \"radialaxis\": {\"gridcolor\": \"white\", \"linecolor\": \"white\", \"ticks\": \"\"}}, \"scene\": {\"xaxis\": {\"backgroundcolor\": \"#E5ECF6\", \"gridcolor\": \"white\", \"gridwidth\": 2, \"linecolor\": \"white\", \"showbackground\": true, \"ticks\": \"\", \"zerolinecolor\": \"white\"}, \"yaxis\": {\"backgroundcolor\": \"#E5ECF6\", \"gridcolor\": \"white\", \"gridwidth\": 2, \"linecolor\": \"white\", \"showbackground\": true, \"ticks\": \"\", \"zerolinecolor\": \"white\"}, \"zaxis\": {\"backgroundcolor\": \"#E5ECF6\", \"gridcolor\": \"white\", \"gridwidth\": 2, \"linecolor\": \"white\", \"showbackground\": true, \"ticks\": \"\", \"zerolinecolor\": \"white\"}}, \"shapedefaults\": {\"line\": {\"color\": \"#2a3f5f\"}}, \"ternary\": {\"aaxis\": {\"gridcolor\": \"white\", \"linecolor\": \"white\", \"ticks\": \"\"}, \"baxis\": {\"gridcolor\": \"white\", \"linecolor\": \"white\", \"ticks\": \"\"}, \"bgcolor\": \"#E5ECF6\", \"caxis\": {\"gridcolor\": \"white\", \"linecolor\": \"white\", \"ticks\": \"\"}}, \"title\": {\"x\": 0.05}, \"xaxis\": {\"automargin\": true, \"gridcolor\": \"white\", \"linecolor\": \"white\", \"ticks\": \"\", \"zerolinecolor\": \"white\", \"zerolinewidth\": 2}, \"yaxis\": {\"automargin\": true, \"gridcolor\": \"white\", \"linecolor\": \"white\", \"ticks\": \"\", \"zerolinecolor\": \"white\", \"zerolinewidth\": 2}}}, \"xaxis\": {\"anchor\": \"y\", \"domain\": [0.0, 0.98], \"title\": {\"text\": \"Number of Reviewers\"}}, \"yaxis\": {\"anchor\": \"x\", \"domain\": [0.0, 1.0], \"title\": {\"text\": \"Percentage of reviewers who would buy again\"}}},\n",
       "                        {\"responsive\": true}\n",
       "                    ).then(function(){\n",
       "                            \n",
       "var gd = document.getElementById('af7752cc-ffeb-462d-92f1-dbf472f3b575');\n",
       "var x = new MutationObserver(function (mutations, observer) {{\n",
       "        var display = window.getComputedStyle(gd).display;\n",
       "        if (!display || display === 'none') {{\n",
       "            console.log([gd, 'removed!']);\n",
       "            Plotly.purge(gd);\n",
       "            observer.disconnect();\n",
       "        }}\n",
       "}});\n",
       "\n",
       "// Listen for the removal of the full notebook cells\n",
       "var notebookContainer = gd.closest('#notebook-container');\n",
       "if (notebookContainer) {{\n",
       "    x.observe(notebookContainer, {childList: true});\n",
       "}}\n",
       "\n",
       "// Listen for the clearing of the current output cell\n",
       "var outputEl = gd.closest('.output');\n",
       "if (outputEl) {{\n",
       "    x.observe(outputEl, {childList: true});\n",
       "}}\n",
       "\n",
       "                        })\n",
       "                };\n",
       "                });\n",
       "            </script>\n",
       "        </div>"
      ]
     },
     "metadata": {},
     "output_type": "display_data"
    }
   ],
   "source": [
    "import plotly.express as px\n",
    "fig = px.scatter(reviewer_subset, x=reviewer_subset['Number of Reviewers'], y=reviewer_subset['Percentage of reviewers who would buy again'], hover_name=reviewer_subset['Name'])\n",
    "fig.show()"
   ]
  },
  {
   "cell_type": "code",
   "execution_count": null,
   "metadata": {},
   "outputs": [],
   "source": []
  },
  {
   "cell_type": "code",
   "execution_count": null,
   "metadata": {},
   "outputs": [],
   "source": []
  },
  {
   "cell_type": "code",
   "execution_count": null,
   "metadata": {},
   "outputs": [],
   "source": []
  },
  {
   "cell_type": "code",
   "execution_count": 570,
   "metadata": {},
   "outputs": [
    {
     "data": {
      "text/plain": [
       "Text(0.5, 1.0, 'Cork Premium')"
      ]
     },
     "execution_count": 570,
     "metadata": {},
     "output_type": "execute_result"
    },
    {
     "data": {
      "image/png": "[encoded data removed]",
      "text/plain": [
       "<Figure size 432x288 with 1 Axes>"
      ]
     },
     "metadata": {},
     "output_type": "display_data"
    }
   ],
   "source": [
    "copy.groupby('Closure')['price_for_75cl'].mean().sort_values(ascending=False).plot.bar(color='b')\n",
    "plt.ylabel('Average Price Per Bottle (£)')\n",
    "plt.xticks(rotation = 45)\n",
    "plt.title('Cork Premium')\n",
    "\n",
    "\n",
    "\n",
    "\n",
    "\n",
    "\n",
    "\n",
    "\n",
    "### only 5 with synthetic corks\n"
   ]
  },
  {
   "cell_type": "code",
   "execution_count": null,
   "metadata": {},
   "outputs": [],
   "source": []
  },
  {
   "cell_type": "code",
   "execution_count": null,
   "metadata": {},
   "outputs": [],
   "source": []
  },
  {
   "cell_type": "code",
   "execution_count": null,
   "metadata": {},
   "outputs": [],
   "source": []
  },
  {
   "cell_type": "code",
   "execution_count": null,
   "metadata": {},
   "outputs": [],
   "source": []
  },
  {
   "cell_type": "code",
   "execution_count": null,
   "metadata": {},
   "outputs": [],
   "source": []
  },
  {
   "cell_type": "code",
   "execution_count": 576,
   "metadata": {},
   "outputs": [],
   "source": [
    "x = copy[copy['Awards']!=0]\n",
    "y = copy[copy['Awards']==0]"
   ]
  },
  {
   "cell_type": "code",
   "execution_count": 579,
   "metadata": {},
   "outputs": [],
   "source": [
    "#sns.distplot(x[['Percentage of reviewers who would buy again']], hist=False, color='r')\n",
    "#sns.distplot(y[['Percentage of reviewers who would buy again']], hist=False, color='g')\n",
    "#plt.xlabel('Price (£)')\n",
    "#plt.title('Price Distribution for Red and White Wine')"
   ]
  },
  {
   "cell_type": "code",
   "execution_count": null,
   "metadata": {},
   "outputs": [],
   "source": []
  },
  {
   "cell_type": "code",
   "execution_count": null,
   "metadata": {},
   "outputs": [],
   "source": []
  },
  {
   "cell_type": "code",
   "execution_count": null,
   "metadata": {},
   "outputs": [],
   "source": []
  },
  {
   "cell_type": "code",
   "execution_count": null,
   "metadata": {},
   "outputs": [],
   "source": []
  },
  {
   "cell_type": "code",
   "execution_count": null,
   "metadata": {},
   "outputs": [],
   "source": []
  },
  {
   "cell_type": "code",
   "execution_count": null,
   "metadata": {},
   "outputs": [],
   "source": []
  }
 ],
 "metadata": {
  "kernelspec": {
   "display_name": "Python 3",
   "language": "python",
   "name": "python3"
  },
  "language_info": {
   "codemirror_mode": {
    "name": "ipython",
    "version": 3
   },
   "file_extension": ".py",
   "mimetype": "text/x-python",
   "name": "python",
   "nbconvert_exporter": "python",
   "pygments_lexer": "ipython3",
   "version": "3.7.3"
  }
 },
 "nbformat": 4,
 "nbformat_minor": 2
}
